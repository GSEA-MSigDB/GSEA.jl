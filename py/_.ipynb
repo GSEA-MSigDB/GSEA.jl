{
 "cells": [
  {
   "cell_type": "markdown",
   "id": "350ebc4c",
   "metadata": {},
   "source": [
    "# Testing the GSEA enrichment statistics"
   ]
  },
  {
   "cell_type": "code",
   "execution_count": 4,
   "id": "ca71ed9b",
   "metadata": {},
   "outputs": [],
   "source": [
    "import pandas as pd\n",
    "import matplotlib.pyplot as plt\n",
    "from time import time, process_time"
   ]
  },
  {
   "cell_type": "code",
   "execution_count": 5,
   "id": "5e058c23",
   "metadata": {},
   "outputs": [],
   "source": [
    "def read_gene_sets(gmt_files):\n",
    "    # Reads one of more GMT files and returns a dictionary with gene set names as keys\n",
    "    \n",
    "    gene_sets = {}\n",
    "\n",
    "    if not isinstance(gmt_files, list):\n",
    "        gmt_files = [gmt_files]\n",
    "    \n",
    "    for file in gmt_files:\n",
    "\n",
    "        with open(file) as gsets_file:\n",
    "            for line in gsets_file:\n",
    "                line_list = line.strip().split(sep=\"\\t\")\n",
    "                gene_sets[line_list[0]] = {}\n",
    "                gene_sets[line_list[0]]['description'] = line_list[1]\n",
    "                gene_sets[line_list[0]]['genes'] = set(line_list[2:])\n",
    "                gene_sets[line_list[0]]['size'] = len(gene_sets[line_list[0]]['genes'])\n",
    "\n",
    "    return(gene_sets)"
   ]
  },
  {
   "cell_type": "markdown",
   "id": "3cd657b5",
   "metadata": {},
   "source": [
    "# Call the GSEA enrichment statistics with a simple example\n",
    "## Gene list with 20 genes and gene set with 6 genes"
   ]
  },
  {
   "cell_type": "code",
   "execution_count": 6,
   "id": "38e5ff8a",
   "metadata": {},
   "outputs": [],
   "source": [
    "Coller_et_al_scores = pd.read_csv('../GSEA_Benchmarks_2023/results/Coller_et_al//Coller_et_al_scores.txt', \n",
    "                                  index_col = 0, sep = '\\t')\n",
    "Coller_et_al_scores = Coller_et_al_scores.iloc[:, 0]\n",
    "\n",
    "gene_set = {'MYC', 'IPO4', 'NOL5A', 'EXOSC5', 'IMP4', 'NOL6'}\n",
    "\n",
    "alpha = 1.0\n",
    "\n",
    "gene_score2 = Coller_et_al_scores.iloc[0:20]\n",
    "S_h = gene_score2\n",
    "gene_list = list(S_h.index)\n",
    "I_h = pd.Series(0, index = gene_list)\n",
    "I_h.loc[list(gene_set)] = 1"
   ]
  },
  {
   "cell_type": "code",
   "execution_count": 7,
   "id": "283da5c3",
   "metadata": {},
   "outputs": [],
   "source": [
    "import pyximport\n",
    "import numpy as np\n",
    "pyximport.install(setup_args={\"include_dirs\":np.get_include(),\n",
    "                              \"extra_compile_args\": \"-O4\"}, inplace=True)\n",
    "import sys\n",
    "sys.path.insert(0, '/Users/pablotamayo/UCSD_2022/NEW_GSEA/notebooks')\n",
    "from compute_KL_PQ_enrichment import compute_KL_PQ_enrichment     \n",
    "from compute_KL_PRURm_enrichment import compute_KL_PRURm_enrichment  \n",
    "from compute_KL_PRURp_enrichment import compute_KL_PRURp_enrichment  \n",
    "from compute_KL_PR_enrichment import compute_KL_PR_enrichment    \n",
    "from compute_KS_AUC_enrichment import compute_KS_AUC_enrichment    \n",
    "from compute_KS_SUP_enrichment import compute_KS_SUP_enrichment "
   ]
  },
  {
   "cell_type": "markdown",
   "id": "029f6b9d",
   "metadata": {},
   "source": [
    "# Timings of gene set's enrichment over the entire gene list"
   ]
  },
  {
   "cell_type": "code",
   "execution_count": 8,
   "id": "b59a9e5f",
   "metadata": {},
   "outputs": [
    {
     "name": "stdout",
     "output_type": "stream",
     "text": [
      "45.9 µs ± 825 ns per loop (mean ± std. dev. of 7 runs, 10,000 loops each)\n",
      "43.8 µs ± 730 ns per loop (mean ± std. dev. of 7 runs, 10,000 loops each)\n",
      "177 µs ± 520 ns per loop (mean ± std. dev. of 7 runs, 10,000 loops each)\n",
      "178 µs ± 930 ns per loop (mean ± std. dev. of 7 runs, 10,000 loops each)\n",
      "310 µs ± 3.37 µs per loop (mean ± std. dev. of 7 runs, 1,000 loops each)\n",
      "310 µs ± 2.26 µs per loop (mean ± std. dev. of 7 runs, 1,000 loops each)\n"
     ]
    }
   ],
   "source": [
    "gene_sets = read_gene_sets('../GSEA_Benchmarks_2023/Gene_Sets_Collections/h.all.v2022.1.Hs.symbols.gmt')\n",
    "gene_set = gene_sets['HALLMARK_MYC_TARGETS_V1']['genes']\n",
    "gene_list = list(Coller_et_al_scores.index)\n",
    "gene_set = gene_set.intersection(gene_list)\n",
    "\n",
    "alpha = 1.0\n",
    "I_h = pd.Series(0, index = gene_list)\n",
    "I_h.loc[list(gene_set)] = 1\n",
    "S_h = Coller_et_al_scores\n",
    "\n",
    "%timeit Delta, ES = compute_KS_SUP_enrichment(S_h.values, I_h.values, alpha) \n",
    "%timeit Delta, ES = compute_KS_AUC_enrichment(S_h.values, I_h.values, alpha) \n",
    "%timeit Delta, ES = compute_KL_PR_enrichment(S_h.values, I_h.values, alpha) \n",
    "%timeit Delta, ES = compute_KL_PQ_enrichment(S_h.values, I_h.values, alpha) \n",
    "%timeit Delta, ES = compute_KL_PRURm_enrichment(S_h.values, I_h.values, alpha) \n",
    "%timeit Delta, ES = compute_KL_PRURp_enrichment(S_h.values, I_h.values, alpha) "
   ]
  },
  {
   "cell_type": "markdown",
   "id": "e1abd2e3",
   "metadata": {},
   "source": [
    "# Enrichment Scores"
   ]
  },
  {
   "cell_type": "code",
   "execution_count": 9,
   "id": "3162cf26",
   "metadata": {},
   "outputs": [
    {
     "name": "stdout",
     "output_type": "stream",
     "text": [
      "KS_SUP: 0.6823\n",
      "KS_AUC: 0.3988\n",
      "KL_PR: 0.7171\n",
      "KL_PQ: 0.817\n",
      "KL_PRURm: 0.3643\n",
      "KL_PRURp: 0.3528\n"
     ]
    }
   ],
   "source": [
    "Delta, ES = compute_KS_SUP_enrichment(S_h.values, I_h.values, alpha) \n",
    "print('KS_SUP: {}'.format(np.round(ES, 4)))\n",
    "Delta, ES = compute_KS_AUC_enrichment(S_h.values, I_h.values, alpha) \n",
    "print('KS_AUC: {}'.format(np.round(ES, 4)))\n",
    "Delta, ES = compute_KL_PR_enrichment(S_h.values, I_h.values, alpha) \n",
    "print('KL_PR: {}'.format(np.round(ES, 4)))\n",
    "Delta, ES = compute_KL_PQ_enrichment(S_h.values, I_h.values, alpha)\n",
    "print('KL_PQ: {}'.format(np.round(ES, 4)))\n",
    "Delta, ES = compute_KL_PRURm_enrichment(S_h.values, I_h.values, alpha) \n",
    "print('KL_PRURm: {}'.format(np.round(ES, 4)))\n",
    "Delta, ES = compute_KL_PRURp_enrichment(S_h.values, I_h.values, alpha) \n",
    "print('KL_PRURp: {}'.format(np.round(ES, 4)))"
   ]
  }
 ],
 "metadata": {
  "kernelspec": {
   "display_name": "python_3_11",
   "language": "python",
   "name": "python_3_11"
  },
  "language_info": {
   "codemirror_mode": {
    "name": "ipython",
    "version": 3
   },
   "file_extension": ".py",
   "mimetype": "text/x-python",
   "name": "python",
   "nbconvert_exporter": "python",
   "pygments_lexer": "ipython3",
   "version": "3.11.0"
  }
 },
 "nbformat": 4,
 "nbformat_minor": 5
}
