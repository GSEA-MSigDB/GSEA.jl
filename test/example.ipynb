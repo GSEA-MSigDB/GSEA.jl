{
 "cells": [
  {
   "cell_type": "code",
   "execution_count": null,
   "id": "2fc7605d",
   "metadata": {},
   "outputs": [],
   "source": [
    "using Revise\n",
    "using BenchmarkTools\n",
    "\n",
    "using Kwat\n",
    "\n",
    "using GSEA"
   ]
  },
  {
   "cell_type": "code",
   "execution_count": null,
   "id": "db9d1ad8",
   "metadata": {},
   "outputs": [],
   "source": [
    "da = joinpath(\"data\", \"\")\n",
    "\n",
    "dw = Kwat.path.get_download_directory()\n",
    "\n",
    "gm = joinpath(da, \"h.all.v7.1.symbols.gmt\")\n",
    "\n",
    ";"
   ]
  },
  {
   "cell_type": "markdown",
   "id": "41e6645d",
   "metadata": {},
   "source": [
    "## select"
   ]
  },
  {
   "cell_type": "code",
   "execution_count": null,
   "id": "0a7d05c0",
   "metadata": {},
   "outputs": [],
   "source": [
    "GSEA.select(Kwat.gmt.read(gm), 0, 32)"
   ]
  },
  {
   "cell_type": "markdown",
   "id": "b5d00575",
   "metadata": {},
   "source": [
    "## "
   ]
  },
  {
   "cell_type": "code",
   "execution_count": null,
   "id": "1137ef16",
   "metadata": {},
   "outputs": [],
   "source": [
    "se = joinpath(da, \"setting.json\")"
   ]
  },
  {
   "cell_type": "markdown",
   "id": "ac2a8251",
   "metadata": {},
   "source": [
    "## run (single-sample GSEA)"
   ]
  },
  {
   "cell_type": "code",
   "execution_count": null,
   "id": "cc3daf82",
   "metadata": {
    "scrolled": false
   },
   "outputs": [],
   "source": [
    "GSEA.run_si(se, gm, joinpath(da, \"nmf_k9_w.tsv\"), joinpath(dw, \"single_sample_gsea.tsv\"))"
   ]
  },
  {
   "cell_type": "markdown",
   "id": "e44a8246",
   "metadata": {},
   "source": [
    "## run (pre-rank GSEA)"
   ]
  },
  {
   "cell_type": "code",
   "execution_count": null,
   "id": "1c5065b4",
   "metadata": {},
   "outputs": [],
   "source": [
    "ke_ar, se_fe_, fe_sc =\n",
    "    GSEA.run_pr(se, gm, joinpath(da, \"gene_score.tsv\"), joinpath(dw, \"pre_rank_gsea\", \"\"))\n",
    "\n",
    ";"
   ]
  },
  {
   "cell_type": "code",
   "execution_count": null,
   "id": "baf73689",
   "metadata": {
    "scrolled": false
   },
   "outputs": [],
   "source": [
    "fe_sc"
   ]
  },
  {
   "cell_type": "markdown",
   "id": "7cdb52f3",
   "metadata": {},
   "source": [
    "## run (standard GSEA)"
   ]
  },
  {
   "cell_type": "code",
   "execution_count": null,
   "id": "8f6f25c9",
   "metadata": {},
   "outputs": [],
   "source": [
    "ke_ar, se_fe_, sa_va =\n",
    "    GSEA.run_st(se, gm, joinpath(da, \"sample_value.tsv\"), joinpath(dw, \"standard_gsea\", \"\"))\n",
    "\n",
    ";"
   ]
  },
  {
   "cell_type": "code",
   "execution_count": null,
   "id": "5f688236",
   "metadata": {},
   "outputs": [],
   "source": [
    "sa_va"
   ]
  }
 ],
 "metadata": {
  "@webio": {
   "lastCommId": null,
   "lastKernelId": null
  },
  "kernelspec": {
   "display_name": "Julia 1.6.3",
   "language": "julia",
   "name": "julia-1.6"
  },
  "language_info": {
   "file_extension": ".jl",
   "mimetype": "application/julia",
   "name": "julia",
   "version": "1.6.3"
  }
 },
 "nbformat": 4,
 "nbformat_minor": 5
}
