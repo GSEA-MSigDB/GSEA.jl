{
 "cells": [
  {
   "cell_type": "code",
   "execution_count": null,
   "id": "298a1e9e",
   "metadata": {},
   "outputs": [],
   "source": [
    "using Revise"
   ]
  },
  {
   "cell_type": "code",
   "execution_count": null,
   "id": "ad4fb98a",
   "metadata": {},
   "outputs": [],
   "source": [
    "TE = joinpath(tempdir(), \"Sarcopenia.test\")\n",
    "\n",
    "if isdir(TE)\n",
    "\n",
    "    rm(TE, recursive = true)\n",
    "\n",
    "    println(\"Removed \", TE, \".\")\n",
    "\n",
    "end\n",
    "\n",
    "mkdir(TE)\n",
    "\n",
    "println(\"Made \", TE, \".\")"
   ]
  },
  {
   "cell_type": "markdown",
   "id": "349c228e",
   "metadata": {},
   "source": [
    "---"
   ]
  },
  {
   "cell_type": "code",
   "execution_count": null,
   "id": "2fc7605d",
   "metadata": {},
   "outputs": [],
   "source": [
    "using OnePiece\n",
    "\n",
    "using GSEA"
   ]
  },
  {
   "cell_type": "code",
   "execution_count": null,
   "id": "f4c501a6",
   "metadata": {},
   "outputs": [],
   "source": [
    "se = joinpath(dirname(@__DIR__), \"settings.json\")\n",
    "\n",
    "ke_ar = OnePiece.extension.dict.read(se)"
   ]
  },
  {
   "cell_type": "code",
   "execution_count": null,
   "id": "461911de",
   "metadata": {},
   "outputs": [],
   "source": [
    "da = joinpath(@__DIR__, \"sarcopenia\")\n",
    "\n",
    "readdir(da)"
   ]
  },
  {
   "cell_type": "code",
   "execution_count": null,
   "id": "09b16c59",
   "metadata": {},
   "outputs": [],
   "source": [
    "ou = joinpath(TE, \"sarcopenia\")\n",
    "\n",
    ";"
   ]
  },
  {
   "cell_type": "code",
   "execution_count": null,
   "id": "b7269f7d",
   "metadata": {
    "scrolled": false
   },
   "outputs": [],
   "source": [
    "GSEA.standard(\n",
    "    se,\n",
    "    joinpath(da, \"selected.set_to_genes.json\"),\n",
    "    joinpath(da, \"target_by_sample.tsv\"),\n",
    "    joinpath(da, \"gene_by_sample.tsv\"),\n",
    "    ou,\n",
    ")\n",
    "\n",
    "readdir(ou)"
   ]
  },
  {
   "cell_type": "markdown",
   "id": "84a132c0",
   "metadata": {},
   "source": [
    "### Check set statistics"
   ]
  },
  {
   "cell_type": "code",
   "execution_count": null,
   "id": "a79ba290",
   "metadata": {},
   "outputs": [],
   "source": [
    "na = \"set_by_statistic.tsv\"\n",
    "\n",
    "ol_se_st = OnePiece.io.table.read(joinpath(da, string(ke_ar[\"permutation\"], \".\", na)))\n",
    "\n",
    "ne_se_st = OnePiece.io.table.read(joinpath(ou, na))\n",
    "\n",
    "se_ = ol_se_st[!, 1]\n",
    "\n",
    "ne_se_st = ne_se_st[indexin(se_, ne_se_st[!, 1]), :]\n",
    "\n",
    "for (nao, nan) in [\n",
    "    #[\"ES\", \"Enrichment\"],\n",
    "    [\"NOM p-val\", \"P-value\"],\n",
    "    #[\"FDR q-val\", \"Q-value\"],\n",
    "]\n",
    "\n",
    "    display(\n",
    "        OnePiece.figure.plot_x_y(\n",
    "            [ol_se_st[!, nao]],\n",
    "            [ne_se_st[!, nan]],\n",
    "            text_ = [se_],\n",
    "            mode_ = [\"markers\"],\n",
    "            la = Dict(\n",
    "                \"xaxis\" => Dict(\"title\" => Dict(\"text\" => nao)),\n",
    "                \"yaxis\" => Dict(\"title\" => Dict(\"text\" => nan)),\n",
    "            ),\n",
    "        ),\n",
    "    )\n",
    "\n",
    "end"
   ]
  },
  {
   "cell_type": "markdown",
   "id": "f730bc6f",
   "metadata": {},
   "source": [
    "### Check signal-to-noise ratio"
   ]
  },
  {
   "cell_type": "code",
   "execution_count": null,
   "id": "b87398d6",
   "metadata": {},
   "outputs": [],
   "source": [
    "na = \"gene_by_statistic.tsv\"\n",
    "\n",
    "ol_ge_st = OnePiece.io.table.read(joinpath(da, na))\n",
    "\n",
    "ne_ge_st = OnePiece.io.table.read(joinpath(ou, na))\n",
    "\n",
    "fe_nu = Dict(fe => sc for (fe, sc) in eachrow(ne_ge_st))\n",
    "\n",
    "println(\"Gene\", \"\\t\", \"Old\", \"\\t\", \"New\")\n",
    "\n",
    "di = 4\n",
    "\n",
    "n_mi = 0\n",
    "\n",
    "for (fe, ol) in eachrow(ol_ge_st)\n",
    "\n",
    "    ol = round(ol; digits = di)\n",
    "\n",
    "    nu = round(fe_nu[fe]; digits = di)\n",
    "\n",
    "    if ol != nu\n",
    "\n",
    "        println(fe, \"\\t\", ol, \"\\t\", nu)\n",
    "\n",
    "        n_mi += 1\n",
    "\n",
    "    end\n",
    "\n",
    "end\n",
    "\n",
    "n_fe = size(ol_ge_st, 1)\n",
    "\n",
    "mi = n_mi / n_fe\n",
    "\n",
    "println(\"Missed \", n_mi, \"/\", n_fe, \" scores (\", round(mi * 100; digits = di), \"%).\")\n",
    "\n",
    "@assert mi < 0.001"
   ]
  },
  {
   "cell_type": "markdown",
   "id": "5f6c761b",
   "metadata": {},
   "source": [
    "---"
   ]
  },
  {
   "cell_type": "code",
   "execution_count": null,
   "id": "3e4af1ab",
   "metadata": {
    "execution": {
     "iopub.execute_input": "2021-10-14T18:25:54.055222Z",
     "iopub.status.busy": "2021-10-14T18:25:53.342490Z",
     "iopub.status.idle": "2021-10-14T18:26:10.352867Z",
     "shell.execute_reply": "2021-10-14T18:26:10.352370Z"
    }
   },
   "outputs": [],
   "source": [
    "if isdir(TE)\n",
    "\n",
    "    rm(TE, recursive = true)\n",
    "\n",
    "    println(\"Removed \", TE, \".\")\n",
    "\n",
    "end"
   ]
  }
 ],
 "metadata": {
  "@webio": {
   "lastCommId": null,
   "lastKernelId": null
  },
  "kernelspec": {
   "display_name": "Julia 1.7.2",
   "language": "julia",
   "name": "julia-1.7"
  },
  "language_info": {
   "file_extension": ".jl",
   "mimetype": "application/julia",
   "name": "julia",
   "version": "1.7.2"
  }
 },
 "nbformat": 4,
 "nbformat_minor": 5
}
