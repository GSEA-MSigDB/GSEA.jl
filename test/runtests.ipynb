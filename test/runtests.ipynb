{
 "cells": [
  {
   "cell_type": "code",
   "execution_count": null,
   "id": "ad4fb98a",
   "metadata": {},
   "outputs": [],
   "source": [
    "TE = joinpath(tempdir(), \"GSEA.test\")\n",
    "\n",
    "if isdir(TE)\n",
    "\n",
    "    rm(TE, recursive = true)\n",
    "\n",
    "    println(\"Removed \", TE, \".\")\n",
    "\n",
    "end\n",
    "\n",
    "mkdir(TE)\n",
    "\n",
    "println(\"Made \", TE, \".\")"
   ]
  },
  {
   "cell_type": "markdown",
   "id": "349c228e",
   "metadata": {},
   "source": [
    "---"
   ]
  },
  {
   "cell_type": "code",
   "execution_count": null,
   "id": "2fc7605d",
   "metadata": {},
   "outputs": [],
   "source": [
    "using OnePiece\n",
    "\n",
    "using GSEA"
   ]
  },
  {
   "cell_type": "code",
   "execution_count": null,
   "id": "db9d1ad8",
   "metadata": {},
   "outputs": [],
   "source": [
    "da = joinpath(@__DIR__, \"data\")\n",
    "\n",
    "readdir(da)"
   ]
  },
  {
   "cell_type": "markdown",
   "id": "f78ca2fe",
   "metadata": {},
   "source": [
    "## select_set"
   ]
  },
  {
   "cell_type": "code",
   "execution_count": null,
   "id": "7496ae94",
   "metadata": {},
   "outputs": [],
   "source": [
    "js = joinpath(da, \"set_to_genes.json\")\n",
    "\n",
    "GSEA.select_set(OnePiece.extension.dict.read(js), 33, 36)"
   ]
  },
  {
   "cell_type": "markdown",
   "id": "5b886500",
   "metadata": {},
   "source": [
    "## Run GSEA"
   ]
  },
  {
   "cell_type": "code",
   "execution_count": null,
   "id": "f5eee734",
   "metadata": {},
   "outputs": [],
   "source": [
    "se = joinpath(dirname(@__DIR__), \"settings.json\")\n",
    "\n",
    "OnePiece.extension.dict.read(se)"
   ]
  },
  {
   "cell_type": "markdown",
   "id": "ac2a8251",
   "metadata": {},
   "source": [
    "### single_sample"
   ]
  },
  {
   "cell_type": "code",
   "execution_count": null,
   "id": "cb990d4f",
   "metadata": {},
   "outputs": [],
   "source": [
    "ou = joinpath(TE, \"single_sample_gsea\")\n",
    "\n",
    "mkpath(ou)\n",
    "\n",
    "GSEA.single_sample(se, js, joinpath(da, \"gene_by_sample.tsv\"), ou)\n",
    "\n",
    "readdir(ou)"
   ]
  },
  {
   "cell_type": "code",
   "execution_count": null,
   "id": "1a409648",
   "metadata": {},
   "outputs": [],
   "source": [
    "OnePiece.io.table.read(joinpath(ou, \"enrichment.set_by_sample.tsv\"))"
   ]
  },
  {
   "cell_type": "markdown",
   "id": "e44a8246",
   "metadata": {},
   "source": [
    "### pre_rank"
   ]
  },
  {
   "cell_type": "code",
   "execution_count": null,
   "id": "944ac6cc",
   "metadata": {
    "scrolled": false
   },
   "outputs": [],
   "source": [
    "ou = joinpath(TE, \"pre_rank_gsea\")\n",
    "\n",
    "mkpath(ou)\n",
    "\n",
    "GSEA.pre_rank(se, js, joinpath(da, \"gene_by_statistic.tsv\"), ou)\n",
    "\n",
    "readdir(ou)"
   ]
  },
  {
   "cell_type": "code",
   "execution_count": null,
   "id": "dc930fe6",
   "metadata": {
    "scrolled": false
   },
   "outputs": [],
   "source": [
    "OnePiece.io.table.read(joinpath(ou, \"set_by_statistic.tsv\"))"
   ]
  },
  {
   "cell_type": "markdown",
   "id": "7cdb52f3",
   "metadata": {},
   "source": [
    "### standard"
   ]
  },
  {
   "cell_type": "code",
   "execution_count": null,
   "id": "9fed88e6",
   "metadata": {
    "scrolled": false
   },
   "outputs": [],
   "source": [
    "ou = joinpath(TE, \"standard_gsea\")\n",
    "\n",
    "mkpath(ou)\n",
    "\n",
    "GSEA.standard(se, js, joinpath(da, \"target_by_sample.tsv\"), joinpath(da, \"gene_by_sample.tsv\"), ou)\n",
    "\n",
    "readdir(ou)"
   ]
  },
  {
   "cell_type": "code",
   "execution_count": null,
   "id": "1b0f65a9",
   "metadata": {
    "scrolled": false
   },
   "outputs": [],
   "source": [
    "OnePiece.io.table.read(joinpath(ou, \"set_by_statistic.tsv\"))"
   ]
  },
  {
   "cell_type": "markdown",
   "id": "cbed7d65",
   "metadata": {},
   "source": [
    "## Match sarcopenia result"
   ]
  },
  {
   "cell_type": "code",
   "execution_count": null,
   "id": "d7824bea",
   "metadata": {},
   "outputs": [],
   "source": [
    "da = joinpath(@__DIR__, \"sarcopenia\")\n",
    "\n",
    "target_by_sample_tsv = joinpath(da, \"target_by_sample.tsv\")\n",
    "\n",
    "gene_by_sample_tsv = joinpath(da, \"gene_by_sample.tsv\")\n",
    "\n",
    "readdir(da)"
   ]
  },
  {
   "cell_type": "code",
   "execution_count": null,
   "id": "ba5198b5",
   "metadata": {},
   "outputs": [],
   "source": [
    "ou = joinpath(TE, \"sarcopenia\")\n",
    "\n",
    "mkpath(ou)\n",
    "\n",
    "GSEA.standard(se, joinpath(da, \"set_to_genes.json\"), target_by_sample_tsv, gene_by_sample_tsv, ou)\n",
    "\n",
    "readdir(ou)"
   ]
  },
  {
   "cell_type": "markdown",
   "id": "b6f2b4eb",
   "metadata": {},
   "source": [
    "### Match signal-to-noise"
   ]
  },
  {
   "cell_type": "code",
   "execution_count": null,
   "id": "cf5a5ffe",
   "metadata": {},
   "outputs": [],
   "source": [
    "na = \"gene_by_statistic.tsv\"\n",
    "\n",
    "ol_ge_st = OnePiece.io.table.read(joinpath(da, na))\n",
    "\n",
    "nu_ge_st = OnePiece.io.table.read(joinpath(ou, na))\n",
    "\n",
    "fe_sc = Dict(fe => sc for (fe, sc) in eachrow(nu_ge_st))\n",
    "\n",
    "println(\"Gene\", \"\\t\", \"Old\", \"\\t\", \"New\")\n",
    "\n",
    "di = 4\n",
    "\n",
    "n_mi = 0\n",
    "\n",
    "for (id, (fe, ol)) in enumerate(eachrow(ol_ge_st))\n",
    "\n",
    "    ne = fe_sc[fe]\n",
    "\n",
    "    ol = round(ol; digits = di)\n",
    "\n",
    "    ne = round(ne; digits = di)\n",
    "\n",
    "    if ol != ne\n",
    "\n",
    "        println(fe, \"\\t\", ol, \"\\t\", ne)\n",
    "\n",
    "        n_mi += 1\n",
    "\n",
    "    end\n",
    "\n",
    "end\n",
    "\n",
    "n_fe = size(ol_ge_st)[1]\n",
    "\n",
    "mi = n_mi / n_fe\n",
    "\n",
    "println(\"Missed \", n_mi, \"/\", n_fe, \" scores (\", round(mi * 100; digits = di), \"%).\")\n",
    "\n",
    "@assert mi < 0.001"
   ]
  },
  {
   "cell_type": "markdown",
   "id": "350dc7dd",
   "metadata": {},
   "source": [
    "### Match set statistics"
   ]
  },
  {
   "cell_type": "code",
   "execution_count": null,
   "id": "b366a146",
   "metadata": {},
   "outputs": [],
   "source": [
    "nu_se_st = OnePiece.io.table.read(joinpath(ou, \"set_by_statistic.tsv\"))"
   ]
  },
  {
   "cell_type": "markdown",
   "id": "5f6c761b",
   "metadata": {},
   "source": [
    "---"
   ]
  },
  {
   "cell_type": "code",
   "execution_count": null,
   "id": "3e4af1ab",
   "metadata": {
    "execution": {
     "iopub.execute_input": "2021-10-14T18:25:54.055222Z",
     "iopub.status.busy": "2021-10-14T18:25:53.342490Z",
     "iopub.status.idle": "2021-10-14T18:26:10.352867Z",
     "shell.execute_reply": "2021-10-14T18:26:10.352370Z"
    }
   },
   "outputs": [],
   "source": [
    "if isdir(TE)\n",
    "\n",
    "    rm(TE, recursive = true)\n",
    "\n",
    "    println(\"Removed \", TE, \".\")\n",
    "\n",
    "end"
   ]
  }
 ],
 "metadata": {
  "kernelspec": {
   "display_name": "Julia 1.7.2",
   "language": "julia",
   "name": "julia-1.7"
  },
  "language_info": {
   "file_extension": ".jl",
   "mimetype": "application/julia",
   "name": "julia",
   "version": "1.7.2"
  }
 },
 "nbformat": 4,
 "nbformat_minor": 5
}
