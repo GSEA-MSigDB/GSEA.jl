{
 "cells": [
  {
   "cell_type": "code",
   "execution_count": null,
   "id": "ad4fb98a",
   "metadata": {},
   "outputs": [],
   "source": [
    "TE = joinpath(tempdir(), \"GSEA.test\")\n",
    "\n",
    "if isdir(TE)\n",
    "\n",
    "    rm(TE; recursive = true)\n",
    "\n",
    "    println(\"Removed \", TE, \".\")\n",
    "\n",
    "end\n",
    "\n",
    "mkdir(TE)\n",
    "\n",
    "println(\"Made \", TE, \".\")"
   ]
  },
  {
   "cell_type": "markdown",
   "id": "349c228e",
   "metadata": {},
   "source": [
    "---"
   ]
  },
  {
   "cell_type": "code",
   "execution_count": null,
   "id": "2fc7605d",
   "metadata": {},
   "outputs": [],
   "source": [
    "using OnePiece\n",
    "\n",
    "using GSEA"
   ]
  },
  {
   "cell_type": "code",
   "execution_count": null,
   "id": "db9d1ad8",
   "metadata": {},
   "outputs": [],
   "source": [
    "da = joinpath(@__DIR__, \"data\")\n",
    "\n",
    "se = joinpath(da, \"h.all.v7.1.symbols.gmt\")\n",
    "\n",
    ";"
   ]
  },
  {
   "cell_type": "markdown",
   "id": "f78ca2fe",
   "metadata": {},
   "source": [
    "## select_set"
   ]
  },
  {
   "cell_type": "code",
   "execution_count": null,
   "id": "7496ae94",
   "metadata": {},
   "outputs": [],
   "source": [
    "GSEA.select_set(OnePiece.io.gmt.read(se), 33, 36)"
   ]
  },
  {
   "cell_type": "markdown",
   "id": "67f44741",
   "metadata": {},
   "source": [
    "## read_set"
   ]
  },
  {
   "cell_type": "code",
   "execution_count": null,
   "id": "fd4fb9e6",
   "metadata": {},
   "outputs": [],
   "source": [
    "GSEA.read_set(se, Dict(\"mi\" => 33, \"ma\" => 36))"
   ]
  },
  {
   "cell_type": "markdown",
   "id": "ac2a8251",
   "metadata": {},
   "source": [
    "## run_single_sample_gsea"
   ]
  },
  {
   "cell_type": "code",
   "execution_count": null,
   "id": "20a658ad",
   "metadata": {},
   "outputs": [],
   "source": [
    "ou = joinpath(TE, \"single_sample_gsea.tsv\")\n",
    "\n",
    "GSEA.run_single_sample_gsea(\n",
    "    joinpath(da, \"setting\", \"single_sample_gsea.json\"),\n",
    "    se,\n",
    "    joinpath(da, \"nmf_k9_w.tsv\"),\n",
    "    ou,\n",
    ")\n",
    "\n",
    "readdir(TE)"
   ]
  },
  {
   "cell_type": "markdown",
   "id": "e44a8246",
   "metadata": {},
   "source": [
    "## run_pre_rank_gsea"
   ]
  },
  {
   "cell_type": "code",
   "execution_count": null,
   "id": "91ecd6a7",
   "metadata": {},
   "outputs": [],
   "source": [
    "ou = joinpath(TE, \"pre_rank_gsea\")\n",
    "\n",
    "mkdir(ou)\n",
    "\n",
    "GSEA.run_pre_rank_gsea(\n",
    "    joinpath(da, \"setting\", \"pre_rank_gsea.json\"),\n",
    "    se,\n",
    "    joinpath(da, \"gene_score.tsv\"),\n",
    "    ou,\n",
    ")\n",
    "\n",
    "readdir(ou)"
   ]
  },
  {
   "cell_type": "markdown",
   "id": "7cdb52f3",
   "metadata": {},
   "source": [
    "## run_standard_gsea"
   ]
  },
  {
   "cell_type": "code",
   "execution_count": null,
   "id": "1b0f65a9",
   "metadata": {},
   "outputs": [],
   "source": [
    "ou = joinpath(TE, \"standard_gsea\")\n",
    "\n",
    "mkdir(ou)\n",
    "\n",
    "GSEA.run_standard_gsea(\n",
    "    joinpath(da, \"setting\", \"standard_gsea.json\"),\n",
    "    se,\n",
    "    joinpath(da, \"sample_value.tsv\"),\n",
    "    joinpath(da, \"nmf_k9_w.tsv\"),\n",
    "    ou,\n",
    ")\n",
    "\n",
    "readdir(ou)"
   ]
  },
  {
   "cell_type": "markdown",
   "id": "1addab08",
   "metadata": {},
   "source": [
    "## convert_gct_and_cls"
   ]
  },
  {
   "cell_type": "code",
   "execution_count": null,
   "id": "754522c4",
   "metadata": {},
   "outputs": [],
   "source": [
    "di = joinpath(da, \"sarcopenia\")\n",
    "\n",
    "gc = joinpath(\n",
    "    di,\n",
    "    \"gse111016_allsamplescounts_htseqcov1_sss_forgeo.sarcopenia.vs.normal_counts_collapsed_to_symbols.gct\",\n",
    ")\n",
    "\n",
    "cl = joinpath(di, \"sarcopenia_binary.cls\")\n",
    "\n",
    "GSEA.convert_gct_and_cls(gc, cl, TE)\n",
    "\n",
    "readdir(di)"
   ]
  },
  {
   "cell_type": "markdown",
   "id": "820cfe4d",
   "metadata": {},
   "source": [
    "## convert_gmt"
   ]
  },
  {
   "cell_type": "code",
   "execution_count": null,
   "id": "e65cfe93",
   "metadata": {},
   "outputs": [],
   "source": [
    "gm = joinpath(di, \"c2.cp.wikipathways.v7.4.symbols.gmt\")\n",
    "\n",
    "js = joinpath(TE, \"set_to_genes.json\")\n",
    "\n",
    "GSEA.convert_gmt(gm, js)\n",
    "\n",
    "readdir(di)"
   ]
  },
  {
   "cell_type": "markdown",
   "id": "5f6c761b",
   "metadata": {},
   "source": [
    "---"
   ]
  },
  {
   "cell_type": "code",
   "execution_count": null,
   "id": "3e4af1ab",
   "metadata": {
    "execution": {
     "iopub.execute_input": "2021-10-14T18:25:54.055222Z",
     "iopub.status.busy": "2021-10-14T18:25:53.342490Z",
     "iopub.status.idle": "2021-10-14T18:26:10.352867Z",
     "shell.execute_reply": "2021-10-14T18:26:10.352370Z"
    }
   },
   "outputs": [],
   "source": [
    "if isdir(TE)\n",
    "\n",
    "    rm(TE; recursive = true)\n",
    "\n",
    "    println(\"Removed \", TE, \".\")\n",
    "\n",
    "end"
   ]
  }
 ],
 "metadata": {
  "kernelspec": {
   "display_name": "Julia 1.7.2",
   "language": "julia",
   "name": "julia-1.7"
  },
  "language_info": {
   "file_extension": ".jl",
   "mimetype": "application/julia",
   "name": "julia",
   "version": "1.7.2"
  }
 },
 "nbformat": 4,
 "nbformat_minor": 5
}
