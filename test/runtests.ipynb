{
 "cells": [
  {
   "cell_type": "code",
   "execution_count": null,
   "id": "ad4fb98a",
   "metadata": {},
   "outputs": [],
   "source": [
    "TE = joinpath(homedir(), \"Downloads\", \"GSEA.test\", \"\")\n",
    "\n",
    "if isdir(TE)\n",
    "\n",
    "    rm(TE; recursive = true)\n",
    "\n",
    "end\n",
    "\n",
    "mkdir(TE)\n",
    "\n",
    "println(\"Made \", TE, \".\")"
   ]
  },
  {
   "cell_type": "code",
   "execution_count": null,
   "id": "34e4701e",
   "metadata": {},
   "outputs": [],
   "source": [
    "using Revise\n",
    "using BenchmarkTools"
   ]
  },
  {
   "cell_type": "markdown",
   "id": "349c228e",
   "metadata": {},
   "source": [
    "---"
   ]
  },
  {
   "cell_type": "code",
   "execution_count": null,
   "id": "2fc7605d",
   "metadata": {},
   "outputs": [],
   "source": [
    "using GMTAccess\n",
    "using TableAccess\n",
    "\n",
    "using GSEA"
   ]
  },
  {
   "cell_type": "code",
   "execution_count": null,
   "id": "db9d1ad8",
   "metadata": {},
   "outputs": [],
   "source": [
    "da = joinpath(\"data\", \"\")\n",
    "\n",
    "gm = joinpath(da, \"h.all.v7.1.symbols.gmt\")\n",
    "\n",
    ";"
   ]
  },
  {
   "cell_type": "markdown",
   "id": "67f44741",
   "metadata": {},
   "source": [
    "## read_set"
   ]
  },
  {
   "cell_type": "code",
   "execution_count": null,
   "id": "fd4fb9e6",
   "metadata": {},
   "outputs": [],
   "source": [
    "read_set(gm, Dict(\"mi\" => 33, \"ma\" => 36))"
   ]
  },
  {
   "cell_type": "markdown",
   "id": "41e6645d",
   "metadata": {},
   "source": [
    "## select_set"
   ]
  },
  {
   "cell_type": "code",
   "execution_count": null,
   "id": "0a7d05c0",
   "metadata": {},
   "outputs": [],
   "source": [
    "select_set(GMTAccess.read(gm), 33, 36)"
   ]
  },
  {
   "cell_type": "markdown",
   "id": "b5d00575",
   "metadata": {},
   "source": [
    "## "
   ]
  },
  {
   "cell_type": "markdown",
   "id": "ac2a8251",
   "metadata": {},
   "source": [
    "## run_single_sample_gsea"
   ]
  },
  {
   "cell_type": "code",
   "execution_count": null,
   "id": "20a658ad",
   "metadata": {},
   "outputs": [],
   "source": [
    "ou = joinpath(TE, \"single_sample_gsea.tsv\")\n",
    "\n",
    ";"
   ]
  },
  {
   "cell_type": "code",
   "execution_count": null,
   "id": "cc3daf82",
   "metadata": {
    "scrolled": false
   },
   "outputs": [],
   "source": [
    "en_se_sa = run_single_sample_gsea(\n",
    "    joinpath(da, \"setting_for_single_sample_gsea.json\"),\n",
    "    gm,\n",
    "    joinpath(da, \"nmf_k9_w.tsv\"),\n",
    "    ou,\n",
    ")"
   ]
  },
  {
   "cell_type": "code",
   "execution_count": null,
   "id": "7f8b2302",
   "metadata": {},
   "outputs": [],
   "source": [
    "TableAccess.read(ou)"
   ]
  },
  {
   "cell_type": "markdown",
   "id": "e44a8246",
   "metadata": {},
   "source": [
    "## run_pre_rank_gsea"
   ]
  },
  {
   "cell_type": "code",
   "execution_count": null,
   "id": "22e7ced6",
   "metadata": {},
   "outputs": [],
   "source": [
    "ou = joinpath(TE, \"pre_rank_gsea\", \"\")\n",
    "\n",
    "mkdir(ou)\n",
    "\n",
    ";"
   ]
  },
  {
   "cell_type": "code",
   "execution_count": null,
   "id": "cc524d78",
   "metadata": {},
   "outputs": [],
   "source": [
    "fl_se_st = run_pre_rank_gsea(\n",
    "    joinpath(da, \"setting_for_pre_rank_gsea.json\"),\n",
    "    gm,\n",
    "    joinpath(da, \"gene_score.tsv\"),\n",
    "    ou,\n",
    ")"
   ]
  },
  {
   "cell_type": "markdown",
   "id": "7cdb52f3",
   "metadata": {},
   "source": [
    "## run_standard_gses"
   ]
  },
  {
   "cell_type": "code",
   "execution_count": null,
   "id": "1b0f65a9",
   "metadata": {},
   "outputs": [],
   "source": [
    "ou = joinpath(TE, \"standard_gsea\", \"\")\n",
    "\n",
    ";"
   ]
  },
  {
   "cell_type": "code",
   "execution_count": null,
   "id": "8f6f25c9",
   "metadata": {},
   "outputs": [],
   "source": [
    "ke_ar, se_fe_, sa_va, sc_fe_sa = run_standard_gsea(\n",
    "    joinpath(da, \"setting_for_standard_gsea.json\"),\n",
    "    gm,\n",
    "    joinpath(da, \"sample_value.tsv\"),\n",
    "    joinpath(da, \"nmf_k9_w.tsv\"),\n",
    "    ou,\n",
    ")\n",
    "\n",
    ";"
   ]
  },
  {
   "cell_type": "code",
   "execution_count": null,
   "id": "5f688236",
   "metadata": {},
   "outputs": [],
   "source": [
    "sa_va"
   ]
  },
  {
   "cell_type": "code",
   "execution_count": null,
   "id": "2790810b",
   "metadata": {},
   "outputs": [],
   "source": [
    "sc_fe_sa"
   ]
  },
  {
   "cell_type": "markdown",
   "id": "5f6c761b",
   "metadata": {},
   "source": [
    "---"
   ]
  },
  {
   "cell_type": "code",
   "execution_count": null,
   "id": "242e1d4b",
   "metadata": {},
   "outputs": [],
   "source": [
    "rm(TE; recursive = true)\n",
    "\n",
    "println(\"Removed \", TE, \".\")"
   ]
  }
 ],
 "metadata": {
  "@webio": {
   "lastCommId": "e7900da13d5f42688ec6e61bab288550",
   "lastKernelId": "07f64b32-d960-48c4-832b-25bd096eb75d"
  },
  "kernelspec": {
   "display_name": "Julia 1.6.3",
   "language": "julia",
   "name": "julia-1.6"
  },
  "language_info": {
   "file_extension": ".jl",
   "mimetype": "application/julia",
   "name": "julia",
   "version": "1.6.3"
  }
 },
 "nbformat": 4,
 "nbformat_minor": 5
}
