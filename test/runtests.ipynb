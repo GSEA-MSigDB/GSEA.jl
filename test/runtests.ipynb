{
 "cells": [
  {
   "cell_type": "code",
   "execution_count": null,
   "id": "ad4fb98a",
   "metadata": {},
   "outputs": [],
   "source": [
    "TE = joinpath(tempdir(), \"GSEA.test\")\n",
    "\n",
    "if isdir(TE)\n",
    "\n",
    "    rm(TE; recursive = true)\n",
    "\n",
    "    println(\"Removed \", TE, \".\")\n",
    "\n",
    "end\n",
    "\n",
    "mkdir(TE)\n",
    "\n",
    "println(\"Made \", TE, \".\")"
   ]
  },
  {
   "cell_type": "markdown",
   "id": "349c228e",
   "metadata": {},
   "source": [
    "---"
   ]
  },
  {
   "cell_type": "code",
   "execution_count": null,
   "id": "2fc7605d",
   "metadata": {},
   "outputs": [],
   "source": [
    "using OnePiece\n",
    "\n",
    "using GSEA"
   ]
  },
  {
   "cell_type": "code",
   "execution_count": null,
   "id": "db9d1ad8",
   "metadata": {},
   "outputs": [],
   "source": [
    "da = joinpath(@__DIR__, \"data\")\n",
    "\n",
    "readdir(da)"
   ]
  },
  {
   "cell_type": "code",
   "execution_count": null,
   "id": "23541d5d",
   "metadata": {},
   "outputs": [],
   "source": [
    "js = joinpath(TE, \"set_to_genes.json\")\n",
    "\n",
    ";"
   ]
  },
  {
   "cell_type": "markdown",
   "id": "3c87742e",
   "metadata": {},
   "source": [
    "## convert_"
   ]
  },
  {
   "cell_type": "markdown",
   "id": "eb64cf7b",
   "metadata": {},
   "source": [
    "### convert_gmt"
   ]
  },
  {
   "cell_type": "code",
   "execution_count": null,
   "id": "7828c2dd",
   "metadata": {},
   "outputs": [],
   "source": [
    "GSEA.convert_gmt(joinpath(da, \"h.all.v7.1.symbols.gmt\"), js)\n",
    "\n",
    "se_fe_ = OnePiece.extension.dict.read(js)"
   ]
  },
  {
   "cell_type": "markdown",
   "id": "b0acfafc",
   "metadata": {},
   "source": [
    "### convert_gct_and_cls"
   ]
  },
  {
   "cell_type": "code",
   "execution_count": null,
   "id": "621626ac",
   "metadata": {},
   "outputs": [],
   "source": [
    "di = joinpath(da, \"sarcopenia\")\n",
    "\n",
    "GSEA.convert_gct_and_cls(\n",
    "    joinpath(\n",
    "        di,\n",
    "        \"gse111016_allsamplescounts_htseqcov1_sss_forgeo.sarcopenia.vs.normal_counts_collapsed_to_symbols.gct\",\n",
    "    ),\n",
    "    joinpath(di, \"sarcopenia_binary.cls\"),\n",
    "    TE,\n",
    ")"
   ]
  },
  {
   "cell_type": "code",
   "execution_count": null,
   "id": "c34432cd",
   "metadata": {},
   "outputs": [],
   "source": [
    "OnePiece.io.table.read(joinpath(TE, \"target_by_sample.tsv\"))"
   ]
  },
  {
   "cell_type": "code",
   "execution_count": null,
   "id": "8f0df316",
   "metadata": {},
   "outputs": [],
   "source": [
    "OnePiece.io.table.read(joinpath(TE, \"gene_by_sample.tsv\"))"
   ]
  },
  {
   "cell_type": "markdown",
   "id": "f78ca2fe",
   "metadata": {},
   "source": [
    "## select_set"
   ]
  },
  {
   "cell_type": "code",
   "execution_count": null,
   "id": "7496ae94",
   "metadata": {},
   "outputs": [],
   "source": [
    "GSEA.select_set(OnePiece.extension.dict.read(js), 33, 36)"
   ]
  },
  {
   "cell_type": "markdown",
   "id": "5b886500",
   "metadata": {},
   "source": [
    "## run_*_gsea"
   ]
  },
  {
   "cell_type": "markdown",
   "id": "ac2a8251",
   "metadata": {},
   "source": [
    "### run_single_sample_gsea"
   ]
  },
  {
   "cell_type": "code",
   "execution_count": null,
   "id": "cb990d4f",
   "metadata": {},
   "outputs": [],
   "source": [
    "ou = joinpath(TE, \"single_sample_gsea\")\n",
    "\n",
    "mkpath(ou)\n",
    "\n",
    "GSEA.run_single_sample_gsea(\n",
    "    joinpath(da, \"setting\", \"single_sample_gsea.json\"),\n",
    "    js,\n",
    "    joinpath(da, \"nmf_k9_w.tsv\"),\n",
    "    ou,\n",
    ")\n",
    "\n",
    "readdir(ou)"
   ]
  },
  {
   "cell_type": "code",
   "execution_count": null,
   "id": "1a409648",
   "metadata": {},
   "outputs": [],
   "source": [
    "OnePiece.io.table.read(joinpath(ou, GSEA.OU))"
   ]
  },
  {
   "cell_type": "markdown",
   "id": "e44a8246",
   "metadata": {},
   "source": [
    "### run_pre_rank_gsea"
   ]
  },
  {
   "cell_type": "code",
   "execution_count": null,
   "id": "944ac6cc",
   "metadata": {},
   "outputs": [],
   "source": [
    "ou = joinpath(TE, \"pre_rank_gsea\")\n",
    "\n",
    "mkpath(ou)\n",
    "\n",
    "GSEA.run_pre_rank_gsea(\n",
    "    joinpath(da, \"setting\", \"pre_rank_gsea.json\"),\n",
    "    js,\n",
    "    joinpath(da, \"gene_score.tsv\"),\n",
    "    ou,\n",
    ")\n",
    "\n",
    "readdir(ou)"
   ]
  },
  {
   "cell_type": "code",
   "execution_count": null,
   "id": "dc930fe6",
   "metadata": {
    "scrolled": false
   },
   "outputs": [],
   "source": [
    "OnePiece.io.table.read(joinpath(ou, GSEA.OU))"
   ]
  },
  {
   "cell_type": "markdown",
   "id": "7cdb52f3",
   "metadata": {},
   "source": [
    "### run_standard_gsea"
   ]
  },
  {
   "cell_type": "code",
   "execution_count": null,
   "id": "9fed88e6",
   "metadata": {},
   "outputs": [],
   "source": [
    "ou = joinpath(TE, \"standard_gsea\")\n",
    "\n",
    "mkpath(ou)\n",
    "\n",
    "GSEA.run_standard_gsea(\n",
    "    joinpath(da, \"setting\", \"standard_gsea.json\"),\n",
    "    js,\n",
    "    joinpath(da, \"sample_value.tsv\"),\n",
    "    joinpath(da, \"nmf_k9_w.tsv\"),\n",
    "    ou,\n",
    ")\n",
    "\n",
    "readdir(ou)"
   ]
  },
  {
   "cell_type": "code",
   "execution_count": null,
   "id": "1b0f65a9",
   "metadata": {
    "scrolled": false
   },
   "outputs": [],
   "source": [
    "OnePiece.io.table.read(joinpath(ou, GSEA.OU))"
   ]
  },
  {
   "cell_type": "markdown",
   "id": "5f6c761b",
   "metadata": {},
   "source": [
    "---"
   ]
  },
  {
   "cell_type": "code",
   "execution_count": null,
   "id": "3e4af1ab",
   "metadata": {
    "execution": {
     "iopub.execute_input": "2021-10-14T18:25:54.055222Z",
     "iopub.status.busy": "2021-10-14T18:25:53.342490Z",
     "iopub.status.idle": "2021-10-14T18:26:10.352867Z",
     "shell.execute_reply": "2021-10-14T18:26:10.352370Z"
    }
   },
   "outputs": [],
   "source": [
    "if isdir(TE)\n",
    "\n",
    "    rm(TE; recursive = true)\n",
    "\n",
    "    println(\"Removed \", TE, \".\")\n",
    "\n",
    "end"
   ]
  }
 ],
 "metadata": {
  "kernelspec": {
   "display_name": "Julia 1.7.2",
   "language": "julia",
   "name": "julia-1.7"
  },
  "language_info": {
   "file_extension": ".jl",
   "mimetype": "application/julia",
   "name": "julia",
   "version": "1.7.2"
  }
 },
 "nbformat": 4,
 "nbformat_minor": 5
}
