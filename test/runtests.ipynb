{
 "cells": [
  {
   "cell_type": "code",
   "execution_count": null,
   "id": "ad4fb98a",
   "metadata": {},
   "outputs": [],
   "source": [
    "TE = joinpath(tempdir(), \"GSEA.test\")\n",
    "\n",
    "if isdir(TE)\n",
    "\n",
    "    rm(TE; recursive = true)\n",
    "\n",
    "    println(\"Removed \", TE, \".\")\n",
    "\n",
    "end\n",
    "\n",
    "mkdir(TE)\n",
    "\n",
    "println(\"Made \", TE, \".\")"
   ]
  },
  {
   "cell_type": "code",
   "execution_count": 2,
   "id": "2b0f3e82",
   "metadata": {},
   "outputs": [],
   "source": [
    "#using Revise"
   ]
  },
  {
   "cell_type": "markdown",
   "id": "349c228e",
   "metadata": {},
   "source": [
    "---"
   ]
  },
  {
   "cell_type": "code",
   "execution_count": 3,
   "id": "2fc7605d",
   "metadata": {},
   "outputs": [
    {
     "name": "stderr",
     "output_type": "stream",
     "text": [
      "┌ Info: Precompiling GSEA [f74a9ba8-6f1f-48f2-98b6-a79c46cc06f7]\n",
      "└ @ Base loading.jl:1423\n",
      "\u001b[91m\u001b[1mERROR: \u001b[22m\u001b[39mLoadError: ArgumentError: can't repeat a string -51 times\n",
      "Stacktrace:\n",
      "  [1] \u001b[0m\u001b[1mrepeat\u001b[22m\u001b[0m\u001b[1m(\u001b[22m\u001b[90ms\u001b[39m::\u001b[0mString, \u001b[90mr\u001b[39m::\u001b[0mInt64\u001b[0m\u001b[1m)\u001b[22m\n",
      "\u001b[90m    @ \u001b[39m\u001b[90mBase\u001b[39m \u001b[90m./strings/\u001b[39m\u001b[90m\u001b[4msubstring.jl:226\u001b[24m\u001b[39m\n",
      "  [2] \u001b[0m\u001b[1m^\u001b[22m\n",
      "\u001b[90m    @ \u001b[39m\u001b[90m./strings/\u001b[39m\u001b[90m\u001b[4mbasic.jl:721\u001b[24m\u001b[39m\u001b[90m [inlined]\u001b[39m\n",
      "  [3] \u001b[0m\u001b[1mtab\u001b[22m\n",
      "\u001b[90m    @ \u001b[39m\u001b[90m~/.julia/packages/Comonicon/ryWxf/src/ast/\u001b[39m\u001b[90m\u001b[4mprinting.jl:1\u001b[24m\u001b[39m\u001b[90m [inlined]\u001b[39m\n",
      "  [4] \u001b[0m\u001b[1mprint_indent_content\u001b[22m\u001b[0m\u001b[1m(\u001b[22m\u001b[90mio\u001b[39m::\u001b[0mIOContext\u001b[90m{IOBuffer}\u001b[39m, \u001b[90mtext\u001b[39m::\u001b[0mString, \u001b[90mt\u001b[39m::\u001b[0mComonicon.AST.Terminal, \u001b[90mfirstline\u001b[39m::\u001b[0mInt64\u001b[0m\u001b[1m)\u001b[22m\n",
      "\u001b[90m    @ \u001b[39m\u001b[35mComonicon.AST\u001b[39m \u001b[90m~/.julia/packages/Comonicon/ryWxf/src/ast/\u001b[39m\u001b[90m\u001b[4mprinting.jl:234\u001b[24m\u001b[39m\n",
      "  [5] \u001b[0m\u001b[1mprint_sig_brief\u001b[22m\u001b[0m\u001b[1m(\u001b[22m\u001b[90mio\u001b[39m::\u001b[0mIOContext\u001b[90m{IOBuffer}\u001b[39m, \u001b[90mcmd\u001b[39m::\u001b[0mComonicon.AST.LeafCommand, \u001b[90mt\u001b[39m::\u001b[0mComonicon.AST.Terminal\u001b[0m\u001b[1m)\u001b[22m\n",
      "\u001b[90m    @ \u001b[39m\u001b[35mComonicon.AST\u001b[39m \u001b[90m~/.julia/packages/Comonicon/ryWxf/src/ast/\u001b[39m\u001b[90m\u001b[4mprinting.jl:226\u001b[24m\u001b[39m\n",
      "  [6] \u001b[0m\u001b[1mprint_body\u001b[22m\u001b[0m\u001b[1m(\u001b[22m\u001b[90mio\u001b[39m::\u001b[0mIOContext\u001b[90m{IOBuffer}\u001b[39m, \u001b[90mcmd\u001b[39m::\u001b[0mComonicon.AST.NodeCommand, \u001b[90mt\u001b[39m::\u001b[0mComonicon.AST.Terminal\u001b[0m\u001b[1m)\u001b[22m\n",
      "\u001b[90m    @ \u001b[39m\u001b[35mComonicon.AST\u001b[39m \u001b[90m~/.julia/packages/Comonicon/ryWxf/src/ast/\u001b[39m\u001b[90m\u001b[4mprinting.jl:170\u001b[24m\u001b[39m\n",
      "  [7] \u001b[0m\u001b[1mprint_cmd\u001b[22m\u001b[0m\u001b[1m(\u001b[22m\u001b[90mio\u001b[39m::\u001b[0mIOContext\u001b[90m{IOBuffer}\u001b[39m, \u001b[90mcmd\u001b[39m::\u001b[0mComonicon.AST.NodeCommand, \u001b[90mt\u001b[39m::\u001b[0mComonicon.AST.Terminal\u001b[0m\u001b[1m)\u001b[22m\n",
      "\u001b[90m    @ \u001b[39m\u001b[35mComonicon.AST\u001b[39m \u001b[90m~/.julia/packages/Comonicon/ryWxf/src/ast/\u001b[39m\u001b[90m\u001b[4mprinting.jl:103\u001b[24m\u001b[39m\n",
      "  [8] \u001b[0m\u001b[1mprint_cmd\u001b[22m\u001b[0m\u001b[1m(\u001b[22m\u001b[90mio\u001b[39m::\u001b[0mIOContext\u001b[90m{IOBuffer}\u001b[39m, \u001b[90mcmd\u001b[39m::\u001b[0mComonicon.AST.NodeCommand\u001b[0m\u001b[1m)\u001b[22m\n",
      "\u001b[90m    @ \u001b[39m\u001b[35mComonicon.AST\u001b[39m \u001b[90m~/.julia/packages/Comonicon/ryWxf/src/ast/\u001b[39m\u001b[90m\u001b[4mprinting.jl:47\u001b[24m\u001b[39m\n",
      "  [9] \u001b[0m\u001b[1msprint\u001b[22m\u001b[0m\u001b[1m(\u001b[22m\u001b[90mf\u001b[39m::\u001b[0mFunction, \u001b[90margs\u001b[39m::\u001b[0mComonicon.AST.NodeCommand; \u001b[90mcontext\u001b[39m::\u001b[0mTuple\u001b[90m{Pair{Symbol, Bool}, Pair{Symbol, Tuple{Int64, Int64}}}\u001b[39m, \u001b[90msizehint\u001b[39m::\u001b[0mInt64\u001b[0m\u001b[1m)\u001b[22m\n",
      "\u001b[90m    @ \u001b[39m\u001b[90mBase\u001b[39m \u001b[90m./strings/\u001b[39m\u001b[90m\u001b[4mio.jl:110\u001b[24m\u001b[39m\n",
      " [10] \u001b[0m\u001b[1m#help_str#1\u001b[22m\n",
      "\u001b[90m    @ \u001b[39m\u001b[90m~/.julia/packages/Comonicon/ryWxf/src/codegen/\u001b[39m\u001b[90m\u001b[4mjulia.jl:8\u001b[24m\u001b[39m\u001b[90m [inlined]\u001b[39m\n",
      " [11] \u001b[0m\u001b[1mprint_help_str\u001b[22m\u001b[0m\u001b[1m(\u001b[22m\u001b[90mx\u001b[39m::\u001b[0mComonicon.AST.NodeCommand, \u001b[90mconfigs\u001b[39m::\u001b[0mComonicon.JuliaExpr.Configs\u001b[0m\u001b[1m)\u001b[22m\n",
      "\u001b[90m    @ \u001b[39m\u001b[35mComonicon.JuliaExpr\u001b[39m \u001b[90m~/.julia/packages/Comonicon/ryWxf/src/codegen/\u001b[39m\u001b[90m\u001b[4mjulia.jl:22\u001b[24m\u001b[39m\n",
      " [12] \u001b[0m\u001b[1memit_error\u001b[22m\u001b[0m\u001b[1m(\u001b[22m\u001b[90mcmd\u001b[39m::\u001b[0mComonicon.AST.NodeCommand, \u001b[90mconfigs\u001b[39m::\u001b[0mComonicon.JuliaExpr.Configs, \u001b[90mmsg\u001b[39m::\u001b[0mString; \u001b[90mcolor\u001b[39m::\u001b[0mBool\u001b[0m\u001b[1m)\u001b[22m\n",
      "\u001b[90m    @ \u001b[39m\u001b[35mComonicon.JuliaExpr\u001b[39m \u001b[90m~/.julia/packages/Comonicon/ryWxf/src/codegen/\u001b[39m\u001b[90m\u001b[4mjulia.jl:39\u001b[24m\u001b[39m\n",
      " [13] \u001b[0m\u001b[1memit_error\u001b[22m\n",
      "\u001b[90m    @ \u001b[39m\u001b[90m~/.julia/packages/Comonicon/ryWxf/src/codegen/\u001b[39m\u001b[90m\u001b[4mjulia.jl:38\u001b[24m\u001b[39m\u001b[90m [inlined]\u001b[39m\n",
      " [14] \u001b[0m\u001b[1memit_body\u001b[22m\u001b[0m\u001b[1m(\u001b[22m\u001b[90mcmd\u001b[39m::\u001b[0mComonicon.AST.NodeCommand, \u001b[90mconfigs\u001b[39m::\u001b[0mComonicon.JuliaExpr.Configs, \u001b[90mptr\u001b[39m::\u001b[0mInt64\u001b[0m\u001b[1m)\u001b[22m\n",
      "\u001b[90m    @ \u001b[39m\u001b[35mComonicon.JuliaExpr\u001b[39m \u001b[90m~/.julia/packages/Comonicon/ryWxf/src/codegen/\u001b[39m\u001b[90m\u001b[4mjulia.jl:110\u001b[24m\u001b[39m\n",
      " [15] \u001b[0m\u001b[1memit\u001b[22m\u001b[0m\u001b[1m(\u001b[22m\u001b[90mcmd\u001b[39m::\u001b[0mComonicon.AST.Entry, \u001b[90mconfigs\u001b[39m::\u001b[0mComonicon.JuliaExpr.Configs, \u001b[90mptr\u001b[39m::\u001b[0mInt64\u001b[0m\u001b[1m)\u001b[22m\u001b[90m (repeats 2 times)\u001b[39m\n",
      "\u001b[90m    @ \u001b[39m\u001b[35mComonicon.JuliaExpr\u001b[39m \u001b[90m~/.julia/packages/Comonicon/ryWxf/src/codegen/\u001b[39m\u001b[90m\u001b[4mjulia.jl:75\u001b[24m\u001b[39m\n",
      " [16] top-level scope\n",
      "\u001b[90m    @ \u001b[39m\u001b[90m~/.julia/packages/Comonicon/ryWxf/src/frontend/\u001b[39m\u001b[90m\u001b[4mcast.jl:378\u001b[24m\u001b[39m\n",
      " [17] \u001b[0m\u001b[1minclude\u001b[22m\n",
      "\u001b[90m    @ \u001b[39m\u001b[90m./\u001b[39m\u001b[90m\u001b[4mBase.jl:418\u001b[24m\u001b[39m\u001b[90m [inlined]\u001b[39m\n",
      " [18] \u001b[0m\u001b[1minclude_package_for_output\u001b[22m\u001b[0m\u001b[1m(\u001b[22m\u001b[90mpkg\u001b[39m::\u001b[0mBase.PkgId, \u001b[90minput\u001b[39m::\u001b[0mString, \u001b[90mdepot_path\u001b[39m::\u001b[0mVector\u001b[90m{String}\u001b[39m, \u001b[90mdl_load_path\u001b[39m::\u001b[0mVector\u001b[90m{String}\u001b[39m, \u001b[90mload_path\u001b[39m::\u001b[0mVector\u001b[90m{String}\u001b[39m, \u001b[90mconcrete_deps\u001b[39m::\u001b[0mVector\u001b[90m{Pair{Base.PkgId, UInt64}}\u001b[39m, \u001b[90msource\u001b[39m::\u001b[0mNothing\u001b[0m\u001b[1m)\u001b[22m\n",
      "\u001b[90m    @ \u001b[39m\u001b[90mBase\u001b[39m \u001b[90m./\u001b[39m\u001b[90m\u001b[4mloading.jl:1318\u001b[24m\u001b[39m\n",
      " [19] top-level scope\n",
      "\u001b[90m    @ \u001b[39m\u001b[90m\u001b[4mnone:1\u001b[24m\u001b[39m\n",
      " [20] \u001b[0m\u001b[1meval\u001b[22m\n",
      "\u001b[90m    @ \u001b[39m\u001b[90m./\u001b[39m\u001b[90m\u001b[4mboot.jl:373\u001b[24m\u001b[39m\u001b[90m [inlined]\u001b[39m\n",
      " [21] \u001b[0m\u001b[1meval\u001b[22m\u001b[0m\u001b[1m(\u001b[22m\u001b[90mx\u001b[39m::\u001b[0mExpr\u001b[0m\u001b[1m)\u001b[22m\n",
      "\u001b[90m    @ \u001b[39m\u001b[90mBase.MainInclude\u001b[39m \u001b[90m./\u001b[39m\u001b[90m\u001b[4mclient.jl:453\u001b[24m\u001b[39m\n",
      " [22] top-level scope\n",
      "\u001b[90m    @ \u001b[39m\u001b[90m\u001b[4mnone:1\u001b[24m\u001b[39m\n",
      "in expression starting at /Users/kwat/craft/GSEA.jl/src/GSEA.jl:1\n"
     ]
    },
    {
     "ename": "LoadError",
     "evalue": "Failed to precompile GSEA [f74a9ba8-6f1f-48f2-98b6-a79c46cc06f7] to /Users/kwat/.julia/compiled/v1.7/GSEA/jl_0Ypevf.",
     "output_type": "error",
     "traceback": [
      "Failed to precompile GSEA [f74a9ba8-6f1f-48f2-98b6-a79c46cc06f7] to /Users/kwat/.julia/compiled/v1.7/GSEA/jl_0Ypevf.",
      "",
      "Stacktrace:",
      " [1] error(s::String)",
      "   @ Base ./error.jl:33",
      " [2] compilecache(pkg::Base.PkgId, path::String, internal_stderr::IO, internal_stdout::IO, ignore_loaded_modules::Bool)",
      "   @ Base ./loading.jl:1466",
      " [3] compilecache(pkg::Base.PkgId, path::String)",
      "   @ Base ./loading.jl:1410",
      " [4] _require(pkg::Base.PkgId)",
      "   @ Base ./loading.jl:1120",
      " [5] require(uuidkey::Base.PkgId)",
      "   @ Base ./loading.jl:1013",
      " [6] require(into::Module, mod::Symbol)",
      "   @ Base ./loading.jl:997",
      " [7] eval",
      "   @ ./boot.jl:373 [inlined]",
      " [8] include_string(mapexpr::typeof(REPL.softscope), mod::Module, code::String, filename::String)",
      "   @ Base ./loading.jl:1196"
     ]
    }
   ],
   "source": [
    "using OnePiece\n",
    "\n",
    "using GSEA"
   ]
  },
  {
   "cell_type": "code",
   "execution_count": null,
   "id": "db9d1ad8",
   "metadata": {},
   "outputs": [],
   "source": [
    "da = joinpath(@__DIR__, \"data\")\n",
    "\n",
    "se = joinpath(da, \"h.all.v7.1.symbols.gmt\")\n",
    "\n",
    ";"
   ]
  },
  {
   "cell_type": "markdown",
   "id": "f78ca2fe",
   "metadata": {},
   "source": [
    "## select_set"
   ]
  },
  {
   "cell_type": "code",
   "execution_count": null,
   "id": "7496ae94",
   "metadata": {},
   "outputs": [],
   "source": [
    "GSEA.select_set(OnePiece.io.gmt.read(se), 33, 36)"
   ]
  },
  {
   "cell_type": "markdown",
   "id": "ac2a8251",
   "metadata": {},
   "source": [
    "## run_single_sample_gsea"
   ]
  },
  {
   "cell_type": "code",
   "execution_count": null,
   "id": "20a658ad",
   "metadata": {},
   "outputs": [],
   "source": [
    "ou = joinpath(TE, \"single_sample_gsea.tsv\")\n",
    "\n",
    "GSEA.run_single_sample_gsea(\n",
    "    joinpath(da, \"setting\", \"single_sample_gsea.json\"),\n",
    "    se,\n",
    "    joinpath(da, \"nmf_k9_w.tsv\"),\n",
    "    ou,\n",
    ")\n",
    "\n",
    "readdir(TE)"
   ]
  },
  {
   "cell_type": "markdown",
   "id": "e44a8246",
   "metadata": {},
   "source": [
    "## run_pre_rank_gsea"
   ]
  },
  {
   "cell_type": "code",
   "execution_count": null,
   "id": "91ecd6a7",
   "metadata": {},
   "outputs": [],
   "source": [
    "ou = joinpath(TE, \"pre_rank_gsea\")\n",
    "\n",
    "mkdir(ou)\n",
    "\n",
    "GSEA.run_pre_rank_gsea(\n",
    "    joinpath(da, \"setting\", \"pre_rank_gsea.json\"),\n",
    "    se,\n",
    "    joinpath(da, \"gene_score.tsv\"),\n",
    "    ou,\n",
    ")\n",
    "\n",
    "readdir(ou)"
   ]
  },
  {
   "cell_type": "markdown",
   "id": "7cdb52f3",
   "metadata": {},
   "source": [
    "## run_standard_gsea"
   ]
  },
  {
   "cell_type": "code",
   "execution_count": null,
   "id": "1b0f65a9",
   "metadata": {},
   "outputs": [],
   "source": [
    "ou = joinpath(TE, \"standard_gsea\")\n",
    "\n",
    "mkdir(ou)\n",
    "\n",
    "GSEA.run_standard_gsea(\n",
    "    joinpath(da, \"setting\", \"standard_gsea.json\"),\n",
    "    se,\n",
    "    joinpath(da, \"sample_value.tsv\"),\n",
    "    joinpath(da, \"nmf_k9_w.tsv\"),\n",
    "    ou,\n",
    ")\n",
    "\n",
    "readdir(ou)"
   ]
  },
  {
   "cell_type": "markdown",
   "id": "1addab08",
   "metadata": {},
   "source": [
    "## convert_gct_and_cls"
   ]
  },
  {
   "cell_type": "code",
   "execution_count": null,
   "id": "754522c4",
   "metadata": {},
   "outputs": [],
   "source": [
    "di = joinpath(da, \"sarcopenia\")\n",
    "\n",
    "gc = joinpath(\n",
    "    di,\n",
    "    \"gse111016_allsamplescounts_htseqcov1_sss_forgeo.sarcopenia.vs.normal_counts_collapsed_to_symbols.gct\",\n",
    ")\n",
    "\n",
    "cl = joinpath(di, \"sarcopenia_binary.cls\")\n",
    "\n",
    "GSEA.convert_gct_and_cls(gc, cl, TE)\n",
    "\n",
    "readdir(di)"
   ]
  },
  {
   "cell_type": "markdown",
   "id": "820cfe4d",
   "metadata": {},
   "source": [
    "## convert_gmt"
   ]
  },
  {
   "cell_type": "code",
   "execution_count": null,
   "id": "e65cfe93",
   "metadata": {},
   "outputs": [],
   "source": [
    "gm = joinpath(di, \"c2.cp.wikipathways.v7.4.symbols.gmt\")\n",
    "\n",
    "js = joinpath(TE, \"set_to_genes.json\")\n",
    "\n",
    "GSEA.convert_gmt(gm, js)\n",
    "\n",
    "readdir(di)"
   ]
  },
  {
   "cell_type": "markdown",
   "id": "5f6c761b",
   "metadata": {},
   "source": [
    "---"
   ]
  },
  {
   "cell_type": "code",
   "execution_count": null,
   "id": "3e4af1ab",
   "metadata": {
    "execution": {
     "iopub.execute_input": "2021-10-14T18:25:54.055222Z",
     "iopub.status.busy": "2021-10-14T18:25:53.342490Z",
     "iopub.status.idle": "2021-10-14T18:26:10.352867Z",
     "shell.execute_reply": "2021-10-14T18:26:10.352370Z"
    }
   },
   "outputs": [],
   "source": [
    "if isdir(TE)\n",
    "\n",
    "    rm(TE; recursive = true)\n",
    "\n",
    "    println(\"Removed \", TE, \".\")\n",
    "\n",
    "end"
   ]
  }
 ],
 "metadata": {
  "@webio": {
   "lastCommId": null,
   "lastKernelId": null
  },
  "kernelspec": {
   "display_name": "Julia 1.7.2",
   "language": "julia",
   "name": "julia-1.7"
  },
  "language_info": {
   "file_extension": ".jl",
   "mimetype": "application/julia",
   "name": "julia",
   "version": "1.7.2"
  }
 },
 "nbformat": 4,
 "nbformat_minor": 5
}
