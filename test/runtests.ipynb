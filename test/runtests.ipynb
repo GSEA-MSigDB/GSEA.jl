{
 "cells": [
  {
   "cell_type": "code",
   "execution_count": 1,
   "id": "163a496c",
   "metadata": {
    "execution": {
     "iopub.execute_input": "2022-07-03T14:51:49.789000Z",
     "iopub.status.busy": "2022-07-03T14:51:49.431000Z",
     "iopub.status.idle": "2022-07-03T14:51:56.064000Z",
     "shell.execute_reply": "2022-07-03T14:51:56.014000Z"
    }
   },
   "outputs": [],
   "source": [
    "using Revise\n",
    "using OnePiece\n",
    "using GSEA"
   ]
  },
  {
   "cell_type": "code",
   "execution_count": 2,
   "id": "bbe97d74",
   "metadata": {
    "execution": {
     "iopub.execute_input": "2022-07-03T14:51:56.485000Z",
     "iopub.status.busy": "2022-07-03T14:51:56.066000Z",
     "iopub.status.idle": "2022-07-03T14:51:58.078000Z",
     "shell.execute_reply": "2022-07-03T14:51:58.078000Z"
    }
   },
   "outputs": [
    {
     "data": {
      "text/plain": [
       "\"/Users/kwat/craft/GSEA.jl/setting.json\""
      ]
     },
     "execution_count": 2,
     "metadata": {},
     "output_type": "execute_result"
    }
   ],
   "source": [
    "sett = joinpath(dirname(@__DIR__), \"setting.json\")"
   ]
  },
  {
   "cell_type": "code",
   "execution_count": 3,
   "id": "2e799623",
   "metadata": {
    "execution": {
     "iopub.execute_input": "2022-07-03T14:51:58.082000Z",
     "iopub.status.busy": "2022-07-03T14:51:58.082000Z",
     "iopub.status.idle": "2022-07-03T14:51:58.095000Z",
     "shell.execute_reply": "2022-07-03T14:51:58.095000Z"
    }
   },
   "outputs": [
    {
     "data": {
      "text/plain": [
       "\"/Users/kwat/craft/GSEA.jl/test/set_genes.json\""
      ]
     },
     "execution_count": 3,
     "metadata": {},
     "output_type": "execute_result"
    }
   ],
   "source": [
    "set_ = joinpath(@__DIR__, \"set_genes.json\")"
   ]
  },
  {
   "cell_type": "code",
   "execution_count": 4,
   "id": "94d760e2",
   "metadata": {
    "execution": {
     "iopub.execute_input": "2022-07-03T14:51:58.098000Z",
     "iopub.status.busy": "2022-07-03T14:51:58.098000Z",
     "iopub.status.idle": "2022-07-03T14:51:58.117000Z",
     "shell.execute_reply": "2022-07-03T14:51:58.116000Z"
    }
   },
   "outputs": [
    {
     "data": {
      "text/plain": [
       "\"/var/folders/mg/30npdf0s1z36txb2qvgylrzh0000gn/T/GSEA\""
      ]
     },
     "execution_count": 4,
     "metadata": {},
     "output_type": "execute_result"
    }
   ],
   "source": [
    "te = joinpath(tempdir(), \"GSEA\")\n",
    "\n",
    "rm(te, recursive=true)\n",
    "\n",
    "mkdir(te)"
   ]
  },
  {
   "cell_type": "markdown",
   "id": "c3ac4d60",
   "metadata": {},
   "source": [
    "## _filter_set!"
   ]
  },
  {
   "cell_type": "code",
   "execution_count": 5,
   "id": "d950b8fd",
   "metadata": {
    "execution": {
     "iopub.execute_input": "2022-07-03T14:51:58.120000Z",
     "iopub.status.busy": "2022-07-03T14:51:58.119000Z",
     "iopub.status.idle": "2022-07-03T14:51:59.189000Z",
     "shell.execute_reply": "2022-07-03T14:51:59.189000Z"
    }
   },
   "outputs": [
    {
     "name": "stdout",
     "output_type": "stream",
     "text": [
      "Before filtering sets\n",
      "50 keys and 50 unique values\n",
      "{\n",
      "   ...\n",
      "}\n",
      "Keeping sets: 33 <= size <= 36\n",
      "After\n",
      "2 keys and 2 unique values\n",
      "{\n",
      "   ...\n",
      "}\n"
     ]
    }
   ],
   "source": [
    "se_fe_ = OnePiece.dict.read(set_)\n",
    "\n",
    "GSEA._filter_set!(se_fe_, false, [], 33, 36)\n",
    "\n",
    "@assert length(se_fe_) == 2"
   ]
  },
  {
   "cell_type": "code",
   "execution_count": 6,
   "id": "dbe3ee86",
   "metadata": {
    "execution": {
     "iopub.execute_input": "2022-07-03T14:51:59.192000Z",
     "iopub.status.busy": "2022-07-03T14:51:59.192000Z",
     "iopub.status.idle": "2022-07-03T14:51:59.310000Z",
     "shell.execute_reply": "2022-07-03T14:51:59.309000Z"
    }
   },
   "outputs": [
    {
     "name": "stdout",
     "output_type": "stream",
     "text": [
      "Before filtering sets\n",
      "50 keys and 50 unique values\n",
      "{\n",
      "   ...\n",
      "}\n",
      "Removing set genes not found in gene-x-sample genes\n",
      "Keeping sets: 1 <= size <= 5656\n",
      "After\n",
      "2 keys and 2 unique values\n",
      "{\n",
      "   ...\n",
      "}\n"
     ]
    }
   ],
   "source": [
    "se_fe_ = OnePiece.dict.read(set_)\n",
    "\n",
    "GSEA._filter_set!(se_fe_, true, [\"SHH\", \"XIST\"], 1, 5656)\n",
    "\n",
    "@assert length(se_fe_) == 2"
   ]
  },
  {
   "cell_type": "markdown",
   "id": "bfe5833b",
   "metadata": {},
   "source": [
    "## _make_keyword_argument"
   ]
  },
  {
   "cell_type": "code",
   "execution_count": 7,
   "id": "b63b396d",
   "metadata": {
    "execution": {
     "iopub.execute_input": "2022-07-03T14:51:59.313000Z",
     "iopub.status.busy": "2022-07-03T14:51:59.313000Z",
     "iopub.status.idle": "2022-07-03T14:52:00.640000Z",
     "shell.execute_reply": "2022-07-03T14:52:00.640000Z"
    }
   },
   "outputs": [
    {
     "data": {
      "text/plain": [
       "Dict{Symbol, Any} with 3 entries:\n",
       "  :n_jo => 8\n",
       "  :al   => \"Jensen-Shannon divergence\"\n",
       "  :ex   => 2.0"
      ]
     },
     "execution_count": 7,
     "metadata": {},
     "output_type": "execute_result"
    }
   ],
   "source": [
    "GSEA._make_keyword_argument(\n",
    "    Dict(\"exponent\" => 2.0, \"algorithm\" => \"Jensen-Shannon divergence\", \"number_of_jobs\" => 8)\n",
    ")"
   ]
  },
  {
   "cell_type": "markdown",
   "id": "2026612f",
   "metadata": {},
   "source": [
    "---"
   ]
  },
  {
   "cell_type": "code",
   "execution_count": 8,
   "id": "241f1aac",
   "metadata": {
    "execution": {
     "iopub.execute_input": "2022-07-03T14:52:00.643000Z",
     "iopub.status.busy": "2022-07-03T14:52:00.643000Z",
     "iopub.status.idle": "2022-07-03T14:52:00.657000Z",
     "shell.execute_reply": "2022-07-03T14:52:00.657000Z"
    }
   },
   "outputs": [
    {
     "data": {
      "text/plain": [
       "\"/Users/kwat/craft/GSEA.jl/test/gene_x_sample_x_score.tsv\""
      ]
     },
     "execution_count": 8,
     "metadata": {},
     "output_type": "execute_result"
    }
   ],
   "source": [
    "sc = joinpath(@__DIR__, \"gene_x_sample_x_score.tsv\")"
   ]
  },
  {
   "cell_type": "markdown",
   "id": "c6118869",
   "metadata": {},
   "source": [
    "## data_rank"
   ]
  },
  {
   "cell_type": "code",
   "execution_count": 9,
   "id": "8f9f9cde",
   "metadata": {
    "execution": {
     "iopub.execute_input": "2022-07-03T14:52:00.662000Z",
     "iopub.status.busy": "2022-07-03T14:52:00.662000Z",
     "iopub.status.idle": "2022-07-03T14:52:00.675000Z",
     "shell.execute_reply": "2022-07-03T14:52:00.675000Z"
    }
   },
   "outputs": [
    {
     "data": {
      "text/plain": [
       "\"/var/folders/mg/30npdf0s1z36txb2qvgylrzh0000gn/T/GSEA/data_rank\""
      ]
     },
     "execution_count": 9,
     "metadata": {},
     "output_type": "execute_result"
    }
   ],
   "source": [
    "ou = joinpath(te, \"data_rank\")"
   ]
  },
  {
   "cell_type": "code",
   "execution_count": 10,
   "id": "bb2ff41f",
   "metadata": {
    "execution": {
     "iopub.execute_input": "2022-07-03T14:52:00.680000Z",
     "iopub.status.busy": "2022-07-03T14:52:00.680000Z",
     "iopub.status.idle": "2022-07-03T14:52:17.367000Z",
     "shell.execute_reply": "2022-07-03T14:52:17.366000Z"
    }
   },
   "outputs": [
    {
     "name": "stdout",
     "output_type": "stream",
     "text": [
      "Before filtering sets\n",
      "50 keys and 50 unique values\n",
      "{\n",
      "   ...\n",
      "}\n",
      "Keeping sets: 15 <= size <= 500\n",
      "After\n",
      "50 keys and 50 unique values\n",
      "{\n",
      "   ...\n",
      "}\n"
     ]
    },
    {
     "data": {
      "text/plain": [
       "\"/var/folders/mg/30npdf0s1z36txb2qvgylrzh0000gn/T/GSEA/data_rank/set_x_sample_x_enrichment.tsv\""
      ]
     },
     "execution_count": 10,
     "metadata": {},
     "output_type": "execute_result"
    }
   ],
   "source": [
    "GSEA.data_rank(sett, set_, sc, ou)"
   ]
  },
  {
   "cell_type": "code",
   "execution_count": 11,
   "id": "67644dd5",
   "metadata": {
    "execution": {
     "iopub.execute_input": "2022-07-03T14:52:17.370000Z",
     "iopub.status.busy": "2022-07-03T14:52:17.370000Z",
     "iopub.status.idle": "2022-07-03T14:52:19.197000Z",
     "shell.execute_reply": "2022-07-03T14:52:19.197000Z"
    }
   },
   "outputs": [
    {
     "name": "stdout",
     "output_type": "stream",
     "text": [
      "Printing 50 x 10\n",
      "1:3 x 1:3\n",
      "\u001b[1m3×3 DataFrame\u001b[0m\n",
      "\u001b[1m Row \u001b[0m│\u001b[1m Set                   \u001b[0m\u001b[1m BRAF-MAPK \u001b[0m\u001b[1m EMT      \u001b[0m\n",
      "\u001b[1m     \u001b[0m│\u001b[90m String                \u001b[0m\u001b[90m Float64   \u001b[0m\u001b[90m Float64  \u001b[0m\n",
      "─────┼────────────────────────────────────────────\n",
      "   1 │ HALLMARK_ANGIOGENESIS   0.557673  0.653546\n",
      "   2 │ HALLMARK_MYOGENESIS     0.354464  0.315459\n",
      "   3 │ HALLMARK_PEROXISOME     0.687751  0.547888\n",
      "1:3 x 8:10\n",
      "\u001b[1m3×3 DataFrame\u001b[0m\n",
      "\u001b[1m Row \u001b[0m│\u001b[1m MYC-E2F   \u001b[0m\u001b[1m RAS-WNT-PI3K \u001b[0m\u001b[1m TNF-NFKB-YAP \u001b[0m\n",
      "\u001b[1m     \u001b[0m│\u001b[90m Float64   \u001b[0m\u001b[90m Float64      \u001b[0m\u001b[90m Float64      \u001b[0m\n",
      "─────┼───────────────────────────────────────\n",
      "   1 │ -0.635908      0.490231      0.575742\n",
      "   2 │  0.262347      0.356914      0.405985\n",
      "   3 │ -0.493976      0.666225      0.308805\n",
      "48:50 x 1:3\n",
      "\u001b[1m3×3 DataFrame\u001b[0m\n",
      "\u001b[1m Row \u001b[0m│\u001b[1m Set                              \u001b[0m\u001b[1m BRAF-MAPK \u001b[0m\u001b[1m EMT       \u001b[0m\n",
      "\u001b[1m     \u001b[0m│\u001b[90m String                           \u001b[0m\u001b[90m Float64   \u001b[0m\u001b[90m Float64   \u001b[0m\n",
      "─────┼────────────────────────────────────────────────────────\n",
      "   1 │ HALLMARK_GLYCOLYSIS                0.444317   0.443083\n",
      "   2 │ HALLMARK_HEDGEHOG_SIGNALING        0.439541   0.4564\n",
      "   3 │ HALLMARK_IL6_JAK_STAT3_SIGNALING   0.528199  -0.44333\n",
      "48:50 x 8:10\n",
      "\u001b[1m3×3 DataFrame\u001b[0m\n",
      "\u001b[1m Row \u001b[0m│\u001b[1m MYC-E2F   \u001b[0m\u001b[1m RAS-WNT-PI3K \u001b[0m\u001b[1m TNF-NFKB-YAP \u001b[0m\n",
      "\u001b[1m     \u001b[0m│\u001b[90m Float64   \u001b[0m\u001b[90m Float64      \u001b[0m\u001b[90m Float64      \u001b[0m\n",
      "─────┼───────────────────────────────────────\n",
      "   1 │  0.467926      0.497271      0.232133\n",
      "   2 │ -0.439759      0.32912      -0.391566\n",
      "   3 │ -0.550652      0.702036     -0.748245\n"
     ]
    }
   ],
   "source": [
    "OnePiece.dataframe.print(OnePiece.table.read(joinpath(ou, \"set_x_sample_x_enrichment.tsv\")))"
   ]
  },
  {
   "cell_type": "markdown",
   "id": "e2bac0cb",
   "metadata": {},
   "source": [
    "---"
   ]
  },
  {
   "cell_type": "code",
   "execution_count": 12,
   "id": "c4dc53e5",
   "metadata": {
    "execution": {
     "iopub.execute_input": "2022-07-03T14:52:19.200000Z",
     "iopub.status.busy": "2022-07-03T14:52:19.200000Z",
     "iopub.status.idle": "2022-07-03T14:52:19.213000Z",
     "shell.execute_reply": "2022-07-03T14:52:19.212000Z"
    }
   },
   "outputs": [
    {
     "data": {
      "text/plain": [
       "\"gene_x_metric_x_score.tsv\""
      ]
     },
     "execution_count": 12,
     "metadata": {},
     "output_type": "execute_result"
    }
   ],
   "source": [
    "me = \"gene_x_metric_x_score.tsv\""
   ]
  },
  {
   "cell_type": "code",
   "execution_count": 13,
   "id": "8f0bfb38",
   "metadata": {
    "execution": {
     "iopub.execute_input": "2022-07-03T14:52:19.215000Z",
     "iopub.status.busy": "2022-07-03T14:52:19.215000Z",
     "iopub.status.idle": "2022-07-03T14:52:19.430000Z",
     "shell.execute_reply": "2022-07-03T14:52:19.429000Z"
    }
   },
   "outputs": [
    {
     "data": {
      "text/plain": [
       "print_output (generic function with 1 method)"
      ]
     },
     "execution_count": 13,
     "metadata": {},
     "output_type": "execute_result"
    }
   ],
   "source": [
    "function print_output(ou)\n",
    "\n",
    "    println(readdir(ou))\n",
    "\n",
    "    OnePiece.dataframe.print(OnePiece.table.read(joinpath(ou, \"set_x_statistic_x_number.tsv\")))\n",
    "\n",
    "    OnePiece.dataframe.print(OnePiece.table.read(joinpath(ou, \"set_x_random_x_enrichment.tsv\")))\n",
    "\n",
    "end"
   ]
  },
  {
   "cell_type": "markdown",
   "id": "20e2e81f",
   "metadata": {},
   "source": [
    "## user_rank"
   ]
  },
  {
   "cell_type": "code",
   "execution_count": 14,
   "id": "549e17e2",
   "metadata": {
    "execution": {
     "iopub.execute_input": "2022-07-03T14:52:19.433000Z",
     "iopub.status.busy": "2022-07-03T14:52:19.433000Z",
     "iopub.status.idle": "2022-07-03T14:52:19.445000Z",
     "shell.execute_reply": "2022-07-03T14:52:19.445000Z"
    }
   },
   "outputs": [
    {
     "data": {
      "text/plain": [
       "\"/var/folders/mg/30npdf0s1z36txb2qvgylrzh0000gn/T/GSEA/user_rank\""
      ]
     },
     "execution_count": 14,
     "metadata": {},
     "output_type": "execute_result"
    }
   ],
   "source": [
    "ou = joinpath(te, \"user_rank\")"
   ]
  },
  {
   "cell_type": "code",
   "execution_count": 15,
   "id": "34ee6adb",
   "metadata": {
    "execution": {
     "iopub.execute_input": "2022-07-03T14:52:19.448000Z",
     "iopub.status.busy": "2022-07-03T14:52:19.448000Z",
     "iopub.status.idle": "2022-07-03T14:52:28.795000Z",
     "shell.execute_reply": "2022-07-03T14:52:28.795000Z"
    }
   },
   "outputs": [
    {
     "name": "stdout",
     "output_type": "stream",
     "text": [
      "Before filtering sets\n",
      "50 keys and 50 unique values\n",
      "{\n",
      "   ...\n",
      "}\n",
      "Keeping sets: 15 <= size <= 500\n",
      "After\n",
      "50 keys and 50 unique values\n",
      "{\n",
      "   ...\n",
      "}\n",
      "Permuting sets to compute significance\n"
     ]
    },
    {
     "name": "stderr",
     "output_type": "stream",
     "text": [
      "0.0%┣                                              ┫ 0/100 [00:00<00:-5, -0s/it]\n",
      "1.0%┣▍                                         ┫ 1/100 [00:00<Inf:Inf, InfGs/it]\n",
      "10.0%┣████▍                                       ┫ 10/100 [00:01<00:05, 18it/s]\n",
      "21.0%┣█████████▎                                  ┫ 21/100 [00:01<00:02, 36it/s]\n",
      "34.0%┣███████████████                             ┫ 34/100 [00:01<00:01, 54it/s]\n",
      "46.0%┣████████████████████▎                       ┫ 46/100 [00:01<00:01, 69it/s]\n",
      "59.0%┣██████████████████████████                  ┫ 59/100 [00:01<00:01, 82it/s]\n",
      "72.0%┣███████████████████████████████▊            ┫ 72/100 [00:01<00:00, 93it/s]\n",
      "86.0%┣█████████████████████████████████████      ┫ 86/100 [00:01<00:00, 105it/s]\n",
      "100.0%┣█████████████████████████████████████████┫ 100/100 [00:01<00:00, 115it/s]\n"
     ]
    },
    {
     "name": "stdout",
     "output_type": "stream",
     "text": [
      "Made /var/folders/mg/30npdf0s1z36txb2qvgylrzh0000gn/T/GSEA/user_rank/plot/hallmark_pancreas_beta_cells.html.\n",
      "Made /var/folders/mg/30npdf0s1z36txb2qvgylrzh0000gn/T/GSEA/user_rank/plot/hallmark_protein_secretion.html.\n",
      "Made /var/folders/mg/30npdf0s1z36txb2qvgylrzh0000gn/T/GSEA/user_rank/plot/hallmark_mitotic_spindle.html.\n",
      "Made /var/folders/mg/30npdf0s1z36txb2qvgylrzh0000gn/T/GSEA/user_rank/plot/hallmark_uv_response_dn.html.\n",
      "Made /var/folders/mg/30npdf0s1z36txb2qvgylrzh0000gn/T/GSEA/user_rank/plot/hallmark_interferon_alpha_response.html.\n",
      "Made /var/folders/mg/30npdf0s1z36txb2qvgylrzh0000gn/T/GSEA/user_rank/plot/hallmark_estrogen_response_late.html.\n",
      "Made /var/folders/mg/30npdf0s1z36txb2qvgylrzh0000gn/T/GSEA/user_rank/plot/hallmark_interferon_gamma_response.html.\n",
      "Made /var/folders/mg/30npdf0s1z36txb2qvgylrzh0000gn/T/GSEA/user_rank/plot/hallmark_bile_acid_metabolism.html.\n",
      "Made /var/folders/mg/30npdf0s1z36txb2qvgylrzh0000gn/T/GSEA/user_rank/plot/hallmark_allograft_rejection.html.\n",
      "Made /var/folders/mg/30npdf0s1z36txb2qvgylrzh0000gn/T/GSEA/user_rank/plot/hallmark_oxidative_phosphorylation.html.\n",
      "Made /var/folders/mg/30npdf0s1z36txb2qvgylrzh0000gn/T/GSEA/user_rank/plot/hallmark_wnt_beta_catenin_signaling.html.\n",
      "Made /var/folders/mg/30npdf0s1z36txb2qvgylrzh0000gn/T/GSEA/user_rank/plot/hallmark_reactive_oxygen_species_pathway.html.\n",
      "Made /var/folders/mg/30npdf0s1z36txb2qvgylrzh0000gn/T/GSEA/user_rank/plot/hallmark_mtorc1_signaling.html.\n",
      "Made /var/folders/mg/30npdf0s1z36txb2qvgylrzh0000gn/T/GSEA/user_rank/plot/hallmark_unfolded_protein_response.html.\n",
      "Made /var/folders/mg/30npdf0s1z36txb2qvgylrzh0000gn/T/GSEA/user_rank/plot/hallmark_myc_targets_v1.html.\n",
      "Made /var/folders/mg/30npdf0s1z36txb2qvgylrzh0000gn/T/GSEA/user_rank/plot/hallmark_myc_targets_v2.html.\n"
     ]
    },
    {
     "data": {
      "text/html": [
       "<div class=\"data-frame\"><p>50 rows × 4 columns</p><table class=\"data-frame\"><thead><tr><th></th><th>Set</th><th>Enrichment</th><th>Global pvalue</th><th>Adjusted global pvalue</th></tr><tr><th></th><th title=\"String\">String</th><th title=\"Float64\">Float64</th><th title=\"Float64\">Float64</th><th title=\"Float64\">Float64</th></tr></thead><tbody><tr><th>1</th><td>HALLMARK_PANCREAS_BETA_CELLS</td><td>-0.35266</td><td>0.0042</td><td>0.505556</td></tr><tr><th>2</th><td>HALLMARK_PROTEIN_SECRETION</td><td>-0.272096</td><td>0.0242</td><td>0.3064</td></tr><tr><th>3</th><td>HALLMARK_MITOTIC_SPINDLE</td><td>-0.232207</td><td>0.0542</td><td>0.25619</td></tr><tr><th>4</th><td>HALLMARK_UV_RESPONSE_DN</td><td>-0.213707</td><td>0.0838</td><td>0.0471429</td></tr><tr><th>5</th><td>HALLMARK_INTERFERON_ALPHA_RESPONSE</td><td>-0.198526</td><td>0.1214</td><td>0.572308</td></tr><tr><th>6</th><td>HALLMARK_ESTROGEN_RESPONSE_LATE</td><td>-0.171534</td><td>0.203</td><td>0.25619</td></tr><tr><th>7</th><td>HALLMARK_INTERFERON_GAMMA_RESPONSE</td><td>-0.139782</td><td>0.239</td><td>0.100909</td></tr><tr><th>8</th><td>HALLMARK_BILE_ACID_METABOLISM</td><td>-0.131934</td><td>0.2394</td><td>0.605</td></tr><tr><th>9</th><td>HALLMARK_KRAS_SIGNALING_UP</td><td>0.147173</td><td>0.2454</td><td>0.3625</td></tr><tr><th>10</th><td>HALLMARK_PEROXISOME</td><td>0.202655</td><td>0.4826</td><td>0.118</td></tr><tr><th>11</th><td>HALLMARK_CHOLESTEROL_HOMEOSTASIS</td><td>0.210387</td><td>0.46</td><td>0.016</td></tr><tr><th>12</th><td>HALLMARK_HEME_METABOLISM</td><td>0.212217</td><td>0.4464</td><td>0.249474</td></tr><tr><th>13</th><td>HALLMARK_ESTROGEN_RESPONSE_EARLY</td><td>0.216079</td><td>0.4182</td><td>0.21</td></tr><tr><th>14</th><td>HALLMARK_TGF_BETA_SIGNALING</td><td>0.222111</td><td>0.3768</td><td>0.955</td></tr><tr><th>15</th><td>HALLMARK_P53_PATHWAY</td><td>0.223665</td><td>0.364</td><td>0.630976</td></tr><tr><th>16</th><td>HALLMARK_APOPTOSIS</td><td>0.22412</td><td>0.361</td><td>0.509189</td></tr><tr><th>17</th><td>HALLMARK_KRAS_SIGNALING_DN</td><td>0.224452</td><td>0.3598</td><td>0.00333333</td></tr><tr><th>18</th><td>HALLMARK_G2M_CHECKPOINT</td><td>0.22621</td><td>0.3464</td><td>0.315</td></tr><tr><th>19</th><td>HALLMARK_SPERMATOGENESIS</td><td>0.227579</td><td>0.3336</td><td>0.005</td></tr><tr><th>20</th><td>HALLMARK_E2F_TARGETS</td><td>0.235167</td><td>0.2912</td><td>0.985208</td></tr><tr><th>21</th><td>HALLMARK_EPITHELIAL_MESENCHYMAL_TRANSITION</td><td>0.240784</td><td>0.2582</td><td>0.430333</td></tr><tr><th>22</th><td>HALLMARK_HEDGEHOG_SIGNALING</td><td>0.24439</td><td>0.2394</td><td>0.196875</td></tr><tr><th>23</th><td>HALLMARK_XENOBIOTIC_METABOLISM</td><td>0.251574</td><td>0.203</td><td>0.995714</td></tr><tr><th>24</th><td>HALLMARK_IL6_JAK_STAT3_SIGNALING</td><td>0.252595</td><td>0.1972</td><td>0.505556</td></tr><tr><th>25</th><td>HALLMARK_NOTCH_SIGNALING</td><td>0.260314</td><td>0.1638</td><td>0.118</td></tr><tr><th>26</th><td>HALLMARK_ANGIOGENESIS</td><td>0.26264</td><td>0.1532</td><td>0.3064</td></tr><tr><th>27</th><td>HALLMARK_COMPLEMENT</td><td>0.26429</td><td>0.1478</td><td>0.412759</td></tr><tr><th>28</th><td>HALLMARK_MYOGENESIS</td><td>0.265509</td><td>0.1444</td><td>0.100909</td></tr><tr><th>29</th><td>HALLMARK_PI3K_AKT_MTOR_SIGNALING</td><td>0.268293</td><td>0.1366</td><td>0.3064</td></tr><tr><th>30</th><td>HALLMARK_HYPOXIA</td><td>0.277776</td><td>0.1076</td><td>0.0675</td></tr><tr><th>&vellip;</th><td>&vellip;</td><td>&vellip;</td><td>&vellip;</td><td>&vellip;</td></tr></tbody></table></div>"
      ],
      "text/latex": [
       "\\begin{tabular}{r|cccc}\n",
       "\t& Set & Enrichment & Global pvalue & Adjusted global pvalue\\\\\n",
       "\t\\hline\n",
       "\t& String & Float64 & Float64 & Float64\\\\\n",
       "\t\\hline\n",
       "\t1 & HALLMARK\\_PANCREAS\\_BETA\\_CELLS & -0.35266 & 0.0042 & 0.505556 \\\\\n",
       "\t2 & HALLMARK\\_PROTEIN\\_SECRETION & -0.272096 & 0.0242 & 0.3064 \\\\\n",
       "\t3 & HALLMARK\\_MITOTIC\\_SPINDLE & -0.232207 & 0.0542 & 0.25619 \\\\\n",
       "\t4 & HALLMARK\\_UV\\_RESPONSE\\_DN & -0.213707 & 0.0838 & 0.0471429 \\\\\n",
       "\t5 & HALLMARK\\_INTERFERON\\_ALPHA\\_RESPONSE & -0.198526 & 0.1214 & 0.572308 \\\\\n",
       "\t6 & HALLMARK\\_ESTROGEN\\_RESPONSE\\_LATE & -0.171534 & 0.203 & 0.25619 \\\\\n",
       "\t7 & HALLMARK\\_INTERFERON\\_GAMMA\\_RESPONSE & -0.139782 & 0.239 & 0.100909 \\\\\n",
       "\t8 & HALLMARK\\_BILE\\_ACID\\_METABOLISM & -0.131934 & 0.2394 & 0.605 \\\\\n",
       "\t9 & HALLMARK\\_KRAS\\_SIGNALING\\_UP & 0.147173 & 0.2454 & 0.3625 \\\\\n",
       "\t10 & HALLMARK\\_PEROXISOME & 0.202655 & 0.4826 & 0.118 \\\\\n",
       "\t11 & HALLMARK\\_CHOLESTEROL\\_HOMEOSTASIS & 0.210387 & 0.46 & 0.016 \\\\\n",
       "\t12 & HALLMARK\\_HEME\\_METABOLISM & 0.212217 & 0.4464 & 0.249474 \\\\\n",
       "\t13 & HALLMARK\\_ESTROGEN\\_RESPONSE\\_EARLY & 0.216079 & 0.4182 & 0.21 \\\\\n",
       "\t14 & HALLMARK\\_TGF\\_BETA\\_SIGNALING & 0.222111 & 0.3768 & 0.955 \\\\\n",
       "\t15 & HALLMARK\\_P53\\_PATHWAY & 0.223665 & 0.364 & 0.630976 \\\\\n",
       "\t16 & HALLMARK\\_APOPTOSIS & 0.22412 & 0.361 & 0.509189 \\\\\n",
       "\t17 & HALLMARK\\_KRAS\\_SIGNALING\\_DN & 0.224452 & 0.3598 & 0.00333333 \\\\\n",
       "\t18 & HALLMARK\\_G2M\\_CHECKPOINT & 0.22621 & 0.3464 & 0.315 \\\\\n",
       "\t19 & HALLMARK\\_SPERMATOGENESIS & 0.227579 & 0.3336 & 0.005 \\\\\n",
       "\t20 & HALLMARK\\_E2F\\_TARGETS & 0.235167 & 0.2912 & 0.985208 \\\\\n",
       "\t21 & HALLMARK\\_EPITHELIAL\\_MESENCHYMAL\\_TRANSITION & 0.240784 & 0.2582 & 0.430333 \\\\\n",
       "\t22 & HALLMARK\\_HEDGEHOG\\_SIGNALING & 0.24439 & 0.2394 & 0.196875 \\\\\n",
       "\t23 & HALLMARK\\_XENOBIOTIC\\_METABOLISM & 0.251574 & 0.203 & 0.995714 \\\\\n",
       "\t24 & HALLMARK\\_IL6\\_JAK\\_STAT3\\_SIGNALING & 0.252595 & 0.1972 & 0.505556 \\\\\n",
       "\t25 & HALLMARK\\_NOTCH\\_SIGNALING & 0.260314 & 0.1638 & 0.118 \\\\\n",
       "\t26 & HALLMARK\\_ANGIOGENESIS & 0.26264 & 0.1532 & 0.3064 \\\\\n",
       "\t27 & HALLMARK\\_COMPLEMENT & 0.26429 & 0.1478 & 0.412759 \\\\\n",
       "\t28 & HALLMARK\\_MYOGENESIS & 0.265509 & 0.1444 & 0.100909 \\\\\n",
       "\t29 & HALLMARK\\_PI3K\\_AKT\\_MTOR\\_SIGNALING & 0.268293 & 0.1366 & 0.3064 \\\\\n",
       "\t30 & HALLMARK\\_HYPOXIA & 0.277776 & 0.1076 & 0.0675 \\\\\n",
       "\t$\\dots$ & $\\dots$ & $\\dots$ & $\\dots$ & $\\dots$ \\\\\n",
       "\\end{tabular}\n"
      ],
      "text/plain": [
       "\u001b[1m50×4 DataFrame\u001b[0m\n",
       "\u001b[1m Row \u001b[0m│\u001b[1m Set                               \u001b[0m\u001b[1m Enrichment \u001b[0m\u001b[1m Global pvalue \u001b[0m\u001b[1m Adjusted \u001b[0m ⋯\n",
       "\u001b[1m     \u001b[0m│\u001b[90m String                            \u001b[0m\u001b[90m Float64    \u001b[0m\u001b[90m Float64       \u001b[0m\u001b[90m Float64  \u001b[0m ⋯\n",
       "─────┼──────────────────────────────────────────────────────────────────────────\n",
       "   1 │ HALLMARK_PANCREAS_BETA_CELLS        -0.35266          0.0042            ⋯\n",
       "   2 │ HALLMARK_PROTEIN_SECRETION          -0.272096         0.0242\n",
       "   3 │ HALLMARK_MITOTIC_SPINDLE            -0.232207         0.0542\n",
       "   4 │ HALLMARK_UV_RESPONSE_DN             -0.213707         0.0838\n",
       "   5 │ HALLMARK_INTERFERON_ALPHA_RESPON…   -0.198526         0.1214            ⋯\n",
       "   6 │ HALLMARK_ESTROGEN_RESPONSE_LATE     -0.171534         0.203\n",
       "   7 │ HALLMARK_INTERFERON_GAMMA_RESPON…   -0.139782         0.239\n",
       "   8 │ HALLMARK_BILE_ACID_METABOLISM       -0.131934         0.2394\n",
       "   9 │ HALLMARK_KRAS_SIGNALING_UP           0.147173         0.2454            ⋯\n",
       "  10 │ HALLMARK_PEROXISOME                  0.202655         0.4826\n",
       "  11 │ HALLMARK_CHOLESTEROL_HOMEOSTASIS     0.210387         0.46\n",
       "  ⋮  │                 ⋮                      ⋮             ⋮                  ⋱\n",
       "  41 │ HALLMARK_UV_RESPONSE_UP              0.343112         0.0216\n",
       "  42 │ HALLMARK_ANDROGEN_RESPONSE           0.343714         0.0216            ⋯\n",
       "  43 │ HALLMARK_ALLOGRAFT_REJECTION         0.373591         0.0108\n",
       "  44 │ HALLMARK_OXIDATIVE_PHOSPHORYLATI…    0.389409         0.0066\n",
       "  45 │ HALLMARK_WNT_BETA_CATENIN_SIGNAL…    0.401695         0.0054\n",
       "  46 │ HALLMARK_REACTIVE_OXYGEN_SPECIES…    0.443955         0.0016            ⋯\n",
       "  47 │ HALLMARK_MTORC1_SIGNALING            0.464692         0.0004\n",
       "  48 │ HALLMARK_UNFOLDED_PROTEIN_RESPON…    0.488161         0.0002\n",
       "  49 │ HALLMARK_MYC_TARGETS_V1              0.603356         0.0002\n",
       "  50 │ HALLMARK_MYC_TARGETS_V2              0.866579         0.0002            ⋯\n",
       "\u001b[36m                                                    1 column and 29 rows omitted\u001b[0m"
      ]
     },
     "execution_count": 15,
     "metadata": {},
     "output_type": "execute_result"
    }
   ],
   "source": [
    "GSEA.user_rank(sett, set_, joinpath(@__DIR__, me), ou)"
   ]
  },
  {
   "cell_type": "code",
   "execution_count": 16,
   "id": "8e890cd8",
   "metadata": {
    "execution": {
     "iopub.execute_input": "2022-07-03T14:52:28.798000Z",
     "iopub.status.busy": "2022-07-03T14:52:28.798000Z",
     "iopub.status.idle": "2022-07-03T14:52:29.059000Z",
     "shell.execute_reply": "2022-07-03T14:52:29.059000Z"
    }
   },
   "outputs": [
    {
     "name": "stdout",
     "output_type": "stream",
     "text": [
      "[\"plot\", \"set_x_random_x_enrichment.tsv\", \"set_x_statistic_x_number.tsv\"]\n",
      "Printing 50 x 4\n",
      "1:3 x 1:3\n",
      "\u001b[1m3×3 DataFrame\u001b[0m\n",
      "\u001b[1m Row \u001b[0m│\u001b[1m Set                          \u001b[0m\u001b[1m Enrichment \u001b[0m\u001b[1m Global pvalue \u001b[0m\n",
      "\u001b[1m     \u001b[0m│\u001b[90m String                       \u001b[0m\u001b[90m Float64    \u001b[0m\u001b[90m Float64       \u001b[0m\n",
      "─────┼─────────────────────────────────────────────────────────\n",
      "   1 │ HALLMARK_PANCREAS_BETA_CELLS   -0.35266          0.0042\n",
      "   2 │ HALLMARK_PROTEIN_SECRETION     -0.272096         0.0242\n",
      "   3 │ HALLMARK_MITOTIC_SPINDLE       -0.232207         0.0542\n",
      "1:3 x 2:4\n",
      "\u001b[1m3×3 DataFrame\u001b[0m\n",
      "\u001b[1m Row \u001b[0m│\u001b[1m Enrichment \u001b[0m\u001b[1m Global pvalue \u001b[0m\u001b[1m Adjusted global pvalue \u001b[0m\n",
      "\u001b[1m     \u001b[0m│\u001b[90m Float64    \u001b[0m\u001b[90m Float64       \u001b[0m\u001b[90m Float64                \u001b[0m\n",
      "─────┼───────────────────────────────────────────────────\n",
      "   1 │  -0.35266          0.0042                0.505556\n",
      "   2 │  -0.272096         0.0242                0.3064\n",
      "   3 │  -0.232207         0.0542                0.25619\n",
      "48:50 x 1:3\n",
      "\u001b[1m3×3 DataFrame\u001b[0m\n",
      "\u001b[1m Row \u001b[0m│\u001b[1m Set                               \u001b[0m\u001b[1m Enrichment \u001b[0m\u001b[1m Global pvalue \u001b[0m\n",
      "\u001b[1m     \u001b[0m│\u001b[90m String                            \u001b[0m\u001b[90m Float64    \u001b[0m\u001b[90m Float64       \u001b[0m\n",
      "─────┼──────────────────────────────────────────────────────────────\n",
      "   1 │ HALLMARK_UNFOLDED_PROTEIN_RESPON…    0.488161         0.0002\n",
      "   2 │ HALLMARK_MYC_TARGETS_V1              0.603356         0.0002\n",
      "   3 │ HALLMARK_MYC_TARGETS_V2              0.866579         0.0002\n",
      "48:50 x 2:4\n",
      "\u001b[1m3×3 DataFrame\u001b[0m\n",
      "\u001b[1m Row \u001b[0m│\u001b[1m Enrichment \u001b[0m\u001b[1m Global pvalue \u001b[0m\u001b[1m Adjusted global pvalue \u001b[0m\n",
      "\u001b[1m     \u001b[0m│\u001b[90m Float64    \u001b[0m\u001b[90m Float64       \u001b[0m\u001b[90m Float64                \u001b[0m\n",
      "─────┼───────────────────────────────────────────────────\n",
      "   1 │   0.488161         0.0002              0.00333333\n",
      "   2 │   0.603356         0.0002              0.045\n",
      "   3 │   0.866579         0.0002              0.864773\n",
      "Printing 50 x 101\n",
      "1:3 x 1:3\n",
      "\u001b[1m3×3 DataFrame\u001b[0m\n",
      "\u001b[1m Row \u001b[0m│\u001b[1m Set                               \u001b[0m\u001b[1m 1         \u001b[0m\u001b[1m 2         \u001b[0m\n",
      "\u001b[1m     \u001b[0m│\u001b[90m String                            \u001b[0m\u001b[90m Float64   \u001b[0m\u001b[90m Float64   \u001b[0m\n",
      "─────┼─────────────────────────────────────────────────────────\n",
      "   1 │ HALLMARK_REACTIVE_OXYGEN_SPECIES…  -0.250215  -0.315029\n",
      "   2 │ HALLMARK_PI3K_AKT_MTOR_SIGNALING    0.201979   0.185746\n",
      "   3 │ HALLMARK_ANGIOGENESIS               0.265691   0.187056\n",
      "1:3 x 99:101\n",
      "\u001b[1m3×3 DataFrame\u001b[0m\n",
      "\u001b[1m Row \u001b[0m│\u001b[1m 98        \u001b[0m\u001b[1m 99        \u001b[0m\u001b[1m 100      \u001b[0m\n",
      "\u001b[1m     \u001b[0m│\u001b[90m Float64   \u001b[0m\u001b[90m Float64   \u001b[0m\u001b[90m Float64  \u001b[0m\n",
      "─────┼────────────────────────────────\n",
      "   1 │  0.331459   0.387071  0.228783\n",
      "   2 │ -0.196996  -0.271649  0.22527\n",
      "   3 │ -0.208917  -0.229481  0.171532\n",
      "48:50 x 1:3\n",
      "\u001b[1m3×3 DataFrame\u001b[0m\n",
      "\u001b[1m Row \u001b[0m│\u001b[1m Set                               \u001b[0m\u001b[1m 1        \u001b[0m\u001b[1m 2         \u001b[0m\n",
      "\u001b[1m     \u001b[0m│\u001b[90m String                            \u001b[0m\u001b[90m Float64  \u001b[0m\u001b[90m Float64   \u001b[0m\n",
      "─────┼────────────────────────────────────────────────────────\n",
      "   1 │ HALLMARK_IL6_JAK_STAT3_SIGNALING   0.310602  -0.297165\n",
      "   2 │ HALLMARK_MTORC1_SIGNALING          0.224422  -0.161341\n",
      "   3 │ HALLMARK_INTERFERON_ALPHA_RESPON…  0.216155  -0.219248\n",
      "48:50 x 99:101\n",
      "\u001b[1m3×3 DataFrame\u001b[0m\n",
      "\u001b[1m Row \u001b[0m│\u001b[1m 98       \u001b[0m\u001b[1m 99        \u001b[0m\u001b[1m 100      \u001b[0m\n",
      "\u001b[1m     \u001b[0m│\u001b[90m Float64  \u001b[0m\u001b[90m Float64   \u001b[0m\u001b[90m Float64  \u001b[0m\n",
      "─────┼───────────────────────────────\n",
      "   1 │ 0.280285   0.298329  0.166638\n",
      "   2 │ 0.20332    0.179529  0.199887\n",
      "   3 │ 0.21171   -0.265663  0.282591\n"
     ]
    }
   ],
   "source": [
    "print_output(ou)"
   ]
  },
  {
   "cell_type": "markdown",
   "id": "aabfe581",
   "metadata": {},
   "source": [
    "## metric_rank"
   ]
  },
  {
   "cell_type": "code",
   "execution_count": 17,
   "id": "8ba57cef",
   "metadata": {
    "execution": {
     "iopub.execute_input": "2022-07-03T14:52:29.063000Z",
     "iopub.status.busy": "2022-07-03T14:52:29.062000Z",
     "iopub.status.idle": "2022-07-03T14:52:29.076000Z",
     "shell.execute_reply": "2022-07-03T14:52:29.076000Z"
    }
   },
   "outputs": [
    {
     "data": {
      "text/plain": [
       "\"/var/folders/mg/30npdf0s1z36txb2qvgylrzh0000gn/T/GSEA/metric_rank\""
      ]
     },
     "execution_count": 17,
     "metadata": {},
     "output_type": "execute_result"
    }
   ],
   "source": [
    "ou = joinpath(te, \"metric_rank\")"
   ]
  },
  {
   "cell_type": "code",
   "execution_count": 18,
   "id": "067cf9fa",
   "metadata": {
    "execution": {
     "iopub.execute_input": "2022-07-03T14:52:29.079000Z",
     "iopub.status.busy": "2022-07-03T14:52:29.079000Z",
     "iopub.status.idle": "2022-07-03T14:52:31.485000Z",
     "shell.execute_reply": "2022-07-03T14:52:31.484000Z"
    }
   },
   "outputs": [
    {
     "name": "stdout",
     "output_type": "stream",
     "text": [
      "Before filtering sets\n",
      "50 keys and 50 unique values\n",
      "{\n",
      "   ...\n",
      "}\n",
      "Keeping sets: 15 <= size <= 500\n",
      "After\n",
      "50 keys and 50 unique values\n",
      "{\n",
      "   ...\n",
      "}\n",
      "Permuting samples to compute significance\n"
     ]
    },
    {
     "name": "stderr",
     "output_type": "stream",
     "text": [
      "0.0%┣                                              ┫ 0/100 [00:00<00:-5, -0s/it]\n",
      "1.0%┣▍                                         ┫ 1/100 [00:00<Inf:Inf, InfGs/it]\n",
      "47.0%┣████████████████████▏                      ┫ 47/100 [00:00<00:00, 286it/s]\n",
      "100.0%┣█████████████████████████████████████████┫ 100/100 [00:00<00:00, 475it/s]\n"
     ]
    },
    {
     "name": "stdout",
     "output_type": "stream",
     "text": [
      "Made /var/folders/mg/30npdf0s1z36txb2qvgylrzh0000gn/T/GSEA/metric_rank/plot/hallmark_pancreas_beta_cells.html.\n",
      "Made /var/folders/mg/30npdf0s1z36txb2qvgylrzh0000gn/T/GSEA/metric_rank/plot/hallmark_spermatogenesis.html.\n",
      "Made /var/folders/mg/30npdf0s1z36txb2qvgylrzh0000gn/T/GSEA/metric_rank/plot/hallmark_adipogenesis.html.\n",
      "Made /var/folders/mg/30npdf0s1z36txb2qvgylrzh0000gn/T/GSEA/metric_rank/plot/hallmark_androgen_response.html.\n",
      "Made /var/folders/mg/30npdf0s1z36txb2qvgylrzh0000gn/T/GSEA/metric_rank/plot/hallmark_e2f_targets.html.\n",
      "Made /var/folders/mg/30npdf0s1z36txb2qvgylrzh0000gn/T/GSEA/metric_rank/plot/hallmark_myc_targets_v2.html.\n",
      "Made /var/folders/mg/30npdf0s1z36txb2qvgylrzh0000gn/T/GSEA/metric_rank/plot/hallmark_bile_acid_metabolism.html.\n",
      "Made /var/folders/mg/30npdf0s1z36txb2qvgylrzh0000gn/T/GSEA/metric_rank/plot/hallmark_notch_signaling.html.\n",
      "Made /var/folders/mg/30npdf0s1z36txb2qvgylrzh0000gn/T/GSEA/metric_rank/plot/hallmark_heme_metabolism.html.\n",
      "Made /var/folders/mg/30npdf0s1z36txb2qvgylrzh0000gn/T/GSEA/metric_rank/plot/hallmark_uv_response_dn.html.\n",
      "Made /var/folders/mg/30npdf0s1z36txb2qvgylrzh0000gn/T/GSEA/metric_rank/plot/hallmark_cholesterol_homeostasis.html.\n",
      "Made /var/folders/mg/30npdf0s1z36txb2qvgylrzh0000gn/T/GSEA/metric_rank/plot/hallmark_tnfa_signaling_via_nfkb.html.\n",
      "Made /var/folders/mg/30npdf0s1z36txb2qvgylrzh0000gn/T/GSEA/metric_rank/plot/hallmark_myogenesis.html.\n",
      "Made /var/folders/mg/30npdf0s1z36txb2qvgylrzh0000gn/T/GSEA/metric_rank/plot/hallmark_interferon_gamma_response.html.\n",
      "Made /var/folders/mg/30npdf0s1z36txb2qvgylrzh0000gn/T/GSEA/metric_rank/plot/hallmark_interferon_alpha_response.html.\n",
      "Made /var/folders/mg/30npdf0s1z36txb2qvgylrzh0000gn/T/GSEA/metric_rank/plot/hallmark_apical_surface.html.\n"
     ]
    },
    {
     "data": {
      "text/html": [
       "<div class=\"data-frame\"><p>50 rows × 4 columns</p><table class=\"data-frame\"><thead><tr><th></th><th>Set</th><th>Enrichment</th><th>Global pvalue</th><th>Adjusted global pvalue</th></tr><tr><th></th><th title=\"String\">String</th><th title=\"Float64\">Float64</th><th title=\"Float64\">Float64</th><th title=\"Float64\">Float64</th></tr></thead><tbody><tr><th>1</th><td>HALLMARK_PANCREAS_BETA_CELLS</td><td>-0.747242</td><td>0.0446</td><td>0.871905</td></tr><tr><th>2</th><td>HALLMARK_SPERMATOGENESIS</td><td>-0.663597</td><td>0.0806</td><td>0.913514</td></tr><tr><th>3</th><td>HALLMARK_ADIPOGENESIS</td><td>-0.663327</td><td>0.0808</td><td>0.871905</td></tr><tr><th>4</th><td>HALLMARK_ANDROGEN_RESPONSE</td><td>-0.659154</td><td>0.0818</td><td>0.752174</td></tr><tr><th>5</th><td>HALLMARK_E2F_TARGETS</td><td>-0.646941</td><td>0.088</td><td>0.752174</td></tr><tr><th>6</th><td>HALLMARK_MYC_TARGETS_V2</td><td>-0.637662</td><td>0.0942</td><td>0.938163</td></tr><tr><th>7</th><td>HALLMARK_BILE_ACID_METABOLISM</td><td>-0.625652</td><td>0.102</td><td>0.752174</td></tr><tr><th>8</th><td>HALLMARK_NOTCH_SIGNALING</td><td>-0.621242</td><td>0.1052</td><td>0.913514</td></tr><tr><th>9</th><td>HALLMARK_MYC_TARGETS_V1</td><td>-0.613277</td><td>0.112</td><td>0.829615</td></tr><tr><th>10</th><td>HALLMARK_UNFOLDED_PROTEIN_RESPONSE</td><td>-0.606426</td><td>0.1158</td><td>0.871905</td></tr><tr><th>11</th><td>HALLMARK_PROTEIN_SECRETION</td><td>-0.540349</td><td>0.164</td><td>0.579</td></tr><tr><th>12</th><td>HALLMARK_OXIDATIVE_PHOSPHORYLATION</td><td>-0.506689</td><td>0.1886</td><td>0.752174</td></tr><tr><th>13</th><td>HALLMARK_REACTIVE_OXYGEN_SPECIES_PATHWAY</td><td>-0.427436</td><td>0.2584</td><td>0.938163</td></tr><tr><th>14</th><td>HALLMARK_MITOTIC_SPINDLE</td><td>-0.36914</td><td>0.324</td><td>0.752174</td></tr><tr><th>15</th><td>HALLMARK_XENOBIOTIC_METABOLISM</td><td>-0.355853</td><td>0.3402</td><td>0.752174</td></tr><tr><th>16</th><td>HALLMARK_PEROXISOME</td><td>-0.35578</td><td>0.3408</td><td>0.579</td></tr><tr><th>17</th><td>HALLMARK_MTORC1_SIGNALING</td><td>-0.346912</td><td>0.3528</td><td>0.913514</td></tr><tr><th>18</th><td>HALLMARK_UV_RESPONSE_UP</td><td>-0.346756</td><td>0.3528</td><td>0.752174</td></tr><tr><th>19</th><td>HALLMARK_G2M_CHECKPOINT</td><td>-0.346021</td><td>0.3534</td><td>0.579</td></tr><tr><th>20</th><td>HALLMARK_ALLOGRAFT_REJECTION</td><td>-0.337361</td><td>0.3662</td><td>0.752174</td></tr><tr><th>21</th><td>HALLMARK_IL6_JAK_STAT3_SIGNALING</td><td>-0.337118</td><td>0.3662</td><td>0.795417</td></tr><tr><th>22</th><td>HALLMARK_IL2_STAT5_SIGNALING</td><td>-0.291293</td><td>0.4148</td><td>0.579</td></tr><tr><th>23</th><td>HALLMARK_KRAS_SIGNALING_UP</td><td>-0.215551</td><td>0.472</td><td>0.745455</td></tr><tr><th>24</th><td>HALLMARK_APOPTOSIS</td><td>0.263304</td><td>0.466</td><td>0.871905</td></tr><tr><th>25</th><td>HALLMARK_TGF_BETA_SIGNALING</td><td>0.293367</td><td>0.4314</td><td>0.752174</td></tr><tr><th>26</th><td>HALLMARK_GLYCOLYSIS</td><td>0.297245</td><td>0.4266</td><td>0.579</td></tr><tr><th>27</th><td>HALLMARK_COMPLEMENT</td><td>0.336838</td><td>0.3818</td><td>0.752174</td></tr><tr><th>28</th><td>HALLMARK_APICAL_JUNCTION</td><td>0.363909</td><td>0.346</td><td>0.938163</td></tr><tr><th>29</th><td>HALLMARK_HEDGEHOG_SIGNALING</td><td>0.368775</td><td>0.3416</td><td>0.752174</td></tr><tr><th>30</th><td>HALLMARK_EPITHELIAL_MESENCHYMAL_TRANSITION</td><td>0.377154</td><td>0.3328</td><td>0.752174</td></tr><tr><th>&vellip;</th><td>&vellip;</td><td>&vellip;</td><td>&vellip;</td><td>&vellip;</td></tr></tbody></table></div>"
      ],
      "text/latex": [
       "\\begin{tabular}{r|cccc}\n",
       "\t& Set & Enrichment & Global pvalue & Adjusted global pvalue\\\\\n",
       "\t\\hline\n",
       "\t& String & Float64 & Float64 & Float64\\\\\n",
       "\t\\hline\n",
       "\t1 & HALLMARK\\_PANCREAS\\_BETA\\_CELLS & -0.747242 & 0.0446 & 0.871905 \\\\\n",
       "\t2 & HALLMARK\\_SPERMATOGENESIS & -0.663597 & 0.0806 & 0.913514 \\\\\n",
       "\t3 & HALLMARK\\_ADIPOGENESIS & -0.663327 & 0.0808 & 0.871905 \\\\\n",
       "\t4 & HALLMARK\\_ANDROGEN\\_RESPONSE & -0.659154 & 0.0818 & 0.752174 \\\\\n",
       "\t5 & HALLMARK\\_E2F\\_TARGETS & -0.646941 & 0.088 & 0.752174 \\\\\n",
       "\t6 & HALLMARK\\_MYC\\_TARGETS\\_V2 & -0.637662 & 0.0942 & 0.938163 \\\\\n",
       "\t7 & HALLMARK\\_BILE\\_ACID\\_METABOLISM & -0.625652 & 0.102 & 0.752174 \\\\\n",
       "\t8 & HALLMARK\\_NOTCH\\_SIGNALING & -0.621242 & 0.1052 & 0.913514 \\\\\n",
       "\t9 & HALLMARK\\_MYC\\_TARGETS\\_V1 & -0.613277 & 0.112 & 0.829615 \\\\\n",
       "\t10 & HALLMARK\\_UNFOLDED\\_PROTEIN\\_RESPONSE & -0.606426 & 0.1158 & 0.871905 \\\\\n",
       "\t11 & HALLMARK\\_PROTEIN\\_SECRETION & -0.540349 & 0.164 & 0.579 \\\\\n",
       "\t12 & HALLMARK\\_OXIDATIVE\\_PHOSPHORYLATION & -0.506689 & 0.1886 & 0.752174 \\\\\n",
       "\t13 & HALLMARK\\_REACTIVE\\_OXYGEN\\_SPECIES\\_PATHWAY & -0.427436 & 0.2584 & 0.938163 \\\\\n",
       "\t14 & HALLMARK\\_MITOTIC\\_SPINDLE & -0.36914 & 0.324 & 0.752174 \\\\\n",
       "\t15 & HALLMARK\\_XENOBIOTIC\\_METABOLISM & -0.355853 & 0.3402 & 0.752174 \\\\\n",
       "\t16 & HALLMARK\\_PEROXISOME & -0.35578 & 0.3408 & 0.579 \\\\\n",
       "\t17 & HALLMARK\\_MTORC1\\_SIGNALING & -0.346912 & 0.3528 & 0.913514 \\\\\n",
       "\t18 & HALLMARK\\_UV\\_RESPONSE\\_UP & -0.346756 & 0.3528 & 0.752174 \\\\\n",
       "\t19 & HALLMARK\\_G2M\\_CHECKPOINT & -0.346021 & 0.3534 & 0.579 \\\\\n",
       "\t20 & HALLMARK\\_ALLOGRAFT\\_REJECTION & -0.337361 & 0.3662 & 0.752174 \\\\\n",
       "\t21 & HALLMARK\\_IL6\\_JAK\\_STAT3\\_SIGNALING & -0.337118 & 0.3662 & 0.795417 \\\\\n",
       "\t22 & HALLMARK\\_IL2\\_STAT5\\_SIGNALING & -0.291293 & 0.4148 & 0.579 \\\\\n",
       "\t23 & HALLMARK\\_KRAS\\_SIGNALING\\_UP & -0.215551 & 0.472 & 0.745455 \\\\\n",
       "\t24 & HALLMARK\\_APOPTOSIS & 0.263304 & 0.466 & 0.871905 \\\\\n",
       "\t25 & HALLMARK\\_TGF\\_BETA\\_SIGNALING & 0.293367 & 0.4314 & 0.752174 \\\\\n",
       "\t26 & HALLMARK\\_GLYCOLYSIS & 0.297245 & 0.4266 & 0.579 \\\\\n",
       "\t27 & HALLMARK\\_COMPLEMENT & 0.336838 & 0.3818 & 0.752174 \\\\\n",
       "\t28 & HALLMARK\\_APICAL\\_JUNCTION & 0.363909 & 0.346 & 0.938163 \\\\\n",
       "\t29 & HALLMARK\\_HEDGEHOG\\_SIGNALING & 0.368775 & 0.3416 & 0.752174 \\\\\n",
       "\t30 & HALLMARK\\_EPITHELIAL\\_MESENCHYMAL\\_TRANSITION & 0.377154 & 0.3328 & 0.752174 \\\\\n",
       "\t$\\dots$ & $\\dots$ & $\\dots$ & $\\dots$ & $\\dots$ \\\\\n",
       "\\end{tabular}\n"
      ],
      "text/plain": [
       "\u001b[1m50×4 DataFrame\u001b[0m\n",
       "\u001b[1m Row \u001b[0m│\u001b[1m Set                               \u001b[0m\u001b[1m Enrichment \u001b[0m\u001b[1m Global pvalue \u001b[0m\u001b[1m Adjusted \u001b[0m ⋯\n",
       "\u001b[1m     \u001b[0m│\u001b[90m String                            \u001b[0m\u001b[90m Float64    \u001b[0m\u001b[90m Float64       \u001b[0m\u001b[90m Float64  \u001b[0m ⋯\n",
       "─────┼──────────────────────────────────────────────────────────────────────────\n",
       "   1 │ HALLMARK_PANCREAS_BETA_CELLS        -0.747242         0.0446            ⋯\n",
       "   2 │ HALLMARK_SPERMATOGENESIS            -0.663597         0.0806\n",
       "   3 │ HALLMARK_ADIPOGENESIS               -0.663327         0.0808\n",
       "   4 │ HALLMARK_ANDROGEN_RESPONSE          -0.659154         0.0818\n",
       "   5 │ HALLMARK_E2F_TARGETS                -0.646941         0.088             ⋯\n",
       "   6 │ HALLMARK_MYC_TARGETS_V2             -0.637662         0.0942\n",
       "   7 │ HALLMARK_BILE_ACID_METABOLISM       -0.625652         0.102\n",
       "   8 │ HALLMARK_NOTCH_SIGNALING            -0.621242         0.1052\n",
       "   9 │ HALLMARK_MYC_TARGETS_V1             -0.613277         0.112             ⋯\n",
       "  10 │ HALLMARK_UNFOLDED_PROTEIN_RESPON…   -0.606426         0.1158\n",
       "  11 │ HALLMARK_PROTEIN_SECRETION          -0.540349         0.164\n",
       "  ⋮  │                 ⋮                      ⋮             ⋮                  ⋱\n",
       "  41 │ HALLMARK_INFLAMMATORY_RESPONSE       0.551609         0.1578\n",
       "  42 │ HALLMARK_ANGIOGENESIS                0.560682         0.1482            ⋯\n",
       "  43 │ HALLMARK_HEME_METABOLISM             0.576251         0.1406\n",
       "  44 │ HALLMARK_UV_RESPONSE_DN              0.582825         0.1366\n",
       "  45 │ HALLMARK_CHOLESTEROL_HOMEOSTASIS     0.58972          0.1328\n",
       "  46 │ HALLMARK_TNFA_SIGNALING_VIA_NFKB     0.601872         0.125             ⋯\n",
       "  47 │ HALLMARK_MYOGENESIS                  0.621727         0.1146\n",
       "  48 │ HALLMARK_INTERFERON_GAMMA_RESPON…    0.725258         0.0478\n",
       "  49 │ HALLMARK_INTERFERON_ALPHA_RESPON…    0.733436         0.0436\n",
       "  50 │ HALLMARK_APICAL_SURFACE              0.740481         0.0418            ⋯\n",
       "\u001b[36m                                                    1 column and 29 rows omitted\u001b[0m"
      ]
     },
     "execution_count": 18,
     "metadata": {},
     "output_type": "execute_result"
    }
   ],
   "source": [
    "GSEA.metric_rank(sett, set_, joinpath(@__DIR__, \"target_x_sample_x_number.tsv\"), sc, ou)"
   ]
  },
  {
   "cell_type": "code",
   "execution_count": 19,
   "id": "3407a56b",
   "metadata": {
    "execution": {
     "iopub.execute_input": "2022-07-03T14:52:31.487000Z",
     "iopub.status.busy": "2022-07-03T14:52:31.487000Z",
     "iopub.status.idle": "2022-07-03T14:52:31.839000Z",
     "shell.execute_reply": "2022-07-03T14:52:31.839000Z"
    }
   },
   "outputs": [
    {
     "name": "stdout",
     "output_type": "stream",
     "text": [
      "Printing 1000 x 2\n",
      "1:3 x 1:2\n",
      "\u001b[1m3×2 DataFrame\u001b[0m\n",
      "\u001b[1m Row \u001b[0m│\u001b[1m Gene     \u001b[0m\u001b[1m signal_to_noise_ratio \u001b[0m\n",
      "\u001b[1m     \u001b[0m│\u001b[90m String15 \u001b[0m\u001b[90m Float64               \u001b[0m\n",
      "─────┼─────────────────────────────────\n",
      "   1 │ CENPV                  -1.7411\n",
      "   2 │ SH2D2A                 -1.41915\n",
      "   3 │ CPNE7                  -1.35949\n",
      "998:1000 x 1:2\n",
      "\u001b[1m3×2 DataFrame\u001b[0m\n",
      "\u001b[1m Row \u001b[0m│\u001b[1m Gene         \u001b[0m\u001b[1m signal_to_noise_ratio \u001b[0m\n",
      "\u001b[1m     \u001b[0m│\u001b[90m String15     \u001b[0m\u001b[90m Float64               \u001b[0m\n",
      "─────┼─────────────────────────────────────\n",
      "   1 │ OVCH2                       1.29857\n",
      "   2 │ RP11-134G8.8                1.58765\n",
      "   3 │ RNF144B                     1.83724\n"
     ]
    }
   ],
   "source": [
    "OnePiece.dataframe.print(OnePiece.table.read(joinpath(ou, me)))"
   ]
  },
  {
   "cell_type": "code",
   "execution_count": 20,
   "id": "df65e4da",
   "metadata": {
    "execution": {
     "iopub.execute_input": "2022-07-03T14:52:31.842000Z",
     "iopub.status.busy": "2022-07-03T14:52:31.842000Z",
     "iopub.status.idle": "2022-07-03T14:52:31.861000Z",
     "shell.execute_reply": "2022-07-03T14:52:31.861000Z"
    }
   },
   "outputs": [
    {
     "name": "stdout",
     "output_type": "stream",
     "text": [
      "[\"gene_x_metric_x_score.tsv\", \"plot\", \"set_x_random_x_enrichment.tsv\", \"set_x_statistic_x_number.tsv\"]\n",
      "Printing 50 x 4\n",
      "1:3 x 1:3\n",
      "\u001b[1m3×3 DataFrame\u001b[0m\n",
      "\u001b[1m Row \u001b[0m│\u001b[1m Set                          \u001b[0m\u001b[1m Enrichment \u001b[0m\u001b[1m Global pvalue \u001b[0m\n",
      "\u001b[1m     \u001b[0m│\u001b[90m String                       \u001b[0m\u001b[90m Float64    \u001b[0m\u001b[90m Float64       \u001b[0m\n",
      "─────┼─────────────────────────────────────────────────────────\n",
      "   1 │ HALLMARK_PANCREAS_BETA_CELLS   -0.747242         0.0446\n",
      "   2 │ HALLMARK_SPERMATOGENESIS       -0.663597         0.0806\n",
      "   3 │ HALLMARK_ADIPOGENESIS          -0.663327         0.0808\n",
      "1:3 x 2:4\n",
      "\u001b[1m3×3 DataFrame\u001b[0m\n",
      "\u001b[1m Row \u001b[0m│\u001b[1m Enrichment \u001b[0m\u001b[1m Global pvalue \u001b[0m\u001b[1m Adjusted global pvalue \u001b[0m\n",
      "\u001b[1m     \u001b[0m│\u001b[90m Float64    \u001b[0m\u001b[90m Float64       \u001b[0m\u001b[90m Float64                \u001b[0m\n",
      "─────┼───────────────────────────────────────────────────\n",
      "   1 │  -0.747242         0.0446                0.871905\n",
      "   2 │  -0.663597         0.0806                0.913514\n",
      "   3 │  -0.663327         0.0808                0.871905\n",
      "48:50 x 1:3\n",
      "\u001b[1m3×3 DataFrame\u001b[0m\n",
      "\u001b[1m Row \u001b[0m│\u001b[1m Set                               \u001b[0m\u001b[1m Enrichment \u001b[0m\u001b[1m Global pvalue \u001b[0m\n",
      "\u001b[1m     \u001b[0m│\u001b[90m String                            \u001b[0m\u001b[90m Float64    \u001b[0m\u001b[90m Float64       \u001b[0m\n",
      "─────┼──────────────────────────────────────────────────────────────\n",
      "   1 │ HALLMARK_INTERFERON_GAMMA_RESPON…    0.725258         0.0478\n",
      "   2 │ HALLMARK_INTERFERON_ALPHA_RESPON…    0.733436         0.0436\n",
      "   3 │ HALLMARK_APICAL_SURFACE              0.740481         0.0418\n",
      "48:50 x 2:4\n",
      "\u001b[1m3×3 DataFrame\u001b[0m\n",
      "\u001b[1m Row \u001b[0m│\u001b[1m Enrichment \u001b[0m\u001b[1m Global pvalue \u001b[0m\u001b[1m Adjusted global pvalue \u001b[0m\n",
      "\u001b[1m     \u001b[0m│\u001b[90m Float64    \u001b[0m\u001b[90m Float64       \u001b[0m\u001b[90m Float64                \u001b[0m\n",
      "─────┼───────────────────────────────────────────────────\n",
      "   1 │   0.725258         0.0478                0.579\n",
      "   2 │   0.733436         0.0436                0.938163\n",
      "   3 │   0.740481         0.0418                0.579\n",
      "Printing 50 x 101\n",
      "1:3 x 1:3\n",
      "\u001b[1m3×3 DataFrame\u001b[0m\n",
      "\u001b[1m Row \u001b[0m│\u001b[1m Set                               \u001b[0m\u001b[1m 1         \u001b[0m\u001b[1m 2         \u001b[0m\n",
      "\u001b[1m     \u001b[0m│\u001b[90m String                            \u001b[0m\u001b[90m Float64   \u001b[0m\u001b[90m Float64   \u001b[0m\n",
      "─────┼─────────────────────────────────────────────────────────\n",
      "   1 │ HALLMARK_REACTIVE_OXYGEN_SPECIES…  -0.450254  -0.502665\n",
      "   2 │ HALLMARK_PI3K_AKT_MTOR_SIGNALING   -0.642643  -0.752753\n",
      "   3 │ HALLMARK_ANGIOGENESIS              -0.695454  -0.377022\n",
      "1:3 x 99:101\n",
      "\u001b[1m3×3 DataFrame\u001b[0m\n",
      "\u001b[1m Row \u001b[0m│\u001b[1m 98        \u001b[0m\u001b[1m 99        \u001b[0m\u001b[1m 100       \u001b[0m\n",
      "\u001b[1m     \u001b[0m│\u001b[90m Float64   \u001b[0m\u001b[90m Float64   \u001b[0m\u001b[90m Float64   \u001b[0m\n",
      "─────┼─────────────────────────────────\n",
      "   1 │  0.402704   0.702106  -0.630351\n",
      "   2 │ -0.7998     0.677678  -0.603604\n",
      "   3 │  0.484441  -0.748942  -0.421377\n",
      "48:50 x 1:3\n",
      "\u001b[1m3×3 DataFrame\u001b[0m\n",
      "\u001b[1m Row \u001b[0m│\u001b[1m Set                               \u001b[0m\u001b[1m 1         \u001b[0m\u001b[1m 2         \u001b[0m\n",
      "\u001b[1m     \u001b[0m│\u001b[90m String                            \u001b[0m\u001b[90m Float64   \u001b[0m\u001b[90m Float64   \u001b[0m\n",
      "─────┼─────────────────────────────────────────────────────────\n",
      "   1 │ HALLMARK_IL6_JAK_STAT3_SIGNALING    0.650953   0.694491\n",
      "   2 │ HALLMARK_MTORC1_SIGNALING          -0.688604  -0.574092\n",
      "   3 │ HALLMARK_INTERFERON_ALPHA_RESPON…   0.295407   0.542432\n",
      "48:50 x 99:101\n",
      "\u001b[1m3×3 DataFrame\u001b[0m\n",
      "\u001b[1m Row \u001b[0m│\u001b[1m 98        \u001b[0m\u001b[1m 99        \u001b[0m\u001b[1m 100       \u001b[0m\n",
      "\u001b[1m     \u001b[0m│\u001b[90m Float64   \u001b[0m\u001b[90m Float64   \u001b[0m\u001b[90m Float64   \u001b[0m\n",
      "─────┼─────────────────────────────────\n",
      "   1 │ -0.501196  -0.616369  -0.560682\n",
      "   2 │ -0.288635  -0.546403   0.399596\n",
      "   3 │ -0.394985  -0.261417  -0.349299\n"
     ]
    }
   ],
   "source": [
    "print_output(ou)"
   ]
  }
 ],
 "metadata": {
  "@webio": {
   "lastCommId": null,
   "lastKernelId": null
  },
  "kernelspec": {
   "display_name": "Julia 1.7.3",
   "language": "julia",
   "name": "julia-1.7"
  },
  "language_info": {
   "file_extension": ".jl",
   "mimetype": "application/julia",
   "name": "julia",
   "version": "1.7.3"
  }
 },
 "nbformat": 4,
 "nbformat_minor": 5
}
