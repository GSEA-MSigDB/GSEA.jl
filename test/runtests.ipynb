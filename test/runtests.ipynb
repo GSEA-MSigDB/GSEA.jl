{
 "cells": [
  {
   "outputs": [],
   "cell_type": "code",
   "source": [
    "using GSEA\n",
    "\n",
    "using OnePiece"
   ],
   "id": "efccc025",
   "metadata": {},
   "execution_count": null
  },
  {
   "outputs": [],
   "cell_type": "code",
   "source": [
    "te = OnePiece.Path.make_temporary(\"GSEA.test\")"
   ],
   "id": "a8384830",
   "metadata": {},
   "execution_count": null
  },
  {
   "outputs": [],
   "cell_type": "code",
   "source": [
    "se = joinpath(@__DIR__, \"set_genes.json\")"
   ],
   "id": "2e799623",
   "metadata": {},
   "execution_count": null
  },
  {
   "cell_type": "markdown",
   "source": [
    "## _filter_set!"
   ],
   "id": "c3ac4d60",
   "metadata": {}
  },
  {
   "outputs": [],
   "cell_type": "code",
   "source": [
    "se_fe_ = OnePiece.Dict.read(se)\n",
    "\n",
    "GSEA._filter_set!(se_fe_, false, [], 33, 36)\n",
    "\n",
    "@assert length(se_fe_) == 2"
   ],
   "id": "d950b8fd",
   "metadata": {},
   "execution_count": null
  },
  {
   "outputs": [],
   "cell_type": "code",
   "source": [
    "se_fe_ = OnePiece.Dict.read(se)\n",
    "\n",
    "GSEA._filter_set!(se_fe_, true, [\"SHH\", \"XIST\"], 1, 5656)\n",
    "\n",
    "@assert length(se_fe_) == 2"
   ],
   "id": "dbe3ee86",
   "metadata": {},
   "execution_count": null
  },
  {
   "cell_type": "markdown",
   "source": [
    "## _make_keyword_argument"
   ],
   "id": "bfe5833b",
   "metadata": {}
  },
  {
   "outputs": [],
   "cell_type": "code",
   "source": [
    "GSEA._make_keyword_argument(\n",
    "    Dict(\"exponent\" => 2.0, \"algorithm\" => \"Jensen-Shannon divergence\", \"number_of_jobs\" => 8),\n",
    ")"
   ],
   "id": "b63b396d",
   "metadata": {},
   "execution_count": null
  },
  {
   "cell_type": "markdown",
   "source": [
    "## *_rank"
   ],
   "id": "1754ec23-bbbb-4af2-bb98-658734297ca0",
   "metadata": {}
  },
  {
   "outputs": [],
   "cell_type": "code",
   "source": [
    "sc = joinpath(@__DIR__, \"gene_x_sample_x_score.tsv\")"
   ],
   "id": "241f1aac",
   "metadata": {},
   "execution_count": null
  },
  {
   "cell_type": "markdown",
   "source": [
    "## data_rank"
   ],
   "id": "c6118869",
   "metadata": {}
  },
  {
   "outputs": [],
   "cell_type": "code",
   "source": [
    "ou = joinpath(te, \"data_rank\")"
   ],
   "id": "8f9f9cde",
   "metadata": {},
   "execution_count": null
  },
  {
   "outputs": [],
   "cell_type": "code",
   "source": [
    "GSEA.data_rank(joinpath(dirname(@__DIR__), \"setting_for_data_rank.json\"), sc, se, ou)"
   ],
   "id": "bb2ff41f",
   "metadata": {},
   "execution_count": null
  },
  {
   "outputs": [],
   "cell_type": "code",
   "source": [
    "OnePiece.DataFrame.print(OnePiece.Table.read(joinpath(ou, \"set_x_sample_x_enrichment.tsv\")))"
   ],
   "id": "67644dd5",
   "metadata": {},
   "execution_count": null
  },
  {
   "cell_type": "markdown",
   "source": [
    "## *_rank"
   ],
   "id": "73a5ae86",
   "metadata": {}
  },
  {
   "outputs": [],
   "cell_type": "code",
   "source": [
    "me = \"gene_x_metric_x_score.tsv\""
   ],
   "id": "c4dc53e5",
   "metadata": {},
   "execution_count": null
  },
  {
   "outputs": [],
   "cell_type": "code",
   "source": [
    "function print_output(ou)\n",
    "\n",
    "    println(readdir(ou))\n",
    "\n",
    "    OnePiece.DataFrame.print(OnePiece.Table.read(joinpath(ou, \"set_x_statistic_x_number.tsv\")))\n",
    "\n",
    "    OnePiece.DataFrame.print(OnePiece.Table.read(joinpath(ou, \"set_x_random_x_enrichment.tsv\")))\n",
    "\n",
    "end"
   ],
   "id": "8f0bfb38",
   "metadata": {},
   "execution_count": null
  },
  {
   "cell_type": "markdown",
   "source": [
    "## user_rank"
   ],
   "id": "20e2e81f",
   "metadata": {}
  },
  {
   "outputs": [],
   "cell_type": "code",
   "source": [
    "ou = joinpath(te, \"user_rank\")"
   ],
   "id": "549e17e2",
   "metadata": {},
   "execution_count": null
  },
  {
   "outputs": [],
   "cell_type": "code",
   "source": [
    "GSEA.user_rank(\n",
    "    joinpath(dirname(@__DIR__), \"setting_for_user_rank.json\"),\n",
    "    joinpath(@__DIR__, me),\n",
    "    se,\n",
    "    ou,\n",
    ")"
   ],
   "id": "34ee6adb",
   "metadata": {},
   "execution_count": null
  },
  {
   "outputs": [],
   "cell_type": "code",
   "source": [
    "print_output(ou)"
   ],
   "id": "8e890cd8",
   "metadata": {},
   "execution_count": null
  },
  {
   "outputs": [],
   "cell_type": "code",
   "source": [
    "readdir(joinpath(ou, \"plot\"))"
   ],
   "id": "05343183-a1bb-4e89-a1e7-e3bc77fec492",
   "metadata": {},
   "execution_count": null
  },
  {
   "cell_type": "markdown",
   "source": [
    "## metric_rank"
   ],
   "id": "aabfe581",
   "metadata": {}
  },
  {
   "outputs": [],
   "cell_type": "code",
   "source": [
    "ou = joinpath(te, \"metric_rank\")"
   ],
   "id": "8ba57cef",
   "metadata": {},
   "execution_count": null
  },
  {
   "outputs": [],
   "cell_type": "code",
   "source": [
    "GSEA.metric_rank(\n",
    "    joinpath(dirname(@__DIR__), \"setting_for_metric_rank.json\"),\n",
    "    joinpath(@__DIR__, \"target_x_sample_x_number.tsv\"),\n",
    "    sc,\n",
    "    se,\n",
    "    ou,\n",
    ")"
   ],
   "id": "067cf9fa",
   "metadata": {},
   "execution_count": null
  },
  {
   "outputs": [],
   "cell_type": "code",
   "source": [
    "OnePiece.DataFrame.print(OnePiece.Table.read(joinpath(ou, me)))"
   ],
   "id": "3407a56b",
   "metadata": {},
   "execution_count": null
  },
  {
   "outputs": [],
   "cell_type": "code",
   "source": [
    "print_output(ou)"
   ],
   "id": "df65e4da",
   "metadata": {},
   "execution_count": null
  },
  {
   "cell_type": "markdown",
   "source": [
    "## _plot_mountain"
   ],
   "id": "5f8f0f60-b04f-4b43-8138-7c4307f3bd0b",
   "metadata": {}
  },
  {
   "outputs": [],
   "cell_type": "code",
   "source": [
    "sm = joinpath(@__DIR__, \"small\")\n",
    "\n",
    "GSEA.metric_rank(\n",
    "    joinpath(sm, \"setting_for_metric_rank.json\"),\n",
    "    joinpath(@__DIR__, \"target_x_sample_x_number.tsv\"),\n",
    "    sc,\n",
    "    joinpath(sm, \"set_genes.json\"),\n",
    "    joinpath(te, \"metric_rank.small\"),\n",
    ")"
   ],
   "id": "3a1e9d3d-f714-481d-9d9d-65db3f0b6536",
   "metadata": {},
   "execution_count": null
  }
 ],
 "nbformat_minor": 5,
 "metadata": {
  "language_info": {
   "file_extension": ".jl",
   "mimetype": "application/julia",
   "name": "julia",
   "version": "1.8.2"
  },
  "@webio": {
   "lastKernelId": null,
   "lastCommId": null
  },
  "kernelspec": {
   "name": "julia-1.8",
   "display_name": "Julia 1.8.2",
   "language": "julia"
  }
 },
 "nbformat": 4
}
