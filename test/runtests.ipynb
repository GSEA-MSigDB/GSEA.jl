{
 "cells": [
  {
   "cell_type": "code",
   "execution_count": null,
   "id": "a8384830",
   "metadata": {},
   "outputs": [],
   "source": [
    "TE = joinpath(tempdir(), \"GSEA.test\")\n",
    "\n",
    "if isdir(TE)\n",
    "\n",
    "    rm(TE, recursive = true)\n",
    "\n",
    "end\n",
    "\n",
    "mkdir(TE)"
   ]
  },
  {
   "cell_type": "code",
   "execution_count": null,
   "id": "ce40ef9e",
   "metadata": {},
   "outputs": [],
   "source": [
    "#using Revise\n",
    "using GSEA"
   ]
  },
  {
   "cell_type": "markdown",
   "id": "3fc8766e",
   "metadata": {},
   "source": [
    "---"
   ]
  },
  {
   "cell_type": "code",
   "execution_count": null,
   "id": "163a496c",
   "metadata": {},
   "outputs": [],
   "source": [
    "using OnePiece"
   ]
  },
  {
   "cell_type": "code",
   "execution_count": null,
   "id": "bbe97d74",
   "metadata": {},
   "outputs": [],
   "source": [
    "sett = joinpath(dirname(@__DIR__), \"setting.json\")"
   ]
  },
  {
   "cell_type": "code",
   "execution_count": null,
   "id": "2e799623",
   "metadata": {},
   "outputs": [],
   "source": [
    "set_ = joinpath(@__DIR__, \"set_genes.json\")"
   ]
  },
  {
   "cell_type": "code",
   "execution_count": null,
   "id": "94d760e2",
   "metadata": {},
   "outputs": [],
   "source": [
    "te = joinpath(tempdir(), \"GSEA\")\n",
    "\n",
    "rm(te, recursive = true)\n",
    "\n",
    "mkdir(te)"
   ]
  },
  {
   "cell_type": "markdown",
   "id": "c3ac4d60",
   "metadata": {},
   "source": [
    "## _filter_set!"
   ]
  },
  {
   "cell_type": "code",
   "execution_count": null,
   "id": "d950b8fd",
   "metadata": {},
   "outputs": [],
   "source": [
    "se_fe_ = OnePiece.dict.read(set_)\n",
    "\n",
    "GSEA._filter_set!(se_fe_, false, [], 33, 36)\n",
    "\n",
    "@assert length(se_fe_) == 2"
   ]
  },
  {
   "cell_type": "code",
   "execution_count": null,
   "id": "dbe3ee86",
   "metadata": {},
   "outputs": [],
   "source": [
    "se_fe_ = OnePiece.dict.read(set_)\n",
    "\n",
    "GSEA._filter_set!(se_fe_, true, [\"SHH\", \"XIST\"], 1, 5656)\n",
    "\n",
    "@assert length(se_fe_) == 2"
   ]
  },
  {
   "cell_type": "markdown",
   "id": "bfe5833b",
   "metadata": {},
   "source": [
    "## _make_keyword_argument"
   ]
  },
  {
   "cell_type": "code",
   "execution_count": null,
   "id": "b63b396d",
   "metadata": {},
   "outputs": [],
   "source": [
    "GSEA._make_keyword_argument(\n",
    "    Dict(\"exponent\" => 2.0, \"algorithm\" => \"Jensen-Shannon divergence\", \"number_of_jobs\" => 8),\n",
    ")"
   ]
  },
  {
   "cell_type": "code",
   "execution_count": null,
   "id": "241f1aac",
   "metadata": {},
   "outputs": [],
   "source": [
    "sc = joinpath(@__DIR__, \"gene_x_sample_x_score.tsv\")"
   ]
  },
  {
   "cell_type": "markdown",
   "id": "c6118869",
   "metadata": {},
   "source": [
    "## data_rank"
   ]
  },
  {
   "cell_type": "code",
   "execution_count": null,
   "id": "8f9f9cde",
   "metadata": {},
   "outputs": [],
   "source": [
    "ou = joinpath(te, \"data_rank\")"
   ]
  },
  {
   "cell_type": "code",
   "execution_count": null,
   "id": "bb2ff41f",
   "metadata": {},
   "outputs": [],
   "source": [
    "GSEA.data_rank(sett, set_, sc, ou)"
   ]
  },
  {
   "cell_type": "code",
   "execution_count": null,
   "id": "67644dd5",
   "metadata": {},
   "outputs": [],
   "source": [
    "OnePiece.dataframe.print(OnePiece.table.read(joinpath(ou, \"set_x_sample_x_enrichment.tsv\")))"
   ]
  },
  {
   "cell_type": "code",
   "execution_count": null,
   "id": "c4dc53e5",
   "metadata": {},
   "outputs": [],
   "source": [
    "me = \"gene_x_metric_x_score.tsv\""
   ]
  },
  {
   "cell_type": "code",
   "execution_count": null,
   "id": "8f0bfb38",
   "metadata": {},
   "outputs": [],
   "source": [
    "function print_output(ou)\n",
    "\n",
    "    println(readdir(ou))\n",
    "\n",
    "    OnePiece.dataframe.print(OnePiece.table.read(joinpath(ou, \"set_x_statistic_x_number.tsv\")))\n",
    "\n",
    "    OnePiece.dataframe.print(OnePiece.table.read(joinpath(ou, \"set_x_random_x_enrichment.tsv\")))\n",
    "\n",
    "end"
   ]
  },
  {
   "cell_type": "markdown",
   "id": "20e2e81f",
   "metadata": {},
   "source": [
    "## user_rank"
   ]
  },
  {
   "cell_type": "code",
   "execution_count": null,
   "id": "549e17e2",
   "metadata": {},
   "outputs": [],
   "source": [
    "ou = joinpath(te, \"user_rank\")"
   ]
  },
  {
   "cell_type": "code",
   "execution_count": null,
   "id": "34ee6adb",
   "metadata": {},
   "outputs": [],
   "source": [
    "GSEA.user_rank(sett, set_, joinpath(@__DIR__, me), ou)"
   ]
  },
  {
   "cell_type": "code",
   "execution_count": null,
   "id": "8e890cd8",
   "metadata": {},
   "outputs": [],
   "source": [
    "print_output(ou)"
   ]
  },
  {
   "cell_type": "markdown",
   "id": "aabfe581",
   "metadata": {},
   "source": [
    "## metric_rank"
   ]
  },
  {
   "cell_type": "code",
   "execution_count": null,
   "id": "8ba57cef",
   "metadata": {},
   "outputs": [],
   "source": [
    "ou = joinpath(te, \"metric_rank\")"
   ]
  },
  {
   "cell_type": "code",
   "execution_count": null,
   "id": "067cf9fa",
   "metadata": {},
   "outputs": [],
   "source": [
    "GSEA.metric_rank(sett, set_, joinpath(@__DIR__, \"target_x_sample_x_number.tsv\"), sc, ou)"
   ]
  },
  {
   "cell_type": "code",
   "execution_count": null,
   "id": "3407a56b",
   "metadata": {},
   "outputs": [],
   "source": [
    "OnePiece.dataframe.print(OnePiece.table.read(joinpath(ou, me)))"
   ]
  },
  {
   "cell_type": "code",
   "execution_count": null,
   "id": "df65e4da",
   "metadata": {},
   "outputs": [],
   "source": [
    "print_output(ou)"
   ]
  },
  {
   "cell_type": "markdown",
   "id": "e4aec63f",
   "metadata": {},
   "source": [
    "---"
   ]
  }
 ],
 "metadata": {
  "@webio": {
   "lastCommId": null,
   "lastKernelId": null
  },
  "kernelspec": {
   "display_name": "Julia 1.7.3",
   "language": "julia",
   "name": "julia-1.7"
  },
  "language_info": {
   "file_extension": ".jl",
   "mimetype": "application/julia",
   "name": "julia",
   "version": "1.7.3"
  }
 },
 "nbformat": 4,
 "nbformat_minor": 5
}
