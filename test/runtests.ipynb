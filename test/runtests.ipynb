{
 "cells": [
  {
   "cell_type": "code",
   "execution_count": 1,
   "id": "ad4fb98a",
   "metadata": {},
   "outputs": [
    {
     "name": "stdout",
     "output_type": "stream",
     "text": [
      "Made /Users/kwat/Downloads/GSEA.test/.\n"
     ]
    }
   ],
   "source": [
    "TE = joinpath(homedir(), \"Downloads\", \"GSEA.test\", \"\")\n",
    "\n",
    "if isdir(TE)\n",
    "\n",
    "    rm(TE; recursive = true)\n",
    "\n",
    "end\n",
    "\n",
    "mkdir(TE)\n",
    "\n",
    "println(\"Made \", TE, \".\")"
   ]
  },
  {
   "cell_type": "code",
   "execution_count": 2,
   "id": "34e4701e",
   "metadata": {},
   "outputs": [],
   "source": [
    "using Revise\n",
    "using BenchmarkTools"
   ]
  },
  {
   "cell_type": "markdown",
   "id": "349c228e",
   "metadata": {},
   "source": [
    "---"
   ]
  },
  {
   "cell_type": "code",
   "execution_count": 3,
   "id": "2fc7605d",
   "metadata": {},
   "outputs": [
    {
     "data": {
      "application/vnd.webio.node+json": {
       "children": [],
       "instanceArgs": {
        "namespace": "html",
        "tag": "div"
       },
       "nodeType": "DOM",
       "props": {},
       "type": "node"
      },
      "text/html": [
       "<div style=\"padding: 1em; background-color: #f8d6da; border: 1px solid #f5c6cb; font-weight: bold;\">\n",
       "<p>The WebIO Jupyter extension was not detected. See the\n",
       "<a href=\"https://juliagizmos.github.io/WebIO.jl/latest/providers/ijulia/\" target=\"_blank\">\n",
       "    WebIO Jupyter integration documentation\n",
       "</a>\n",
       "for more information.\n",
       "</div>\n"
      ],
      "text/plain": [
       "WebIO._IJuliaInit()"
      ]
     },
     "metadata": {
      "application/vnd.webio.node+json": {
       "kernelId": "025d22bc-ac84-4ee9-aec4-31e2a7823154"
      }
     },
     "output_type": "display_data"
    }
   ],
   "source": [
    "using GMTAccess\n",
    "using TableAccess\n",
    "\n",
    "using GSEA"
   ]
  },
  {
   "cell_type": "code",
   "execution_count": 4,
   "id": "db9d1ad8",
   "metadata": {},
   "outputs": [],
   "source": [
    "da = joinpath(@__DIR__, \"data\", \"\")\n",
    "\n",
    "gm = joinpath(da, \"h.all.v7.1.symbols.gmt\")\n",
    "\n",
    ";"
   ]
  },
  {
   "cell_type": "markdown",
   "id": "67f44741",
   "metadata": {},
   "source": [
    "## read_set"
   ]
  },
  {
   "cell_type": "code",
   "execution_count": 5,
   "id": "fd4fb9e6",
   "metadata": {},
   "outputs": [
    {
     "name": "stdout",
     "output_type": "stream",
     "text": [
      "Before selecting set:\n",
      "50 keys and 50 unique values\n",
      "After:\n",
      "2 keys and 2 unique values\n"
     ]
    },
    {
     "data": {
      "text/plain": [
       "Dict{String, Vector{String}} with 2 entries:\n",
       "  \"HALLMARK_ANGIOGENESIS\"       => [\"VCAN\", \"POSTN\", \"FSTL1\", \"LRPAP1\", \"STC1\",…\n",
       "  \"HALLMARK_HEDGEHOG_SIGNALING\" => [\"SHH\", \"PTCH1\", \"NRCAM\", \"NRP1\", \"SCG2\", \"A…"
      ]
     },
     "execution_count": 5,
     "metadata": {},
     "output_type": "execute_result"
    }
   ],
   "source": [
    "read_set(gm, Dict(\"mi\" => 33, \"ma\" => 36))"
   ]
  },
  {
   "cell_type": "markdown",
   "id": "41e6645d",
   "metadata": {},
   "source": [
    "## select_set"
   ]
  },
  {
   "cell_type": "code",
   "execution_count": 6,
   "id": "0a7d05c0",
   "metadata": {},
   "outputs": [
    {
     "name": "stdout",
     "output_type": "stream",
     "text": [
      "Before selecting set:\n",
      "50 keys and 50 unique values\n",
      "After:\n",
      "2 keys and 2 unique values\n"
     ]
    },
    {
     "data": {
      "text/plain": [
       "Dict{String, Vector{String}} with 2 entries:\n",
       "  \"HALLMARK_ANGIOGENESIS\"       => [\"VCAN\", \"POSTN\", \"FSTL1\", \"LRPAP1\", \"STC1\",…\n",
       "  \"HALLMARK_HEDGEHOG_SIGNALING\" => [\"SHH\", \"PTCH1\", \"NRCAM\", \"NRP1\", \"SCG2\", \"A…"
      ]
     },
     "execution_count": 6,
     "metadata": {},
     "output_type": "execute_result"
    }
   ],
   "source": [
    "select_set(GMTAccess.read(gm), 33, 36)"
   ]
  },
  {
   "cell_type": "markdown",
   "id": "b5d00575",
   "metadata": {},
   "source": [
    "## "
   ]
  },
  {
   "cell_type": "markdown",
   "id": "ac2a8251",
   "metadata": {},
   "source": [
    "## run_single_sample_gsea"
   ]
  },
  {
   "cell_type": "code",
   "execution_count": 7,
   "id": "20a658ad",
   "metadata": {},
   "outputs": [],
   "source": [
    "ou = joinpath(TE, \"single_sample_gsea.tsv\")\n",
    "\n",
    ";"
   ]
  },
  {
   "cell_type": "code",
   "execution_count": 8,
   "id": "cc3daf82",
   "metadata": {
    "scrolled": false
   },
   "outputs": [
    {
     "name": "stdout",
     "output_type": "stream",
     "text": [
      "Before selecting set:\n",
      "50 keys and 50 unique values\n",
      "After:\n",
      "50 keys and 50 unique values\n",
      "/Users/kwat/Downloads/GSEA.test/single_sample_gsea.tsv\n"
     ]
    },
    {
     "data": {
      "text/html": [
       "<div class=\"data-frame\"><p>50 rows × 10 columns (omitted printing of 5 columns)</p><table class=\"data-frame\"><thead><tr><th></th><th>Set</th><th>BRAF-MAPK</th><th>EMT</th><th>ERBB3-PI3K</th><th>HNF1-PAX8</th></tr><tr><th></th><th title=\"String\">String</th><th title=\"Float64\">Float64</th><th title=\"Float64\">Float64</th><th title=\"Float64\">Float64</th><th title=\"Float64\">Float64</th></tr></thead><tbody><tr><th>1</th><td>HALLMARK_ANGIOGENESIS</td><td>0.557673</td><td>0.653546</td><td>0.570235</td><td>0.693437</td></tr><tr><th>2</th><td>HALLMARK_MYOGENESIS</td><td>0.354464</td><td>0.315459</td><td>0.440442</td><td>0.473442</td></tr><tr><th>3</th><td>HALLMARK_PEROXISOME</td><td>0.687751</td><td>0.547888</td><td>0.381727</td><td>-0.761044</td></tr><tr><th>4</th><td>HALLMARK_UV_RESPONSE_DN</td><td>0.387946</td><td>0.328554</td><td>0.437654</td><td>0.420691</td></tr><tr><th>5</th><td>HALLMARK_NOTCH_SIGNALING</td><td>-0.519038</td><td>0.789579</td><td>0.437876</td><td>0.695391</td></tr><tr><th>6</th><td>HALLMARK_ANDROGEN_RESPONSE</td><td>0.437927</td><td>0.401561</td><td>0.564684</td><td>0.644724</td></tr><tr><th>7</th><td>HALLMARK_ALLOGRAFT_REJECTION</td><td>0.526738</td><td>0.441499</td><td>0.415888</td><td>0.401045</td></tr><tr><th>8</th><td>HALLMARK_ESTROGEN_RESPONSE_LATE</td><td>0.343042</td><td>0.42478</td><td>0.432679</td><td>0.304433</td></tr><tr><th>9</th><td>HALLMARK_G2M_CHECKPOINT</td><td>0.559618</td><td>0.324681</td><td>0.572947</td><td>0.552518</td></tr><tr><th>10</th><td>HALLMARK_MYC_TARGETS_V2</td><td>0.784353</td><td>0.601805</td><td>-0.511535</td><td>0.615723</td></tr><tr><th>11</th><td>HALLMARK_APOPTOSIS</td><td>0.747526</td><td>0.3397</td><td>0.52866</td><td>0.280674</td></tr><tr><th>12</th><td>HALLMARK_P53_PATHWAY</td><td>0.346962</td><td>0.373795</td><td>0.332008</td><td>0.432662</td></tr><tr><th>13</th><td>HALLMARK_UNFOLDED_PROTEIN_RESPONSE</td><td>0.7249</td><td>0.313565</td><td>0.3329</td><td>0.681998</td></tr><tr><th>14</th><td>HALLMARK_ADIPOGENESIS</td><td>0.590324</td><td>-0.561122</td><td>0.432164</td><td>0.695391</td></tr><tr><th>15</th><td>HALLMARK_DNA_REPAIR</td><td>0.571702</td><td>0.56732</td><td>-0.429146</td><td>0.441171</td></tr><tr><th>16</th><td>HALLMARK_EPITHELIAL_MESENCHYMAL_TRANSITION</td><td>0.515279</td><td>0.364143</td><td>0.501899</td><td>0.353654</td></tr><tr><th>17</th><td>HALLMARK_OXIDATIVE_PHOSPHORYLATION</td><td>0.879518</td><td>0.438585</td><td>0.514741</td><td>0.439759</td></tr><tr><th>18</th><td>HALLMARK_HEME_METABOLISM</td><td>0.421264</td><td>0.551595</td><td>0.510274</td><td>0.537043</td></tr><tr><th>19</th><td>HALLMARK_MITOTIC_SPINDLE</td><td>0.547732</td><td>0.525987</td><td>0.436191</td><td>0.448013</td></tr><tr><th>20</th><td>HALLMARK_FATTY_ACID_METABOLISM</td><td>0.526052</td><td>-0.803607</td><td>-0.629259</td><td>0.497698</td></tr><tr><th>21</th><td>HALLMARK_COMPLEMENT</td><td>0.514464</td><td>0.378497</td><td>0.288938</td><td>0.439677</td></tr><tr><th>22</th><td>HALLMARK_APICAL_SURFACE</td><td>0.898082</td><td>0.532064</td><td>-0.528056</td><td>-0.544088</td></tr><tr><th>23</th><td>HALLMARK_ESTROGEN_RESPONSE_EARLY</td><td>0.319782</td><td>0.420341</td><td>0.441803</td><td>0.363887</td></tr><tr><th>24</th><td>HALLMARK_INTERFERON_GAMMA_RESPONSE</td><td>0.398096</td><td>0.513607</td><td>0.353854</td><td>0.460338</td></tr><tr><th>25</th><td>HALLMARK_MTORC1_SIGNALING</td><td>0.497477</td><td>0.507447</td><td>-0.248234</td><td>0.368114</td></tr><tr><th>26</th><td>HALLMARK_INTERFERON_ALPHA_RESPONSE</td><td>0.427202</td><td>0.581394</td><td>0.340766</td><td>0.401091</td></tr><tr><th>27</th><td>HALLMARK_REACTIVE_OXYGEN_SPECIES_PATHWAY</td><td>0.601805</td><td>0.515848</td><td>-0.725176</td><td>0.448121</td></tr><tr><th>28</th><td>HALLMARK_PI3K_AKT_MTOR_SIGNALING</td><td>0.810811</td><td>0.938939</td><td>-0.998999</td><td>-0.82983</td></tr><tr><th>29</th><td>HALLMARK_XENOBIOTIC_METABOLISM</td><td>0.496991</td><td>0.399812</td><td>0.399236</td><td>0.44149</td></tr><tr><th>30</th><td>HALLMARK_KRAS_SIGNALING_DN</td><td>0.323966</td><td>0.434543</td><td>0.535347</td><td>0.279898</td></tr><tr><th>&vellip;</th><td>&vellip;</td><td>&vellip;</td><td>&vellip;</td><td>&vellip;</td><td>&vellip;</td></tr></tbody></table></div>"
      ],
      "text/latex": [
       "\\begin{tabular}{r|cccccc}\n",
       "\t& Set & BRAF-MAPK & EMT & ERBB3-PI3K & HNF1-PAX8 & \\\\\n",
       "\t\\hline\n",
       "\t& String & Float64 & Float64 & Float64 & Float64 & \\\\\n",
       "\t\\hline\n",
       "\t1 & HALLMARK\\_ANGIOGENESIS & 0.557673 & 0.653546 & 0.570235 & 0.693437 & $\\dots$ \\\\\n",
       "\t2 & HALLMARK\\_MYOGENESIS & 0.354464 & 0.315459 & 0.440442 & 0.473442 & $\\dots$ \\\\\n",
       "\t3 & HALLMARK\\_PEROXISOME & 0.687751 & 0.547888 & 0.381727 & -0.761044 & $\\dots$ \\\\\n",
       "\t4 & HALLMARK\\_UV\\_RESPONSE\\_DN & 0.387946 & 0.328554 & 0.437654 & 0.420691 & $\\dots$ \\\\\n",
       "\t5 & HALLMARK\\_NOTCH\\_SIGNALING & -0.519038 & 0.789579 & 0.437876 & 0.695391 & $\\dots$ \\\\\n",
       "\t6 & HALLMARK\\_ANDROGEN\\_RESPONSE & 0.437927 & 0.401561 & 0.564684 & 0.644724 & $\\dots$ \\\\\n",
       "\t7 & HALLMARK\\_ALLOGRAFT\\_REJECTION & 0.526738 & 0.441499 & 0.415888 & 0.401045 & $\\dots$ \\\\\n",
       "\t8 & HALLMARK\\_ESTROGEN\\_RESPONSE\\_LATE & 0.343042 & 0.42478 & 0.432679 & 0.304433 & $\\dots$ \\\\\n",
       "\t9 & HALLMARK\\_G2M\\_CHECKPOINT & 0.559618 & 0.324681 & 0.572947 & 0.552518 & $\\dots$ \\\\\n",
       "\t10 & HALLMARK\\_MYC\\_TARGETS\\_V2 & 0.784353 & 0.601805 & -0.511535 & 0.615723 & $\\dots$ \\\\\n",
       "\t11 & HALLMARK\\_APOPTOSIS & 0.747526 & 0.3397 & 0.52866 & 0.280674 & $\\dots$ \\\\\n",
       "\t12 & HALLMARK\\_P53\\_PATHWAY & 0.346962 & 0.373795 & 0.332008 & 0.432662 & $\\dots$ \\\\\n",
       "\t13 & HALLMARK\\_UNFOLDED\\_PROTEIN\\_RESPONSE & 0.7249 & 0.313565 & 0.3329 & 0.681998 & $\\dots$ \\\\\n",
       "\t14 & HALLMARK\\_ADIPOGENESIS & 0.590324 & -0.561122 & 0.432164 & 0.695391 & $\\dots$ \\\\\n",
       "\t15 & HALLMARK\\_DNA\\_REPAIR & 0.571702 & 0.56732 & -0.429146 & 0.441171 & $\\dots$ \\\\\n",
       "\t16 & HALLMARK\\_EPITHELIAL\\_MESENCHYMAL\\_TRANSITION & 0.515279 & 0.364143 & 0.501899 & 0.353654 & $\\dots$ \\\\\n",
       "\t17 & HALLMARK\\_OXIDATIVE\\_PHOSPHORYLATION & 0.879518 & 0.438585 & 0.514741 & 0.439759 & $\\dots$ \\\\\n",
       "\t18 & HALLMARK\\_HEME\\_METABOLISM & 0.421264 & 0.551595 & 0.510274 & 0.537043 & $\\dots$ \\\\\n",
       "\t19 & HALLMARK\\_MITOTIC\\_SPINDLE & 0.547732 & 0.525987 & 0.436191 & 0.448013 & $\\dots$ \\\\\n",
       "\t20 & HALLMARK\\_FATTY\\_ACID\\_METABOLISM & 0.526052 & -0.803607 & -0.629259 & 0.497698 & $\\dots$ \\\\\n",
       "\t21 & HALLMARK\\_COMPLEMENT & 0.514464 & 0.378497 & 0.288938 & 0.439677 & $\\dots$ \\\\\n",
       "\t22 & HALLMARK\\_APICAL\\_SURFACE & 0.898082 & 0.532064 & -0.528056 & -0.544088 & $\\dots$ \\\\\n",
       "\t23 & HALLMARK\\_ESTROGEN\\_RESPONSE\\_EARLY & 0.319782 & 0.420341 & 0.441803 & 0.363887 & $\\dots$ \\\\\n",
       "\t24 & HALLMARK\\_INTERFERON\\_GAMMA\\_RESPONSE & 0.398096 & 0.513607 & 0.353854 & 0.460338 & $\\dots$ \\\\\n",
       "\t25 & HALLMARK\\_MTORC1\\_SIGNALING & 0.497477 & 0.507447 & -0.248234 & 0.368114 & $\\dots$ \\\\\n",
       "\t26 & HALLMARK\\_INTERFERON\\_ALPHA\\_RESPONSE & 0.427202 & 0.581394 & 0.340766 & 0.401091 & $\\dots$ \\\\\n",
       "\t27 & HALLMARK\\_REACTIVE\\_OXYGEN\\_SPECIES\\_PATHWAY & 0.601805 & 0.515848 & -0.725176 & 0.448121 & $\\dots$ \\\\\n",
       "\t28 & HALLMARK\\_PI3K\\_AKT\\_MTOR\\_SIGNALING & 0.810811 & 0.938939 & -0.998999 & -0.82983 & $\\dots$ \\\\\n",
       "\t29 & HALLMARK\\_XENOBIOTIC\\_METABOLISM & 0.496991 & 0.399812 & 0.399236 & 0.44149 & $\\dots$ \\\\\n",
       "\t30 & HALLMARK\\_KRAS\\_SIGNALING\\_DN & 0.323966 & 0.434543 & 0.535347 & 0.279898 & $\\dots$ \\\\\n",
       "\t$\\dots$ & $\\dots$ & $\\dots$ & $\\dots$ & $\\dots$ & $\\dots$ &  \\\\\n",
       "\\end{tabular}\n"
      ],
      "text/plain": [
       "\u001b[1m50×10 DataFrame\u001b[0m\n",
       "\u001b[1m Row \u001b[0m│\u001b[1m Set                               \u001b[0m\u001b[1m BRAF-MAPK \u001b[0m\u001b[1m EMT       \u001b[0m\u001b[1m ERBB3-PI3K \u001b[0m\u001b[1m HN\u001b[0m ⋯\n",
       "\u001b[1m     \u001b[0m│\u001b[90m String                            \u001b[0m\u001b[90m Float64   \u001b[0m\u001b[90m Float64   \u001b[0m\u001b[90m Float64    \u001b[0m\u001b[90m Fl\u001b[0m ⋯\n",
       "─────┼──────────────────────────────────────────────────────────────────────────\n",
       "   1 │ HALLMARK_ANGIOGENESIS               0.557673   0.653546    0.570235   0 ⋯\n",
       "   2 │ HALLMARK_MYOGENESIS                 0.354464   0.315459    0.440442   0\n",
       "   3 │ HALLMARK_PEROXISOME                 0.687751   0.547888    0.381727  -0\n",
       "   4 │ HALLMARK_UV_RESPONSE_DN             0.387946   0.328554    0.437654   0\n",
       "   5 │ HALLMARK_NOTCH_SIGNALING           -0.519038   0.789579    0.437876   0 ⋯\n",
       "   6 │ HALLMARK_ANDROGEN_RESPONSE          0.437927   0.401561    0.564684   0\n",
       "   7 │ HALLMARK_ALLOGRAFT_REJECTION        0.526738   0.441499    0.415888   0\n",
       "   8 │ HALLMARK_ESTROGEN_RESPONSE_LATE     0.343042   0.42478     0.432679   0\n",
       "   9 │ HALLMARK_G2M_CHECKPOINT             0.559618   0.324681    0.572947   0 ⋯\n",
       "  10 │ HALLMARK_MYC_TARGETS_V2             0.784353   0.601805   -0.511535   0\n",
       "  11 │ HALLMARK_APOPTOSIS                  0.747526   0.3397      0.52866    0\n",
       "  ⋮  │                 ⋮                      ⋮          ⋮          ⋮          ⋱\n",
       "  41 │ HALLMARK_KRAS_SIGNALING_UP          0.599827   0.223625    0.399344   0\n",
       "  42 │ HALLMARK_INFLAMMATORY_RESPONSE      0.453693   0.471917    0.309777   0 ⋯\n",
       "  43 │ HALLMARK_CHOLESTEROL_HOMEOSTASIS    0.549749   0.464905    0.6966     0\n",
       "  44 │ HALLMARK_TGF_BETA_SIGNALING         0.557334   0.3787     -0.441532   0\n",
       "  45 │ HALLMARK_PANCREAS_BETA_CELLS        0.693381   0.389168    0.543631   0\n",
       "  46 │ HALLMARK_COAGULATION                0.610752   0.368616   -0.221095   0 ⋯\n",
       "  47 │ HALLMARK_HYPOXIA                    0.420759   0.303359    0.560447   0\n",
       "  48 │ HALLMARK_GLYCOLYSIS                 0.444317   0.443083    0.586282   0\n",
       "  49 │ HALLMARK_HEDGEHOG_SIGNALING         0.439541   0.4564      0.515963   0\n",
       "  50 │ HALLMARK_IL6_JAK_STAT3_SIGNALING    0.528199  -0.44333     0.893771   0 ⋯\n",
       "\u001b[36m                                                   6 columns and 29 rows omitted\u001b[0m"
      ]
     },
     "execution_count": 8,
     "metadata": {},
     "output_type": "execute_result"
    }
   ],
   "source": [
    "en_se_sa = run_single_sample_gsea(\n",
    "    joinpath(da, \"setting_for_single_sample_gsea.json\"),\n",
    "    gm,\n",
    "    joinpath(da, \"nmf_k9_w.tsv\"),\n",
    "    ou,\n",
    ")"
   ]
  },
  {
   "cell_type": "code",
   "execution_count": 9,
   "id": "7f8b2302",
   "metadata": {},
   "outputs": [
    {
     "data": {
      "text/html": [
       "<div class=\"data-frame\"><p>50 rows × 10 columns (omitted printing of 5 columns)</p><table class=\"data-frame\"><thead><tr><th></th><th>Set</th><th>BRAF-MAPK</th><th>EMT</th><th>ERBB3-PI3K</th><th>HNF1-PAX8</th></tr><tr><th></th><th title=\"InlineStrings.String63\">String6…</th><th title=\"Float64\">Float64</th><th title=\"Float64\">Float64</th><th title=\"Float64\">Float64</th><th title=\"Float64\">Float64</th></tr></thead><tbody><tr><th>1</th><td>HALLMARK_ANGIOGENESIS</td><td>0.557673</td><td>0.653546</td><td>0.570235</td><td>0.693437</td></tr><tr><th>2</th><td>HALLMARK_MYOGENESIS</td><td>0.354464</td><td>0.315459</td><td>0.440442</td><td>0.473442</td></tr><tr><th>3</th><td>HALLMARK_PEROXISOME</td><td>0.687751</td><td>0.547888</td><td>0.381727</td><td>-0.761044</td></tr><tr><th>4</th><td>HALLMARK_UV_RESPONSE_DN</td><td>0.387946</td><td>0.328554</td><td>0.437654</td><td>0.420691</td></tr><tr><th>5</th><td>HALLMARK_NOTCH_SIGNALING</td><td>-0.519038</td><td>0.789579</td><td>0.437876</td><td>0.695391</td></tr><tr><th>6</th><td>HALLMARK_ANDROGEN_RESPONSE</td><td>0.437927</td><td>0.401561</td><td>0.564684</td><td>0.644724</td></tr><tr><th>7</th><td>HALLMARK_ALLOGRAFT_REJECTION</td><td>0.526738</td><td>0.441499</td><td>0.415888</td><td>0.401045</td></tr><tr><th>8</th><td>HALLMARK_ESTROGEN_RESPONSE_LATE</td><td>0.343042</td><td>0.42478</td><td>0.432679</td><td>0.304433</td></tr><tr><th>9</th><td>HALLMARK_G2M_CHECKPOINT</td><td>0.559618</td><td>0.324681</td><td>0.572947</td><td>0.552518</td></tr><tr><th>10</th><td>HALLMARK_MYC_TARGETS_V2</td><td>0.784353</td><td>0.601805</td><td>-0.511535</td><td>0.615723</td></tr><tr><th>11</th><td>HALLMARK_APOPTOSIS</td><td>0.747526</td><td>0.3397</td><td>0.52866</td><td>0.280674</td></tr><tr><th>12</th><td>HALLMARK_P53_PATHWAY</td><td>0.346962</td><td>0.373795</td><td>0.332008</td><td>0.432662</td></tr><tr><th>13</th><td>HALLMARK_UNFOLDED_PROTEIN_RESPONSE</td><td>0.7249</td><td>0.313565</td><td>0.3329</td><td>0.681998</td></tr><tr><th>14</th><td>HALLMARK_ADIPOGENESIS</td><td>0.590324</td><td>-0.561122</td><td>0.432164</td><td>0.695391</td></tr><tr><th>15</th><td>HALLMARK_DNA_REPAIR</td><td>0.571702</td><td>0.56732</td><td>-0.429146</td><td>0.441171</td></tr><tr><th>16</th><td>HALLMARK_EPITHELIAL_MESENCHYMAL_TRANSITION</td><td>0.515279</td><td>0.364143</td><td>0.501899</td><td>0.353654</td></tr><tr><th>17</th><td>HALLMARK_OXIDATIVE_PHOSPHORYLATION</td><td>0.879518</td><td>0.438585</td><td>0.514741</td><td>0.439759</td></tr><tr><th>18</th><td>HALLMARK_HEME_METABOLISM</td><td>0.421264</td><td>0.551595</td><td>0.510274</td><td>0.537043</td></tr><tr><th>19</th><td>HALLMARK_MITOTIC_SPINDLE</td><td>0.547732</td><td>0.525987</td><td>0.436191</td><td>0.448013</td></tr><tr><th>20</th><td>HALLMARK_FATTY_ACID_METABOLISM</td><td>0.526052</td><td>-0.803607</td><td>-0.629259</td><td>0.497698</td></tr><tr><th>21</th><td>HALLMARK_COMPLEMENT</td><td>0.514464</td><td>0.378497</td><td>0.288938</td><td>0.439677</td></tr><tr><th>22</th><td>HALLMARK_APICAL_SURFACE</td><td>0.898082</td><td>0.532064</td><td>-0.528056</td><td>-0.544088</td></tr><tr><th>23</th><td>HALLMARK_ESTROGEN_RESPONSE_EARLY</td><td>0.319782</td><td>0.420341</td><td>0.441803</td><td>0.363887</td></tr><tr><th>24</th><td>HALLMARK_INTERFERON_GAMMA_RESPONSE</td><td>0.398096</td><td>0.513607</td><td>0.353854</td><td>0.460338</td></tr><tr><th>25</th><td>HALLMARK_MTORC1_SIGNALING</td><td>0.497477</td><td>0.507447</td><td>-0.248234</td><td>0.368114</td></tr><tr><th>26</th><td>HALLMARK_INTERFERON_ALPHA_RESPONSE</td><td>0.427202</td><td>0.581394</td><td>0.340766</td><td>0.401091</td></tr><tr><th>27</th><td>HALLMARK_REACTIVE_OXYGEN_SPECIES_PATHWAY</td><td>0.601805</td><td>0.515848</td><td>-0.725176</td><td>0.448121</td></tr><tr><th>28</th><td>HALLMARK_PI3K_AKT_MTOR_SIGNALING</td><td>0.810811</td><td>0.938939</td><td>-0.998999</td><td>-0.82983</td></tr><tr><th>29</th><td>HALLMARK_XENOBIOTIC_METABOLISM</td><td>0.496991</td><td>0.399812</td><td>0.399236</td><td>0.44149</td></tr><tr><th>30</th><td>HALLMARK_KRAS_SIGNALING_DN</td><td>0.323966</td><td>0.434543</td><td>0.535347</td><td>0.279898</td></tr><tr><th>&vellip;</th><td>&vellip;</td><td>&vellip;</td><td>&vellip;</td><td>&vellip;</td><td>&vellip;</td></tr></tbody></table></div>"
      ],
      "text/latex": [
       "\\begin{tabular}{r|cccccc}\n",
       "\t& Set & BRAF-MAPK & EMT & ERBB3-PI3K & HNF1-PAX8 & \\\\\n",
       "\t\\hline\n",
       "\t& String6… & Float64 & Float64 & Float64 & Float64 & \\\\\n",
       "\t\\hline\n",
       "\t1 & HALLMARK\\_ANGIOGENESIS & 0.557673 & 0.653546 & 0.570235 & 0.693437 & $\\dots$ \\\\\n",
       "\t2 & HALLMARK\\_MYOGENESIS & 0.354464 & 0.315459 & 0.440442 & 0.473442 & $\\dots$ \\\\\n",
       "\t3 & HALLMARK\\_PEROXISOME & 0.687751 & 0.547888 & 0.381727 & -0.761044 & $\\dots$ \\\\\n",
       "\t4 & HALLMARK\\_UV\\_RESPONSE\\_DN & 0.387946 & 0.328554 & 0.437654 & 0.420691 & $\\dots$ \\\\\n",
       "\t5 & HALLMARK\\_NOTCH\\_SIGNALING & -0.519038 & 0.789579 & 0.437876 & 0.695391 & $\\dots$ \\\\\n",
       "\t6 & HALLMARK\\_ANDROGEN\\_RESPONSE & 0.437927 & 0.401561 & 0.564684 & 0.644724 & $\\dots$ \\\\\n",
       "\t7 & HALLMARK\\_ALLOGRAFT\\_REJECTION & 0.526738 & 0.441499 & 0.415888 & 0.401045 & $\\dots$ \\\\\n",
       "\t8 & HALLMARK\\_ESTROGEN\\_RESPONSE\\_LATE & 0.343042 & 0.42478 & 0.432679 & 0.304433 & $\\dots$ \\\\\n",
       "\t9 & HALLMARK\\_G2M\\_CHECKPOINT & 0.559618 & 0.324681 & 0.572947 & 0.552518 & $\\dots$ \\\\\n",
       "\t10 & HALLMARK\\_MYC\\_TARGETS\\_V2 & 0.784353 & 0.601805 & -0.511535 & 0.615723 & $\\dots$ \\\\\n",
       "\t11 & HALLMARK\\_APOPTOSIS & 0.747526 & 0.3397 & 0.52866 & 0.280674 & $\\dots$ \\\\\n",
       "\t12 & HALLMARK\\_P53\\_PATHWAY & 0.346962 & 0.373795 & 0.332008 & 0.432662 & $\\dots$ \\\\\n",
       "\t13 & HALLMARK\\_UNFOLDED\\_PROTEIN\\_RESPONSE & 0.7249 & 0.313565 & 0.3329 & 0.681998 & $\\dots$ \\\\\n",
       "\t14 & HALLMARK\\_ADIPOGENESIS & 0.590324 & -0.561122 & 0.432164 & 0.695391 & $\\dots$ \\\\\n",
       "\t15 & HALLMARK\\_DNA\\_REPAIR & 0.571702 & 0.56732 & -0.429146 & 0.441171 & $\\dots$ \\\\\n",
       "\t16 & HALLMARK\\_EPITHELIAL\\_MESENCHYMAL\\_TRANSITION & 0.515279 & 0.364143 & 0.501899 & 0.353654 & $\\dots$ \\\\\n",
       "\t17 & HALLMARK\\_OXIDATIVE\\_PHOSPHORYLATION & 0.879518 & 0.438585 & 0.514741 & 0.439759 & $\\dots$ \\\\\n",
       "\t18 & HALLMARK\\_HEME\\_METABOLISM & 0.421264 & 0.551595 & 0.510274 & 0.537043 & $\\dots$ \\\\\n",
       "\t19 & HALLMARK\\_MITOTIC\\_SPINDLE & 0.547732 & 0.525987 & 0.436191 & 0.448013 & $\\dots$ \\\\\n",
       "\t20 & HALLMARK\\_FATTY\\_ACID\\_METABOLISM & 0.526052 & -0.803607 & -0.629259 & 0.497698 & $\\dots$ \\\\\n",
       "\t21 & HALLMARK\\_COMPLEMENT & 0.514464 & 0.378497 & 0.288938 & 0.439677 & $\\dots$ \\\\\n",
       "\t22 & HALLMARK\\_APICAL\\_SURFACE & 0.898082 & 0.532064 & -0.528056 & -0.544088 & $\\dots$ \\\\\n",
       "\t23 & HALLMARK\\_ESTROGEN\\_RESPONSE\\_EARLY & 0.319782 & 0.420341 & 0.441803 & 0.363887 & $\\dots$ \\\\\n",
       "\t24 & HALLMARK\\_INTERFERON\\_GAMMA\\_RESPONSE & 0.398096 & 0.513607 & 0.353854 & 0.460338 & $\\dots$ \\\\\n",
       "\t25 & HALLMARK\\_MTORC1\\_SIGNALING & 0.497477 & 0.507447 & -0.248234 & 0.368114 & $\\dots$ \\\\\n",
       "\t26 & HALLMARK\\_INTERFERON\\_ALPHA\\_RESPONSE & 0.427202 & 0.581394 & 0.340766 & 0.401091 & $\\dots$ \\\\\n",
       "\t27 & HALLMARK\\_REACTIVE\\_OXYGEN\\_SPECIES\\_PATHWAY & 0.601805 & 0.515848 & -0.725176 & 0.448121 & $\\dots$ \\\\\n",
       "\t28 & HALLMARK\\_PI3K\\_AKT\\_MTOR\\_SIGNALING & 0.810811 & 0.938939 & -0.998999 & -0.82983 & $\\dots$ \\\\\n",
       "\t29 & HALLMARK\\_XENOBIOTIC\\_METABOLISM & 0.496991 & 0.399812 & 0.399236 & 0.44149 & $\\dots$ \\\\\n",
       "\t30 & HALLMARK\\_KRAS\\_SIGNALING\\_DN & 0.323966 & 0.434543 & 0.535347 & 0.279898 & $\\dots$ \\\\\n",
       "\t$\\dots$ & $\\dots$ & $\\dots$ & $\\dots$ & $\\dots$ & $\\dots$ &  \\\\\n",
       "\\end{tabular}\n"
      ],
      "text/plain": [
       "\u001b[1m50×10 DataFrame\u001b[0m\n",
       "\u001b[1m Row \u001b[0m│\u001b[1m Set                               \u001b[0m\u001b[1m BRAF-MAPK \u001b[0m\u001b[1m EMT       \u001b[0m\u001b[1m ERBB3-PI3K \u001b[0m\u001b[1m HN\u001b[0m ⋯\n",
       "\u001b[1m     \u001b[0m│\u001b[90m String63…                         \u001b[0m\u001b[90m Float64   \u001b[0m\u001b[90m Float64   \u001b[0m\u001b[90m Float64    \u001b[0m\u001b[90m Fl\u001b[0m ⋯\n",
       "─────┼──────────────────────────────────────────────────────────────────────────\n",
       "   1 │ HALLMARK_ANGIOGENESIS               0.557673   0.653546    0.570235   0 ⋯\n",
       "   2 │ HALLMARK_MYOGENESIS                 0.354464   0.315459    0.440442   0\n",
       "   3 │ HALLMARK_PEROXISOME                 0.687751   0.547888    0.381727  -0\n",
       "   4 │ HALLMARK_UV_RESPONSE_DN             0.387946   0.328554    0.437654   0\n",
       "   5 │ HALLMARK_NOTCH_SIGNALING           -0.519038   0.789579    0.437876   0 ⋯\n",
       "   6 │ HALLMARK_ANDROGEN_RESPONSE          0.437927   0.401561    0.564684   0\n",
       "   7 │ HALLMARK_ALLOGRAFT_REJECTION        0.526738   0.441499    0.415888   0\n",
       "   8 │ HALLMARK_ESTROGEN_RESPONSE_LATE     0.343042   0.42478     0.432679   0\n",
       "   9 │ HALLMARK_G2M_CHECKPOINT             0.559618   0.324681    0.572947   0 ⋯\n",
       "  10 │ HALLMARK_MYC_TARGETS_V2             0.784353   0.601805   -0.511535   0\n",
       "  11 │ HALLMARK_APOPTOSIS                  0.747526   0.3397      0.52866    0\n",
       "  ⋮  │                 ⋮                      ⋮          ⋮          ⋮          ⋱\n",
       "  41 │ HALLMARK_KRAS_SIGNALING_UP          0.599827   0.223625    0.399344   0\n",
       "  42 │ HALLMARK_INFLAMMATORY_RESPONSE      0.453693   0.471917    0.309777   0 ⋯\n",
       "  43 │ HALLMARK_CHOLESTEROL_HOMEOSTASIS    0.549749   0.464905    0.6966     0\n",
       "  44 │ HALLMARK_TGF_BETA_SIGNALING         0.557334   0.3787     -0.441532   0\n",
       "  45 │ HALLMARK_PANCREAS_BETA_CELLS        0.693381   0.389168    0.543631   0\n",
       "  46 │ HALLMARK_COAGULATION                0.610752   0.368616   -0.221095   0 ⋯\n",
       "  47 │ HALLMARK_HYPOXIA                    0.420759   0.303359    0.560447   0\n",
       "  48 │ HALLMARK_GLYCOLYSIS                 0.444317   0.443083    0.586282   0\n",
       "  49 │ HALLMARK_HEDGEHOG_SIGNALING         0.439541   0.4564      0.515963   0\n",
       "  50 │ HALLMARK_IL6_JAK_STAT3_SIGNALING    0.528199  -0.44333     0.893771   0 ⋯\n",
       "\u001b[36m                                                   6 columns and 29 rows omitted\u001b[0m"
      ]
     },
     "execution_count": 9,
     "metadata": {},
     "output_type": "execute_result"
    }
   ],
   "source": [
    "TableAccess.read(ou)"
   ]
  },
  {
   "cell_type": "markdown",
   "id": "e44a8246",
   "metadata": {},
   "source": [
    "## run_pre_rank_gsea"
   ]
  },
  {
   "cell_type": "code",
   "execution_count": 10,
   "id": "22e7ced6",
   "metadata": {},
   "outputs": [],
   "source": [
    "ou = joinpath(TE, \"pre_rank_gsea\", \"\")\n",
    "\n",
    "mkdir(ou)\n",
    "\n",
    ";"
   ]
  },
  {
   "cell_type": "code",
   "execution_count": 11,
   "id": "cc524d78",
   "metadata": {},
   "outputs": [
    {
     "name": "stdout",
     "output_type": "stream",
     "text": [
      "Before selecting set:\n",
      "50 keys and 50 unique values\n",
      "After:\n",
      "50 keys and 50 unique values\n",
      "/Users/kwat/Downloads/GSEA.test/pre_rank_gsea/set_by_statistic.tsv\n",
      "Plotting\n"
     ]
    },
    {
     "data": {
      "text/html": [
       "<div class=\"data-frame\"><p>50 rows × 4 columns</p><table class=\"data-frame\"><thead><tr><th></th><th>Set</th><th>Enrichment</th><th>P-Value</th><th>Q-Value</th></tr><tr><th></th><th title=\"String\">String</th><th title=\"Float64\">Float64</th><th title=\"Float64\">Float64</th><th title=\"Float64\">Float64</th></tr></thead><tbody><tr><th>1</th><td>HALLMARK_PANCREAS_BETA_CELLS</td><td>-0.35266</td><td>NaN</td><td>NaN</td></tr><tr><th>2</th><td>HALLMARK_PROTEIN_SECRETION</td><td>-0.272096</td><td>NaN</td><td>NaN</td></tr><tr><th>3</th><td>HALLMARK_MITOTIC_SPINDLE</td><td>-0.232207</td><td>NaN</td><td>NaN</td></tr><tr><th>4</th><td>HALLMARK_UV_RESPONSE_DN</td><td>-0.213707</td><td>NaN</td><td>NaN</td></tr><tr><th>5</th><td>HALLMARK_INTERFERON_ALPHA_RESPONSE</td><td>-0.198526</td><td>NaN</td><td>NaN</td></tr><tr><th>6</th><td>HALLMARK_ESTROGEN_RESPONSE_LATE</td><td>-0.171534</td><td>NaN</td><td>NaN</td></tr><tr><th>7</th><td>HALLMARK_INTERFERON_GAMMA_RESPONSE</td><td>-0.139782</td><td>NaN</td><td>NaN</td></tr><tr><th>8</th><td>HALLMARK_BILE_ACID_METABOLISM</td><td>-0.131934</td><td>NaN</td><td>NaN</td></tr><tr><th>9</th><td>HALLMARK_KRAS_SIGNALING_UP</td><td>0.147173</td><td>NaN</td><td>NaN</td></tr><tr><th>10</th><td>HALLMARK_PEROXISOME</td><td>0.202655</td><td>NaN</td><td>NaN</td></tr><tr><th>11</th><td>HALLMARK_CHOLESTEROL_HOMEOSTASIS</td><td>0.210387</td><td>NaN</td><td>NaN</td></tr><tr><th>12</th><td>HALLMARK_HEME_METABOLISM</td><td>0.212217</td><td>NaN</td><td>NaN</td></tr><tr><th>13</th><td>HALLMARK_ESTROGEN_RESPONSE_EARLY</td><td>0.216079</td><td>NaN</td><td>NaN</td></tr><tr><th>14</th><td>HALLMARK_TGF_BETA_SIGNALING</td><td>0.222111</td><td>NaN</td><td>NaN</td></tr><tr><th>15</th><td>HALLMARK_P53_PATHWAY</td><td>0.223665</td><td>NaN</td><td>NaN</td></tr><tr><th>16</th><td>HALLMARK_APOPTOSIS</td><td>0.22412</td><td>NaN</td><td>NaN</td></tr><tr><th>17</th><td>HALLMARK_KRAS_SIGNALING_DN</td><td>0.224452</td><td>NaN</td><td>NaN</td></tr><tr><th>18</th><td>HALLMARK_G2M_CHECKPOINT</td><td>0.22621</td><td>NaN</td><td>NaN</td></tr><tr><th>19</th><td>HALLMARK_SPERMATOGENESIS</td><td>0.227579</td><td>NaN</td><td>NaN</td></tr><tr><th>20</th><td>HALLMARK_E2F_TARGETS</td><td>0.235167</td><td>NaN</td><td>NaN</td></tr><tr><th>21</th><td>HALLMARK_EPITHELIAL_MESENCHYMAL_TRANSITION</td><td>0.240784</td><td>NaN</td><td>NaN</td></tr><tr><th>22</th><td>HALLMARK_HEDGEHOG_SIGNALING</td><td>0.24439</td><td>NaN</td><td>NaN</td></tr><tr><th>23</th><td>HALLMARK_XENOBIOTIC_METABOLISM</td><td>0.251574</td><td>NaN</td><td>NaN</td></tr><tr><th>24</th><td>HALLMARK_IL6_JAK_STAT3_SIGNALING</td><td>0.252595</td><td>NaN</td><td>NaN</td></tr><tr><th>25</th><td>HALLMARK_NOTCH_SIGNALING</td><td>0.260314</td><td>NaN</td><td>NaN</td></tr><tr><th>26</th><td>HALLMARK_ANGIOGENESIS</td><td>0.26264</td><td>NaN</td><td>NaN</td></tr><tr><th>27</th><td>HALLMARK_COMPLEMENT</td><td>0.26429</td><td>NaN</td><td>NaN</td></tr><tr><th>28</th><td>HALLMARK_MYOGENESIS</td><td>0.265509</td><td>NaN</td><td>NaN</td></tr><tr><th>29</th><td>HALLMARK_PI3K_AKT_MTOR_SIGNALING</td><td>0.268293</td><td>NaN</td><td>NaN</td></tr><tr><th>30</th><td>HALLMARK_HYPOXIA</td><td>0.277776</td><td>NaN</td><td>NaN</td></tr><tr><th>&vellip;</th><td>&vellip;</td><td>&vellip;</td><td>&vellip;</td><td>&vellip;</td></tr></tbody></table></div>"
      ],
      "text/latex": [
       "\\begin{tabular}{r|cccc}\n",
       "\t& Set & Enrichment & P-Value & Q-Value\\\\\n",
       "\t\\hline\n",
       "\t& String & Float64 & Float64 & Float64\\\\\n",
       "\t\\hline\n",
       "\t1 & HALLMARK\\_PANCREAS\\_BETA\\_CELLS & -0.35266 & NaN & NaN \\\\\n",
       "\t2 & HALLMARK\\_PROTEIN\\_SECRETION & -0.272096 & NaN & NaN \\\\\n",
       "\t3 & HALLMARK\\_MITOTIC\\_SPINDLE & -0.232207 & NaN & NaN \\\\\n",
       "\t4 & HALLMARK\\_UV\\_RESPONSE\\_DN & -0.213707 & NaN & NaN \\\\\n",
       "\t5 & HALLMARK\\_INTERFERON\\_ALPHA\\_RESPONSE & -0.198526 & NaN & NaN \\\\\n",
       "\t6 & HALLMARK\\_ESTROGEN\\_RESPONSE\\_LATE & -0.171534 & NaN & NaN \\\\\n",
       "\t7 & HALLMARK\\_INTERFERON\\_GAMMA\\_RESPONSE & -0.139782 & NaN & NaN \\\\\n",
       "\t8 & HALLMARK\\_BILE\\_ACID\\_METABOLISM & -0.131934 & NaN & NaN \\\\\n",
       "\t9 & HALLMARK\\_KRAS\\_SIGNALING\\_UP & 0.147173 & NaN & NaN \\\\\n",
       "\t10 & HALLMARK\\_PEROXISOME & 0.202655 & NaN & NaN \\\\\n",
       "\t11 & HALLMARK\\_CHOLESTEROL\\_HOMEOSTASIS & 0.210387 & NaN & NaN \\\\\n",
       "\t12 & HALLMARK\\_HEME\\_METABOLISM & 0.212217 & NaN & NaN \\\\\n",
       "\t13 & HALLMARK\\_ESTROGEN\\_RESPONSE\\_EARLY & 0.216079 & NaN & NaN \\\\\n",
       "\t14 & HALLMARK\\_TGF\\_BETA\\_SIGNALING & 0.222111 & NaN & NaN \\\\\n",
       "\t15 & HALLMARK\\_P53\\_PATHWAY & 0.223665 & NaN & NaN \\\\\n",
       "\t16 & HALLMARK\\_APOPTOSIS & 0.22412 & NaN & NaN \\\\\n",
       "\t17 & HALLMARK\\_KRAS\\_SIGNALING\\_DN & 0.224452 & NaN & NaN \\\\\n",
       "\t18 & HALLMARK\\_G2M\\_CHECKPOINT & 0.22621 & NaN & NaN \\\\\n",
       "\t19 & HALLMARK\\_SPERMATOGENESIS & 0.227579 & NaN & NaN \\\\\n",
       "\t20 & HALLMARK\\_E2F\\_TARGETS & 0.235167 & NaN & NaN \\\\\n",
       "\t21 & HALLMARK\\_EPITHELIAL\\_MESENCHYMAL\\_TRANSITION & 0.240784 & NaN & NaN \\\\\n",
       "\t22 & HALLMARK\\_HEDGEHOG\\_SIGNALING & 0.24439 & NaN & NaN \\\\\n",
       "\t23 & HALLMARK\\_XENOBIOTIC\\_METABOLISM & 0.251574 & NaN & NaN \\\\\n",
       "\t24 & HALLMARK\\_IL6\\_JAK\\_STAT3\\_SIGNALING & 0.252595 & NaN & NaN \\\\\n",
       "\t25 & HALLMARK\\_NOTCH\\_SIGNALING & 0.260314 & NaN & NaN \\\\\n",
       "\t26 & HALLMARK\\_ANGIOGENESIS & 0.26264 & NaN & NaN \\\\\n",
       "\t27 & HALLMARK\\_COMPLEMENT & 0.26429 & NaN & NaN \\\\\n",
       "\t28 & HALLMARK\\_MYOGENESIS & 0.265509 & NaN & NaN \\\\\n",
       "\t29 & HALLMARK\\_PI3K\\_AKT\\_MTOR\\_SIGNALING & 0.268293 & NaN & NaN \\\\\n",
       "\t30 & HALLMARK\\_HYPOXIA & 0.277776 & NaN & NaN \\\\\n",
       "\t$\\dots$ & $\\dots$ & $\\dots$ & $\\dots$ & $\\dots$ \\\\\n",
       "\\end{tabular}\n"
      ],
      "text/plain": [
       "\u001b[1m50×4 DataFrame\u001b[0m\n",
       "\u001b[1m Row \u001b[0m│\u001b[1m Set                               \u001b[0m\u001b[1m Enrichment \u001b[0m\u001b[1m P-Value \u001b[0m\u001b[1m Q-Value \u001b[0m\n",
       "\u001b[1m     \u001b[0m│\u001b[90m String                            \u001b[0m\u001b[90m Float64    \u001b[0m\u001b[90m Float64 \u001b[0m\u001b[90m Float64 \u001b[0m\n",
       "─────┼─────────────────────────────────────────────────────────────────\n",
       "   1 │ HALLMARK_PANCREAS_BETA_CELLS        -0.35266       NaN      NaN\n",
       "   2 │ HALLMARK_PROTEIN_SECRETION          -0.272096      NaN      NaN\n",
       "   3 │ HALLMARK_MITOTIC_SPINDLE            -0.232207      NaN      NaN\n",
       "   4 │ HALLMARK_UV_RESPONSE_DN             -0.213707      NaN      NaN\n",
       "   5 │ HALLMARK_INTERFERON_ALPHA_RESPON…   -0.198526      NaN      NaN\n",
       "   6 │ HALLMARK_ESTROGEN_RESPONSE_LATE     -0.171534      NaN      NaN\n",
       "   7 │ HALLMARK_INTERFERON_GAMMA_RESPON…   -0.139782      NaN      NaN\n",
       "   8 │ HALLMARK_BILE_ACID_METABOLISM       -0.131934      NaN      NaN\n",
       "   9 │ HALLMARK_KRAS_SIGNALING_UP           0.147173      NaN      NaN\n",
       "  10 │ HALLMARK_PEROXISOME                  0.202655      NaN      NaN\n",
       "  11 │ HALLMARK_CHOLESTEROL_HOMEOSTASIS     0.210387      NaN      NaN\n",
       "  ⋮  │                 ⋮                      ⋮          ⋮        ⋮\n",
       "  41 │ HALLMARK_UV_RESPONSE_UP              0.343112      NaN      NaN\n",
       "  42 │ HALLMARK_ANDROGEN_RESPONSE           0.343714      NaN      NaN\n",
       "  43 │ HALLMARK_ALLOGRAFT_REJECTION         0.373591      NaN      NaN\n",
       "  44 │ HALLMARK_OXIDATIVE_PHOSPHORYLATI…    0.389409      NaN      NaN\n",
       "  45 │ HALLMARK_WNT_BETA_CATENIN_SIGNAL…    0.401695      NaN      NaN\n",
       "  46 │ HALLMARK_REACTIVE_OXYGEN_SPECIES…    0.443955      NaN      NaN\n",
       "  47 │ HALLMARK_MTORC1_SIGNALING            0.464692      NaN      NaN\n",
       "  48 │ HALLMARK_UNFOLDED_PROTEIN_RESPON…    0.488161      NaN      NaN\n",
       "  49 │ HALLMARK_MYC_TARGETS_V1              0.603356      NaN      NaN\n",
       "  50 │ HALLMARK_MYC_TARGETS_V2              0.866579      NaN      NaN\n",
       "\u001b[36m                                                        29 rows omitted\u001b[0m"
      ]
     },
     "execution_count": 11,
     "metadata": {},
     "output_type": "execute_result"
    }
   ],
   "source": [
    "fl_se_st = run_pre_rank_gsea(\n",
    "    joinpath(da, \"setting_for_pre_rank_gsea.json\"),\n",
    "    gm,\n",
    "    joinpath(da, \"gene_score.tsv\"),\n",
    "    ou,\n",
    ")"
   ]
  },
  {
   "cell_type": "markdown",
   "id": "7cdb52f3",
   "metadata": {},
   "source": [
    "## run_standard_gsea"
   ]
  },
  {
   "cell_type": "code",
   "execution_count": 12,
   "id": "1b0f65a9",
   "metadata": {},
   "outputs": [],
   "source": [
    "ou = joinpath(TE, \"standard_gsea\", \"\")\n",
    "\n",
    "mkdir(ou)\n",
    "\n",
    ";"
   ]
  },
  {
   "cell_type": "code",
   "execution_count": 13,
   "id": "ee2b519c",
   "metadata": {},
   "outputs": [
    {
     "name": "stdout",
     "output_type": "stream",
     "text": [
      "Before selecting set:\n",
      "50 keys and 50 unique values\n",
      "After:\n",
      "50 keys and 50 unique values\n",
      "Permuting sets to compute significance\n",
      "SET UP RANDOM GENERATOR\n",
      "  1/10\n",
      "  2/10\n",
      "  3/10\n",
      "  4/10\n",
      "  5/10\n",
      "  6/10\n",
      "  7/10\n",
      "  8/10\n",
      "  9/10\n",
      "  10/10\n",
      "/Users/kwat/Downloads/GSEA.test/standard_gsea/set_by_statistic.tsv\n",
      "Plotting\n"
     ]
    },
    {
     "data": {
      "text/html": [
       "<div class=\"data-frame\"><p>50 rows × 4 columns</p><table class=\"data-frame\"><thead><tr><th></th><th>Set</th><th>Enrichment</th><th>P-Value</th><th>Q-Value</th></tr><tr><th></th><th title=\"String\">String</th><th title=\"Float64\">Float64</th><th title=\"Float64\">Float64</th><th title=\"Float64\">Float64</th></tr></thead><tbody><tr><th>1</th><td>HALLMARK_NOTCH_SIGNALING</td><td>-0.636273</td><td>0.1</td><td>0.1</td></tr><tr><th>2</th><td>HALLMARK_WNT_BETA_CATENIN_SIGNALING</td><td>-0.608826</td><td>0.1</td><td>0.1</td></tr><tr><th>3</th><td>HALLMARK_ADIPOGENESIS</td><td>-0.588867</td><td>0.1</td><td>0.1</td></tr><tr><th>4</th><td>HALLMARK_HEME_METABOLISM</td><td>-0.587638</td><td>0.1</td><td>0.1</td></tr><tr><th>5</th><td>HALLMARK_PI3K_AKT_MTOR_SIGNALING</td><td>-0.583584</td><td>0.1</td><td>0.1</td></tr><tr><th>6</th><td>HALLMARK_OXIDATIVE_PHOSPHORYLATION</td><td>-0.554448</td><td>0.1</td><td>0.1</td></tr><tr><th>7</th><td>HALLMARK_APICAL_SURFACE</td><td>-0.534449</td><td>0.1</td><td>0.1</td></tr><tr><th>8</th><td>HALLMARK_APICAL_JUNCTION</td><td>-0.531179</td><td>0.1</td><td>0.1</td></tr><tr><th>9</th><td>HALLMARK_XENOBIOTIC_METABOLISM</td><td>-0.507532</td><td>0.1</td><td>0.1</td></tr><tr><th>10</th><td>HALLMARK_DNA_REPAIR</td><td>-0.478975</td><td>0.1</td><td>0.1</td></tr><tr><th>11</th><td>HALLMARK_SPERMATOGENESIS</td><td>-0.463308</td><td>0.1</td><td>0.1</td></tr><tr><th>12</th><td>HALLMARK_UNFOLDED_PROTEIN_RESPONSE</td><td>-0.434693</td><td>0.1</td><td>0.1</td></tr><tr><th>13</th><td>HALLMARK_G2M_CHECKPOINT</td><td>-0.403419</td><td>0.1</td><td>0.1</td></tr><tr><th>14</th><td>HALLMARK_MYC_TARGETS_V1</td><td>-0.395624</td><td>0.1</td><td>0.1</td></tr><tr><th>15</th><td>HALLMARK_REACTIVE_OXYGEN_SPECIES_PATHWAY</td><td>-0.39318</td><td>0.1</td><td>0.1</td></tr><tr><th>16</th><td>HALLMARK_ANDROGEN_RESPONSE</td><td>-0.38664</td><td>0.1</td><td>0.1</td></tr><tr><th>17</th><td>HALLMARK_GLYCOLYSIS</td><td>-0.380424</td><td>0.1</td><td>0.1</td></tr><tr><th>18</th><td>HALLMARK_COMPLEMENT</td><td>-0.372729</td><td>0.1</td><td>0.1</td></tr><tr><th>19</th><td>HALLMARK_UV_RESPONSE_DN</td><td>-0.36714</td><td>0.1</td><td>0.1</td></tr><tr><th>20</th><td>HALLMARK_MYOGENESIS</td><td>-0.365945</td><td>0.1</td><td>0.1</td></tr><tr><th>21</th><td>HALLMARK_UV_RESPONSE_UP</td><td>-0.351759</td><td>0.1</td><td>0.1</td></tr><tr><th>22</th><td>HALLMARK_MITOTIC_SPINDLE</td><td>-0.349878</td><td>0.1</td><td>0.1</td></tr><tr><th>23</th><td>HALLMARK_HEDGEHOG_SIGNALING</td><td>-0.326828</td><td>0.1</td><td>0.1</td></tr><tr><th>24</th><td>HALLMARK_COAGULATION</td><td>-0.280444</td><td>0.1</td><td>0.1</td></tr><tr><th>25</th><td>HALLMARK_CHOLESTEROL_HOMEOSTASIS</td><td>-0.246381</td><td>0.1</td><td>0.1</td></tr><tr><th>26</th><td>HALLMARK_EPITHELIAL_MESENCHYMAL_TRANSITION</td><td>-0.233893</td><td>0.1</td><td>0.1</td></tr><tr><th>27</th><td>HALLMARK_INTERFERON_ALPHA_RESPONSE</td><td>-0.16746</td><td>0.1</td><td>0.1</td></tr><tr><th>28</th><td>HALLMARK_KRAS_SIGNALING_DN</td><td>0.165482</td><td>0.1</td><td>0.1</td></tr><tr><th>29</th><td>HALLMARK_ESTROGEN_RESPONSE_EARLY</td><td>0.176347</td><td>0.1</td><td>0.1</td></tr><tr><th>30</th><td>HALLMARK_HYPOXIA</td><td>0.188832</td><td>0.1</td><td>0.1</td></tr><tr><th>&vellip;</th><td>&vellip;</td><td>&vellip;</td><td>&vellip;</td><td>&vellip;</td></tr></tbody></table></div>"
      ],
      "text/latex": [
       "\\begin{tabular}{r|cccc}\n",
       "\t& Set & Enrichment & P-Value & Q-Value\\\\\n",
       "\t\\hline\n",
       "\t& String & Float64 & Float64 & Float64\\\\\n",
       "\t\\hline\n",
       "\t1 & HALLMARK\\_NOTCH\\_SIGNALING & -0.636273 & 0.1 & 0.1 \\\\\n",
       "\t2 & HALLMARK\\_WNT\\_BETA\\_CATENIN\\_SIGNALING & -0.608826 & 0.1 & 0.1 \\\\\n",
       "\t3 & HALLMARK\\_ADIPOGENESIS & -0.588867 & 0.1 & 0.1 \\\\\n",
       "\t4 & HALLMARK\\_HEME\\_METABOLISM & -0.587638 & 0.1 & 0.1 \\\\\n",
       "\t5 & HALLMARK\\_PI3K\\_AKT\\_MTOR\\_SIGNALING & -0.583584 & 0.1 & 0.1 \\\\\n",
       "\t6 & HALLMARK\\_OXIDATIVE\\_PHOSPHORYLATION & -0.554448 & 0.1 & 0.1 \\\\\n",
       "\t7 & HALLMARK\\_APICAL\\_SURFACE & -0.534449 & 0.1 & 0.1 \\\\\n",
       "\t8 & HALLMARK\\_APICAL\\_JUNCTION & -0.531179 & 0.1 & 0.1 \\\\\n",
       "\t9 & HALLMARK\\_XENOBIOTIC\\_METABOLISM & -0.507532 & 0.1 & 0.1 \\\\\n",
       "\t10 & HALLMARK\\_DNA\\_REPAIR & -0.478975 & 0.1 & 0.1 \\\\\n",
       "\t11 & HALLMARK\\_SPERMATOGENESIS & -0.463308 & 0.1 & 0.1 \\\\\n",
       "\t12 & HALLMARK\\_UNFOLDED\\_PROTEIN\\_RESPONSE & -0.434693 & 0.1 & 0.1 \\\\\n",
       "\t13 & HALLMARK\\_G2M\\_CHECKPOINT & -0.403419 & 0.1 & 0.1 \\\\\n",
       "\t14 & HALLMARK\\_MYC\\_TARGETS\\_V1 & -0.395624 & 0.1 & 0.1 \\\\\n",
       "\t15 & HALLMARK\\_REACTIVE\\_OXYGEN\\_SPECIES\\_PATHWAY & -0.39318 & 0.1 & 0.1 \\\\\n",
       "\t16 & HALLMARK\\_ANDROGEN\\_RESPONSE & -0.38664 & 0.1 & 0.1 \\\\\n",
       "\t17 & HALLMARK\\_GLYCOLYSIS & -0.380424 & 0.1 & 0.1 \\\\\n",
       "\t18 & HALLMARK\\_COMPLEMENT & -0.372729 & 0.1 & 0.1 \\\\\n",
       "\t19 & HALLMARK\\_UV\\_RESPONSE\\_DN & -0.36714 & 0.1 & 0.1 \\\\\n",
       "\t20 & HALLMARK\\_MYOGENESIS & -0.365945 & 0.1 & 0.1 \\\\\n",
       "\t21 & HALLMARK\\_UV\\_RESPONSE\\_UP & -0.351759 & 0.1 & 0.1 \\\\\n",
       "\t22 & HALLMARK\\_MITOTIC\\_SPINDLE & -0.349878 & 0.1 & 0.1 \\\\\n",
       "\t23 & HALLMARK\\_HEDGEHOG\\_SIGNALING & -0.326828 & 0.1 & 0.1 \\\\\n",
       "\t24 & HALLMARK\\_COAGULATION & -0.280444 & 0.1 & 0.1 \\\\\n",
       "\t25 & HALLMARK\\_CHOLESTEROL\\_HOMEOSTASIS & -0.246381 & 0.1 & 0.1 \\\\\n",
       "\t26 & HALLMARK\\_EPITHELIAL\\_MESENCHYMAL\\_TRANSITION & -0.233893 & 0.1 & 0.1 \\\\\n",
       "\t27 & HALLMARK\\_INTERFERON\\_ALPHA\\_RESPONSE & -0.16746 & 0.1 & 0.1 \\\\\n",
       "\t28 & HALLMARK\\_KRAS\\_SIGNALING\\_DN & 0.165482 & 0.1 & 0.1 \\\\\n",
       "\t29 & HALLMARK\\_ESTROGEN\\_RESPONSE\\_EARLY & 0.176347 & 0.1 & 0.1 \\\\\n",
       "\t30 & HALLMARK\\_HYPOXIA & 0.188832 & 0.1 & 0.1 \\\\\n",
       "\t$\\dots$ & $\\dots$ & $\\dots$ & $\\dots$ & $\\dots$ \\\\\n",
       "\\end{tabular}\n"
      ],
      "text/plain": [
       "\u001b[1m50×4 DataFrame\u001b[0m\n",
       "\u001b[1m Row \u001b[0m│\u001b[1m Set                               \u001b[0m\u001b[1m Enrichment \u001b[0m\u001b[1m P-Value \u001b[0m\u001b[1m Q-Value \u001b[0m\n",
       "\u001b[1m     \u001b[0m│\u001b[90m String                            \u001b[0m\u001b[90m Float64    \u001b[0m\u001b[90m Float64 \u001b[0m\u001b[90m Float64 \u001b[0m\n",
       "─────┼─────────────────────────────────────────────────────────────────\n",
       "   1 │ HALLMARK_NOTCH_SIGNALING            -0.636273      0.1      0.1\n",
       "   2 │ HALLMARK_WNT_BETA_CATENIN_SIGNAL…   -0.608826      0.1      0.1\n",
       "   3 │ HALLMARK_ADIPOGENESIS               -0.588867      0.1      0.1\n",
       "   4 │ HALLMARK_HEME_METABOLISM            -0.587638      0.1      0.1\n",
       "   5 │ HALLMARK_PI3K_AKT_MTOR_SIGNALING    -0.583584      0.1      0.1\n",
       "   6 │ HALLMARK_OXIDATIVE_PHOSPHORYLATI…   -0.554448      0.1      0.1\n",
       "   7 │ HALLMARK_APICAL_SURFACE             -0.534449      0.1      0.1\n",
       "   8 │ HALLMARK_APICAL_JUNCTION            -0.531179      0.1      0.1\n",
       "   9 │ HALLMARK_XENOBIOTIC_METABOLISM      -0.507532      0.1      0.1\n",
       "  10 │ HALLMARK_DNA_REPAIR                 -0.478975      0.1      0.1\n",
       "  11 │ HALLMARK_SPERMATOGENESIS            -0.463308      0.1      0.1\n",
       "  ⋮  │                 ⋮                      ⋮          ⋮        ⋮\n",
       "  41 │ HALLMARK_TNFA_SIGNALING_VIA_NFKB     0.379171      0.1      0.1\n",
       "  42 │ HALLMARK_ESTROGEN_RESPONSE_LATE      0.399363      0.1      0.1\n",
       "  43 │ HALLMARK_FATTY_ACID_METABOLISM       0.422247      0.1      0.1\n",
       "  44 │ HALLMARK_E2F_TARGETS                 0.432297      0.1      0.1\n",
       "  45 │ HALLMARK_IL6_JAK_STAT3_SIGNALING     0.446339      0.1      0.1\n",
       "  46 │ HALLMARK_MYC_TARGETS_V2              0.454632      0.1      0.1\n",
       "  47 │ HALLMARK_MTORC1_SIGNALING            0.476609      0.1      0.1\n",
       "  48 │ HALLMARK_ANGIOGENESIS                0.618614      0.1      0.1\n",
       "  49 │ HALLMARK_PROTEIN_SECRETION           0.683904      0.1      0.1\n",
       "  50 │ HALLMARK_BILE_ACID_METABOLISM        0.829208      0.1      0.1\n",
       "\u001b[36m                                                        29 rows omitted\u001b[0m"
      ]
     },
     "execution_count": 13,
     "metadata": {},
     "output_type": "execute_result"
    }
   ],
   "source": [
    "fl_se_st = run_standard_gsea(\n",
    "    joinpath(da, \"setting_for_standard_gsea.json\"),\n",
    "    gm,\n",
    "    joinpath(da, \"sample_value.tsv\"),\n",
    "    joinpath(da, \"nmf_k9_w.tsv\"),\n",
    "    ou,\n",
    ")"
   ]
  },
  {
   "cell_type": "markdown",
   "id": "5f6c761b",
   "metadata": {},
   "source": [
    "---"
   ]
  },
  {
   "cell_type": "code",
   "execution_count": 14,
   "id": "242e1d4b",
   "metadata": {},
   "outputs": [
    {
     "name": "stdout",
     "output_type": "stream",
     "text": [
      "Removed /Users/kwat/Downloads/GSEA.test/.\n"
     ]
    }
   ],
   "source": [
    "rm(TE; recursive = true)\n",
    "\n",
    "println(\"Removed \", TE, \".\")"
   ]
  }
 ],
 "metadata": {
  "@webio": {
   "lastCommId": "cb4a8b41bb8d47bfb952a18439f0f6c2",
   "lastKernelId": "025d22bc-ac84-4ee9-aec4-31e2a7823154"
  },
  "kernelspec": {
   "display_name": "Julia 1.6.3",
   "language": "julia",
   "name": "julia-1.6"
  },
  "language_info": {
   "file_extension": ".jl",
   "mimetype": "application/julia",
   "name": "julia",
   "version": "1.6.3"
  }
 },
 "nbformat": 4,
 "nbformat_minor": 5
}
