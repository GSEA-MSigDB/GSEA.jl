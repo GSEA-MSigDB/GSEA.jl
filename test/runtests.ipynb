{
 "cells": [
  {
   "cell_type": "code",
   "execution_count": null,
   "id": "163a496c",
   "metadata": {},
   "outputs": [],
   "source": [
    "using Revise\n",
    "using OnePiece\n",
    "using GSEA"
   ]
  },
  {
   "cell_type": "code",
   "execution_count": null,
   "id": "bbe97d74",
   "metadata": {},
   "outputs": [],
   "source": [
    "sett = joinpath(dirname(@__DIR__), \"setting.json\")"
   ]
  },
  {
   "cell_type": "code",
   "execution_count": null,
   "id": "f5185953",
   "metadata": {},
   "outputs": [],
   "source": [
    "da = joinpath(@__DIR__, \"data\")"
   ]
  },
  {
   "cell_type": "code",
   "execution_count": null,
   "id": "2e799623",
   "metadata": {},
   "outputs": [],
   "source": [
    "set_ = joinpath(da, \"set_genes.json\")"
   ]
  },
  {
   "cell_type": "code",
   "execution_count": null,
   "id": "94d760e2",
   "metadata": {},
   "outputs": [],
   "source": [
    "te = joinpath(tempdir(), \"GSEA\")\n",
    "\n",
    "rm(te, recursive=true)\n",
    "\n",
    "mkdir(te)"
   ]
  },
  {
   "cell_type": "markdown",
   "id": "c3ac4d60",
   "metadata": {},
   "source": [
    "## _filter_set!"
   ]
  },
  {
   "cell_type": "code",
   "execution_count": null,
   "id": "d950b8fd",
   "metadata": {
    "scrolled": false
   },
   "outputs": [],
   "source": [
    "se_fe_ = OnePiece.dict.read(set_)\n",
    "\n",
    "GSEA._filter_set!(se_fe_, false, [], 33, 36)\n",
    "\n",
    "@assert length(se_fe_) == 2"
   ]
  },
  {
   "cell_type": "code",
   "execution_count": null,
   "id": "dbe3ee86",
   "metadata": {},
   "outputs": [],
   "source": [
    "se_fe_ = OnePiece.dict.read(set_)\n",
    "\n",
    "GSEA._filter_set!(se_fe_, true, [\"SHH\", \"XIST\"], 1, 5656)\n",
    "\n",
    "@assert length(se_fe_) == 2"
   ]
  },
  {
   "cell_type": "markdown",
   "id": "bfe5833b",
   "metadata": {},
   "source": [
    "## _make_keyword_argument"
   ]
  },
  {
   "cell_type": "code",
   "execution_count": null,
   "id": "b63b396d",
   "metadata": {},
   "outputs": [],
   "source": [
    "GSEA._make_keyword_argument(\n",
    "    Dict(\"exponent\" => 2.0, \"algorithm\" => \"Jensen-Shannon divergence\", \"number_of_jobs\" => 8)\n",
    ")"
   ]
  },
  {
   "cell_type": "markdown",
   "id": "2026612f",
   "metadata": {},
   "source": [
    "## GSEA"
   ]
  },
  {
   "cell_type": "markdown",
   "id": "c6118869",
   "metadata": {},
   "source": [
    "### data_rank"
   ]
  },
  {
   "cell_type": "code",
   "execution_count": null,
   "id": "8f9f9cde",
   "metadata": {},
   "outputs": [],
   "source": [
    "ou = joinpath(te, \"data_rank\")"
   ]
  },
  {
   "cell_type": "code",
   "execution_count": null,
   "id": "bb2ff41f",
   "metadata": {},
   "outputs": [],
   "source": [
    "GSEA.data_rank(sett, set_, joinpath(da, \"gene_x_sample_x_score.tsv\"), ou)"
   ]
  },
  {
   "cell_type": "code",
   "execution_count": null,
   "id": "67644dd5",
   "metadata": {},
   "outputs": [],
   "source": [
    "OnePiece.dataframe.print(OnePiece.table.read(joinpath(ou, \"set_x_sample_x_enrichment.tsv\")))"
   ]
  },
  {
   "cell_type": "markdown",
   "id": "ad242b23",
   "metadata": {},
   "source": [
    "### user_rank and metric_rank"
   ]
  },
  {
   "cell_type": "code",
   "execution_count": null,
   "id": "175df4f3",
   "metadata": {},
   "outputs": [],
   "source": [
    "sc = joinpath(da, \"gene_x_sample_x_score.tsv\")\n",
    "\n",
    "me = \"gene_x_metric_x_score.tsv\""
   ]
  },
  {
   "cell_type": "code",
   "execution_count": null,
   "id": "18b0a5cc",
   "metadata": {},
   "outputs": [],
   "source": [
    "function print_output(ou)\n",
    "\n",
    "    println(readdir(ou))\n",
    "\n",
    "    OnePiece.dataframe.print(OnePiece.table.read(joinpath(ou, \"set_x_statistic_x_number.tsv\")))\n",
    "\n",
    "    OnePiece.dataframe.print(OnePiece.table.read(joinpath(ou, \"set_x_random_x_enrichment.tsv\")))\n",
    "\n",
    "end"
   ]
  },
  {
   "cell_type": "markdown",
   "id": "20e2e81f",
   "metadata": {},
   "source": [
    "### user_rank"
   ]
  },
  {
   "cell_type": "code",
   "execution_count": null,
   "id": "549e17e2",
   "metadata": {},
   "outputs": [],
   "source": [
    "ou = joinpath(te, \"user_rank\")"
   ]
  },
  {
   "cell_type": "code",
   "execution_count": null,
   "id": "34ee6adb",
   "metadata": {},
   "outputs": [],
   "source": [
    "GSEA.user_rank(sett, set_, joinpath(da, me), ou)"
   ]
  },
  {
   "cell_type": "code",
   "execution_count": null,
   "id": "8e890cd8",
   "metadata": {
    "scrolled": false
   },
   "outputs": [],
   "source": [
    "print_output(ou)"
   ]
  },
  {
   "cell_type": "markdown",
   "id": "aabfe581",
   "metadata": {},
   "source": [
    "### metric_rank"
   ]
  },
  {
   "cell_type": "code",
   "execution_count": null,
   "id": "1f71dca7",
   "metadata": {},
   "outputs": [],
   "source": [
    "ou = joinpath(te, \"metric_rank\")"
   ]
  },
  {
   "cell_type": "code",
   "execution_count": null,
   "id": "067cf9fa",
   "metadata": {},
   "outputs": [],
   "source": [
    "GSEA.metric_rank(sett, set_, joinpath(da, \"target_x_sample_x_number.tsv\"), sc, ou)"
   ]
  },
  {
   "cell_type": "code",
   "execution_count": null,
   "id": "3407a56b",
   "metadata": {},
   "outputs": [],
   "source": [
    "OnePiece.dataframe.print(OnePiece.table.read(joinpath(ou, me)))"
   ]
  },
  {
   "cell_type": "code",
   "execution_count": null,
   "id": "df65e4da",
   "metadata": {},
   "outputs": [],
   "source": [
    "print_output(ou)"
   ]
  },
  {
   "cell_type": "markdown",
   "id": "7f11f736",
   "metadata": {},
   "source": [
    "## sarcopenia"
   ]
  },
  {
   "cell_type": "code",
   "execution_count": null,
   "id": "24dc3e47",
   "metadata": {},
   "outputs": [],
   "source": [
    "using Revise\n",
    "using OnePiece\n",
    "using GSEA"
   ]
  },
  {
   "cell_type": "code",
   "execution_count": null,
   "id": "1536c89c",
   "metadata": {},
   "outputs": [],
   "source": [
    "da = joinpath(@__DIR__, \"sarcopenia\")"
   ]
  },
  {
   "cell_type": "code",
   "execution_count": null,
   "id": "99f46f08",
   "metadata": {},
   "outputs": [],
   "source": [
    "sett = joinpath(da, \"setting.json\")"
   ]
  },
  {
   "cell_type": "code",
   "execution_count": null,
   "id": "17829389",
   "metadata": {},
   "outputs": [],
   "source": [
    "te = joinpath(tempdir(), \"GSEA\")\n",
    "\n",
    "rm(te, recursive=true)\n",
    "\n",
    "mkdir(te)"
   ]
  },
  {
   "cell_type": "code",
   "execution_count": null,
   "id": "618b764d",
   "metadata": {},
   "outputs": [],
   "source": [
    "ke_ar = OnePiece.dict.read(sett)"
   ]
  },
  {
   "cell_type": "code",
   "execution_count": null,
   "id": "dafe934e",
   "metadata": {
    "scrolled": false
   },
   "outputs": [],
   "source": [
    "GSEA.metric_rank(\n",
    "    sett,\n",
    "    joinpath(da, \"set_genes.json\"),\n",
    "    joinpath(da, \"target_x_sample_x_number.tsv\"),\n",
    "    joinpath(da, \"gene_x_sample_x_score.tsv\"),\n",
    "    te,\n",
    ")"
   ]
  },
  {
   "cell_type": "code",
   "execution_count": null,
   "id": "55f1e6de",
   "metadata": {},
   "outputs": [],
   "source": [
    "be = \"$(ke_ar[\"permutation\"])_$(ke_ar[\"number_of_permutations\"])\""
   ]
  },
  {
   "cell_type": "markdown",
   "id": "0c8cd7ba",
   "metadata": {},
   "source": [
    "## metric"
   ]
  },
  {
   "cell_type": "code",
   "execution_count": null,
   "id": "55e30869",
   "metadata": {},
   "outputs": [],
   "source": [
    "ol_ge_st =\n",
    "    OnePiece.table.read(joinpath(da, be, \"ranked_gene_list_0_versus_1.tsv\"))[!, [\"NAME\", \"SCORE\"]]\n",
    "\n",
    "sc_ge_st = OnePiece.table.read(joinpath(te, \"gene_x_metric_x_score.tsv\"))"
   ]
  },
  {
   "cell_type": "code",
   "execution_count": null,
   "id": "6da40360",
   "metadata": {},
   "outputs": [],
   "source": [
    "function ro(re)\n",
    "\n",
    "    round(re, digits = 4)\n",
    "\n",
    "end"
   ]
  },
  {
   "cell_type": "code",
   "execution_count": null,
   "id": "4f66d959",
   "metadata": {},
   "outputs": [],
   "source": [
    "fe_sc = Dict(fe => ro(sc) for (fe, sc) in eachrow(sc_ge_st))\n",
    "\n",
    "println(\"Gene\\tOld\\tNew\")\n",
    "\n",
    "n_mi = 0\n",
    "\n",
    "for (fe, ol) in Dict(fe => ro(sc) for (fe, sc) in eachrow(ol_ge_st))\n",
    "\n",
    "    sc = fe_sc[fe]\n",
    "\n",
    "    if ol != sc\n",
    "\n",
    "        println(\"$fe\\t$ol\\t$sc\")\n",
    "\n",
    "        global n_mi += 1\n",
    "\n",
    "    end\n",
    "\n",
    "end\n",
    "\n",
    "n_fe = size(ol_ge_st, 1)\n",
    "\n",
    "mi = n_mi / n_fe\n",
    "\n",
    "println(\"Missed $n_mi/$n_fe scores ($(ro(mi * 100))%).\")\n",
    "\n",
    "@assert mi < 0.001"
   ]
  },
  {
   "cell_type": "markdown",
   "id": "49e35f7c",
   "metadata": {},
   "source": [
    "## Statistics"
   ]
  },
  {
   "cell_type": "code",
   "execution_count": null,
   "id": "9dbfefa9",
   "metadata": {},
   "outputs": [],
   "source": [
    "function re(id)\n",
    "\n",
    "    OnePiece.table.read(joinpath(da, be, \"gsea_report_for_$id.tsv\"))\n",
    "\n",
    "end"
   ]
  },
  {
   "cell_type": "code",
   "execution_count": null,
   "id": "363ffb6b",
   "metadata": {},
   "outputs": [],
   "source": [
    "ol_se_st = vcat((re(id) for id in [0, 1])...)\n",
    "\n",
    "size(ol_se_st)"
   ]
  },
  {
   "cell_type": "code",
   "execution_count": null,
   "id": "7b3253c7",
   "metadata": {},
   "outputs": [],
   "source": [
    "va_se_st = OnePiece.table.read(joinpath(te, \"set_x_statistic_x_number.tsv\"))\n",
    "\n",
    "size(va_se_st)"
   ]
  },
  {
   "cell_type": "code",
   "execution_count": null,
   "id": "1ebee28d",
   "metadata": {},
   "outputs": [],
   "source": [
    "se_ = ol_se_st[!, 1]\n",
    "\n",
    "@assert isempty(symdiff(se_, va_se_st[!, 1]))"
   ]
  },
  {
   "cell_type": "code",
   "execution_count": null,
   "id": "1cb2f90c",
   "metadata": {},
   "outputs": [],
   "source": [
    "va_se_st = va_se_st[indexin(se_, va_se_st[!, 1]), :]\n",
    "\n",
    "for (nao, nan) in (\n",
    "    (\"ES\", \"Enrichment\"),\n",
    "    (\"NES\", \"Enrichment\"),\n",
    "    (\"NOM p-val\", \"Global pvalue\"),\n",
    "    (\"FDR q-val\", \"Adjusted global pvalue\"),\n",
    ")\n",
    "\n",
    "    OnePiece.figure.plot_x_y(\n",
    "        [ol_se_st[!, nao]],\n",
    "        [va_se_st[!, nan]],\n",
    "        text_ = [se_],\n",
    "        mode_ = [\"markers\"],\n",
    "        la = Dict(\n",
    "            \"title\" => be,\n",
    "            \"xaxis\" => Dict(\"title\" => Dict(\"text\" => nao)),\n",
    "            \"yaxis\" => Dict(\"title\" => Dict(\"text\" => nan)),\n",
    "        ),\n",
    "        ou = joinpath(te, \"$(OnePiece.path.clean(nao)).html\"),\n",
    "    )\n",
    "\n",
    "end"
   ]
  }
 ],
 "metadata": {
  "@webio": {
   "lastCommId": null,
   "lastKernelId": null
  },
  "kernelspec": {
   "display_name": "Julia 1.7.3",
   "language": "julia",
   "name": "julia-1.7"
  },
  "language_info": {
   "file_extension": ".jl",
   "mimetype": "application/julia",
   "name": "julia",
   "version": "1.7.3"
  }
 },
 "nbformat": 4,
 "nbformat_minor": 5
}
