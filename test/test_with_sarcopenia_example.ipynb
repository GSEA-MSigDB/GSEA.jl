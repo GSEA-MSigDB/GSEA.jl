{
 "cells": [
  {
   "cell_type": "code",
   "execution_count": null,
   "id": "b5278817",
   "metadata": {},
   "outputs": [],
   "source": [
    "using Revise\n",
    "using OnePiece\n",
    "using GSEA"
   ]
  },
  {
   "cell_type": "code",
   "execution_count": null,
   "id": "711f4d44",
   "metadata": {},
   "outputs": [],
   "source": [
    "da = joinpath(@__DIR__, \"sarcopenia\")"
   ]
  },
  {
   "cell_type": "code",
   "execution_count": null,
   "id": "c968aa69",
   "metadata": {},
   "outputs": [],
   "source": [
    "sett = joinpath(da, \"setting.json\")"
   ]
  },
  {
   "cell_type": "code",
   "execution_count": null,
   "id": "0ddaa9fe",
   "metadata": {},
   "outputs": [],
   "source": [
    "te = joinpath(tempdir(), \"GSEA\")\n",
    "\n",
    "rm(te, recursive=true)\n",
    "\n",
    "mkdir(te)"
   ]
  },
  {
   "cell_type": "code",
   "execution_count": null,
   "id": "618b764d",
   "metadata": {},
   "outputs": [],
   "source": [
    "ke_ar = OnePiece.dict.read(sett)"
   ]
  },
  {
   "cell_type": "code",
   "execution_count": null,
   "id": "dafe934e",
   "metadata": {
    "scrolled": false
   },
   "outputs": [],
   "source": [
    "GSEA.metric_rank(\n",
    "    sett,\n",
    "    joinpath(da, \"set_genes.json\"),\n",
    "    joinpath(da, \"target_x_sample_x_number.tsv\"),\n",
    "    joinpath(da, \"gene_x_sample_x_score.tsv\"),\n",
    "    te,\n",
    ")"
   ]
  },
  {
   "cell_type": "code",
   "execution_count": null,
   "id": "130f9801",
   "metadata": {},
   "outputs": [],
   "source": [
    "be = \"$(ke_ar[\"permutation\"])_$(ke_ar[\"number_of_permutations\"])\""
   ]
  },
  {
   "cell_type": "markdown",
   "id": "03e98bca",
   "metadata": {},
   "source": [
    "## Metric"
   ]
  },
  {
   "cell_type": "code",
   "execution_count": null,
   "id": "55e30869",
   "metadata": {},
   "outputs": [],
   "source": [
    "ol_ge_st =\n",
    "    OnePiece.table.read(joinpath(da, be, \"ranked_gene_list_0_versus_1.tsv\"))[!, [\"NAME\", \"SCORE\"]]\n",
    "\n",
    "sc_ge_st = OnePiece.table.read(joinpath(te, \"gene_x_metric_x_score.tsv\"))"
   ]
  },
  {
   "cell_type": "code",
   "execution_count": null,
   "id": "6da40360",
   "metadata": {},
   "outputs": [],
   "source": [
    "function ro(re)\n",
    "\n",
    "    round(re, digits = 4)\n",
    "\n",
    "end"
   ]
  },
  {
   "cell_type": "code",
   "execution_count": null,
   "id": "4f66d959",
   "metadata": {},
   "outputs": [],
   "source": [
    "fe_sc = Dict(fe => ro(sc) for (fe, sc) in eachrow(sc_ge_st))\n",
    "\n",
    "println(\"Gene\\tOld\\tNew\")\n",
    "\n",
    "n_mi = 0\n",
    "\n",
    "for (fe, ol) in Dict(fe => ro(sc) for (fe, sc) in eachrow(ol_ge_st))\n",
    "\n",
    "    sc = fe_sc[fe]\n",
    "\n",
    "    if ol != sc\n",
    "\n",
    "        println(\"$fe\\t$ol\\t$sc\")\n",
    "\n",
    "        global n_mi += 1\n",
    "\n",
    "    end\n",
    "\n",
    "end\n",
    "\n",
    "n_fe = size(ol_ge_st, 1)\n",
    "\n",
    "mi = n_mi / n_fe\n",
    "\n",
    "println(\"Missed $n_mi/$n_fe scores ($(ro(mi * 100))%).\")\n",
    "\n",
    "@assert mi < 0.001"
   ]
  },
  {
   "cell_type": "markdown",
   "id": "7be6f2e1",
   "metadata": {},
   "source": [
    "## Statistics"
   ]
  },
  {
   "cell_type": "code",
   "execution_count": null,
   "id": "8bbf5db5",
   "metadata": {},
   "outputs": [],
   "source": [
    "function re(id)\n",
    "\n",
    "    OnePiece.table.read(joinpath(da, be, \"gsea_report_for_$id.tsv\"))\n",
    "\n",
    "end"
   ]
  },
  {
   "cell_type": "code",
   "execution_count": null,
   "id": "4e1f4839",
   "metadata": {},
   "outputs": [],
   "source": [
    "ol_se_st = vcat((re(id) for id in [0, 1])...)\n",
    "\n",
    "size(ol_se_st)"
   ]
  },
  {
   "cell_type": "code",
   "execution_count": null,
   "id": "ba69beab",
   "metadata": {},
   "outputs": [],
   "source": [
    "va_se_st = OnePiece.table.read(joinpath(te, \"set_x_statistic_x_number.tsv\"))\n",
    "\n",
    "size(va_se_st)"
   ]
  },
  {
   "cell_type": "code",
   "execution_count": null,
   "id": "177a511f",
   "metadata": {},
   "outputs": [],
   "source": [
    "se_ = ol_se_st[!, 1]\n",
    "\n",
    "@assert isempty(symdiff(se_, va_se_st[!, 1]))"
   ]
  },
  {
   "cell_type": "code",
   "execution_count": null,
   "id": "4562cbbc",
   "metadata": {},
   "outputs": [],
   "source": [
    "va_se_st = va_se_st[indexin(se_, va_se_st[!, 1]), :]\n",
    "\n",
    "for (nao, nan) in (\n",
    "    (\"ES\", \"Enrichment\"),\n",
    "    (\"NES\", \"Enrichment\"),\n",
    "    (\"NOM p-val\", \"Global pvalue\"),\n",
    "    (\"FDR q-val\", \"Adjusted global pvalue\"),\n",
    ")\n",
    "\n",
    "    OnePiece.figure.plot_x_y(\n",
    "        [ol_se_st[!, nao]],\n",
    "        [va_se_st[!, nan]],\n",
    "        text_ = [se_],\n",
    "        mode_ = [\"markers\"],\n",
    "        la = Dict(\n",
    "            \"title\" => be,\n",
    "            \"xaxis\" => Dict(\"title\" => Dict(\"text\" => nao)),\n",
    "            \"yaxis\" => Dict(\"title\" => Dict(\"text\" => nan)),\n",
    "        ),\n",
    "        ou = joinpath(te, \"$(OnePiece.path.clean(nao)).html\"),\n",
    "    )\n",
    "\n",
    "end"
   ]
  }
 ],
 "metadata": {
  "@webio": {
   "lastCommId": null,
   "lastKernelId": null
  },
  "kernelspec": {
   "display_name": "Julia 1.7.3",
   "language": "julia",
   "name": "julia-1.7"
  },
  "language_info": {
   "file_extension": ".jl",
   "mimetype": "application/julia",
   "name": "julia",
   "version": "1.7.3"
  }
 },
 "nbformat": 4,
 "nbformat_minor": 5
}
